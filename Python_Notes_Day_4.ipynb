{
  "nbformat": 4,
  "nbformat_minor": 0,
  "metadata": {
    "colab": {
      "provenance": [],
      "authorship_tag": "ABX9TyMxTHUmCQpmf7+iFpz7ozba",
      "include_colab_link": true
    },
    "kernelspec": {
      "name": "python3",
      "display_name": "Python 3"
    },
    "language_info": {
      "name": "python"
    }
  },
  "cells": [
    {
      "cell_type": "markdown",
      "metadata": {
        "id": "view-in-github",
        "colab_type": "text"
      },
      "source": [
        "<a href=\"https://colab.research.google.com/github/kalashjain9/Python-Notes/blob/main/Python_Notes_Day_4.ipynb\" target=\"_parent\"><img src=\"https://colab.research.google.com/assets/colab-badge.svg\" alt=\"Open In Colab\"/></a>"
      ]
    },
    {
      "cell_type": "markdown",
      "source": [
        "# ***Day 5: The Power Trio - Lambda, Map, Filter & Argument Awesomeness!***\n",
        "\n",
        "Today, we're going to explore some really cool and powerful tools in Python that help us write more concise and efficient code. Think of them as shortcuts and super-powers for your functions!"
      ],
      "metadata": {
        "id": "VC8YR50RwwFf"
      }
    },
    {
      "cell_type": "markdown",
      "source": [
        "# ***1. Lambda Functions: The Speedy, Anonymous Helpers!***\n",
        "\n",
        "Imagine you need a tiny, one-off function for a very specific task. You don't want to go through the whole process of defining it with def, giving it a name, and then using it. That's where lambda functions come in! They are like disposable functions – quick to create and perfect for immediate use.\n",
        "\n",
        "# ***Theory: What are they?***\n",
        "\n",
        "A lambda function is a small, anonymous function. \"Anonymous\" means it doesn't have a name, unlike regular functions you define with def. It can take any number of arguments, but can only have one expression. The result of this expression is what the lambda function returns.\n",
        "\n",
        "**Why use them?**\n",
        "\n",
        "**Conciseness**: They are perfect for short, simple operations.\n",
        "\n",
        "**Convenience**: Great when you need a function for a very specific, limited scope, like passing it as an argument to another function (which we'll see with map and filter).\n",
        "\n",
        "**Readability (for simple cases)**: Sometimes, using a lambda can make your code more readable by keeping the function definition right where it's used."
      ],
      "metadata": {
        "id": "PXuaG5x1wzfp"
      }
    },
    {
      "cell_type": "markdown",
      "source": [
        "# ***Syntax:***\n",
        "\n",
        "The syntax is surprisingly simple:\n",
        "\n",
        "`lambda arguments: expression`\n",
        "\n",
        "**lambda**: This keyword tells Python you're creating a lambda function.\n",
        "\n",
        "**arguments**: These are the inputs your function will take, just like parameters in a regular function (e.g., x, a, b, name).\n",
        "\n",
        "**expression**: This is the single operation the lambda function performs. The result of this expression is automatically returned."
      ],
      "metadata": {
        "id": "057GMnjUw-r7"
      }
    },
    {
      "cell_type": "markdown",
      "source": [
        "***Real-Life Analogy:***\n",
        "\n",
        "Think of lambda functions like disposable sticky notes. You quickly jot down a small task (\"Add 5 to this number,\" \"Check if this is even\"), use it once or twice, and then you don't need it cluttering your desk anymore. You wouldn't use a formal, bound notebook (a def function) for such a small, temporary note.\n",
        "\n",
        "***Fun & Easy Examples:***"
      ],
      "metadata": {
        "id": "64o9IIq2xIZ5"
      }
    },
    {
      "cell_type": "code",
      "source": [
        "#Simple Addition:\n",
        "add_five = lambda x: x + 5\n",
        "print(add_five(10)) # Output: 15\n",
        "print(add_five(3))  # Output: 8\n",
        "\n",
        "#Explanation: This lambda takes one argument x and returns x + 5."
      ],
      "metadata": {
        "colab": {
          "base_uri": "https://localhost:8080/"
        },
        "id": "Q-O-L1T3xOXg",
        "outputId": "ed8ae960-5d75-47ed-9942-470043c8fd32"
      },
      "execution_count": 1,
      "outputs": [
        {
          "output_type": "stream",
          "name": "stdout",
          "text": [
            "15\n",
            "8\n"
          ]
        }
      ]
    },
    {
      "cell_type": "code",
      "source": [
        "#Checking Even/Odd:\n",
        "\n",
        "is_even = lambda num: num % 2 == 0\n",
        "print(is_even(4))  # Output: True\n",
        "print(is_even(7))  # Output: False\n",
        "\n",
        "#Explanation: It checks if a num is perfectly divisible by 2."
      ],
      "metadata": {
        "colab": {
          "base_uri": "https://localhost:8080/"
        },
        "id": "x-3ZWtBNxWdx",
        "outputId": "386f7f69-ee13-4753-cc6d-9426278ccd5e"
      },
      "execution_count": 2,
      "outputs": [
        {
          "output_type": "stream",
          "name": "stdout",
          "text": [
            "True\n",
            "False\n"
          ]
        }
      ]
    },
    {
      "cell_type": "code",
      "source": [
        "#String Manipulation (Uppercase):\n",
        "\n",
        "to_uppercase = lambda s: s.upper()\n",
        "print(to_uppercase(\"hello world\")) # Output: HELLO WORLD\n",
        "print(to_uppercase(\"python\"))      # Output: PYTHON\n",
        "\n",
        "#Explanation: It takes a string s and converts it to uppercase."
      ],
      "metadata": {
        "colab": {
          "base_uri": "https://localhost:8080/"
        },
        "id": "7bw520jtxbI8",
        "outputId": "ec9557b4-2d1f-4562-e999-266fbefe5e6d"
      },
      "execution_count": 3,
      "outputs": [
        {
          "output_type": "stream",
          "name": "stdout",
          "text": [
            "HELLO WORLD\n",
            "PYTHON\n"
          ]
        }
      ]
    },
    {
      "cell_type": "code",
      "source": [
        "#Multiplication with Two Arguments:\n",
        "\n",
        "multiply = lambda a, b: a * b\n",
        "print(multiply(5, 4)) # Output: 20\n",
        "print(multiply(2, 9)) # Output: 18\n",
        "\n",
        "#Explanation: This lambda takes two arguments a and b and returns their product.\n",
        "\n"
      ],
      "metadata": {
        "colab": {
          "base_uri": "https://localhost:8080/"
        },
        "id": "DXE40oHYxg3i",
        "outputId": "662d54b5-507a-41f9-ba49-341ffdab2c7b"
      },
      "execution_count": 4,
      "outputs": [
        {
          "output_type": "stream",
          "name": "stdout",
          "text": [
            "20\n",
            "18\n"
          ]
        }
      ]
    },
    {
      "cell_type": "code",
      "source": [
        "#Conditional Check (Positive/Negative):\n",
        "\n",
        "check_sign = lambda num: \"Positive\" if num > 0 else (\"Negative\" if num < 0 else \"Zero\")\n",
        "print(check_sign(10))  # Output: Positive\n",
        "print(check_sign(-5))  # Output: Negative\n",
        "print(check_sign(0))   # Output: Zero\n",
        "\n",
        "#Explanation: A slightly more complex lambda using a conditional expression (ternary operator)."
      ],
      "metadata": {
        "colab": {
          "base_uri": "https://localhost:8080/"
        },
        "id": "v-MRs8vAxnD2",
        "outputId": "c5cb0a1c-8bf5-4b17-859b-8eb607102023"
      },
      "execution_count": 5,
      "outputs": [
        {
          "output_type": "stream",
          "name": "stdout",
          "text": [
            "Positive\n",
            "Negative\n",
            "Zero\n"
          ]
        }
      ]
    },
    {
      "cell_type": "code",
      "source": [
        "#Calculating Area of a Rectangle:\n",
        "\n",
        "area_rectangle = lambda length, width: length * width\n",
        "print(area_rectangle(7, 3)) # Output: 21\n",
        "print(area_rectangle(10, 5)) # Output: 50\n",
        "\n",
        "#Explanation: Takes length and width, returns the calculated area."
      ],
      "metadata": {
        "colab": {
          "base_uri": "https://localhost:8080/"
        },
        "id": "p5dJUh9qxtgm",
        "outputId": "e95f1471-6ea9-4428-e46c-09cb4f7210e7"
      },
      "execution_count": 6,
      "outputs": [
        {
          "output_type": "stream",
          "name": "stdout",
          "text": [
            "21\n",
            "50\n"
          ]
        }
      ]
    },
    {
      "cell_type": "markdown",
      "source": [
        "# ***2. Map and Filter: Iteration Powerhouses!***\n",
        "\n",
        "Now, let's look at map and filter, which are often used with lambda functions. They are incredibly useful for performing operations on entire collections of data (like lists, tuples, etc.) without writing explicit loops.\n",
        "\n",
        "# ***2.1. Map: Applying a Transformation to Every Item***\n",
        "\n",
        "The map() function applies a given function to every item in an iterable (like a list) and returns an iterator that yields the results. It's like saying, \"Hey, take this recipe, and apply it to every single ingredient in this basket!\"\n",
        "\n",
        "***Theory: What is it?***\n",
        "\n",
        "***Syntax*** :\n",
        "\n",
        "`map(function, iterable)`\n",
        "\n",
        "**function**: The function you want to apply to each item. This can be a regular function or, very commonly, a lambda function.\n",
        "\n",
        "**iterable**: The sequence of items (e.g., list, tuple) that you want to transform.\n",
        "\n",
        "map returns a map object, which is an iterator. This means it doesn't immediately compute all the results and store them in memory. Instead, it computes them on demand as you iterate over it (e.g., convert it to a list). This is memory-efficient for large datasets!\n",
        "\n",
        "**Real-Life Analogy:**\n",
        "\n",
        "Imagine you have a basket full of raw potatoes, and you want to turn all of them into mashed potatoes. You have a \"mash\" function (your function argument), and the basket of potatoes is your iterable. map ensures that every single potato gets mashed.\n",
        "\n",
        "**Fun & Easy Examples:**"
      ],
      "metadata": {
        "id": "aKKqLX-tx0MA"
      }
    },
    {
      "cell_type": "code",
      "source": [
        "#Doubling Numbers in a List:\n",
        "\n",
        "numbers = [1, 2, 3, 4, 5]\n",
        "doubled_numbers = list(map(lambda x: x * 2, numbers))\n",
        "print(doubled_numbers) # Output: [2, 4, 6, 8, 10]\n",
        "\n",
        "#Explanation: We apply the lambda (multiply by 2) to each number in the numbers list."
      ],
      "metadata": {
        "colab": {
          "base_uri": "https://localhost:8080/"
        },
        "id": "-hEzkptfxxdd",
        "outputId": "da986f6e-1143-44eb-8975-dadfb1cba61d"
      },
      "execution_count": 7,
      "outputs": [
        {
          "output_type": "stream",
          "name": "stdout",
          "text": [
            "[2, 4, 6, 8, 10]\n"
          ]
        }
      ]
    },
    {
      "cell_type": "code",
      "source": [
        "#Converting Temperatures from Celsius to Fahrenheit:\n",
        "#(Formula: F=C times9/5+32)\n",
        "\n",
        "celsius_temps = [0, 10, 20, 30]\n",
        "fahrenheit_temps = list(map(lambda c: (c * 9/5) + 32, celsius_temps))\n",
        "print(fahrenheit_temps) # Output: [32.0, 50.0, 68.0, 86.0]\n",
        "\n",
        "#Explanation: Each Celsius temperature is converted to Fahrenheit using the formula."
      ],
      "metadata": {
        "colab": {
          "base_uri": "https://localhost:8080/"
        },
        "id": "FsRQUYXNyUc5",
        "outputId": "1c090294-e0c6-4a31-87e6-c9f90ce702ad"
      },
      "execution_count": 10,
      "outputs": [
        {
          "output_type": "stream",
          "name": "stdout",
          "text": [
            "[32.0, 50.0, 68.0, 86.0]\n"
          ]
        }
      ]
    },
    {
      "cell_type": "code",
      "source": [
        "#Squaring Numbers (using a named function for map):\n",
        "\n",
        "def square(num):\n",
        "    return num * num\n",
        "\n",
        "numbers = [1, 2, 3, 4, 5]\n",
        "squared_numbers = list(map(square, numbers))\n",
        "print(squared_numbers) # Output: [1, 4, 9, 16, 25]\n",
        "\n",
        "#Explanation: Demonstrates using a regular named function with map."
      ],
      "metadata": {
        "colab": {
          "base_uri": "https://localhost:8080/"
        },
        "id": "A8qKlWSdyjZY",
        "outputId": "a4f330e4-01f4-4c62-bd88-68ebe4e97c9b"
      },
      "execution_count": 11,
      "outputs": [
        {
          "output_type": "stream",
          "name": "stdout",
          "text": [
            "[1, 4, 9, 16, 25]\n"
          ]
        }
      ]
    },
    {
      "cell_type": "code",
      "source": [
        "#Adding a Prefix to Names:\n",
        "\n",
        "names = [\"Alice\", \"Bob\", \"Charlie\"]\n",
        "prefixed_names = list(map(lambda name: \"Mr./Ms. \" + name, names))\n",
        "print(prefixed_names) # Output: ['Mr./Ms. Alice', 'Mr./Ms. Bob', 'Mr./Ms. Charlie']\n",
        "\n",
        "#Explanation: Each name gets the \"Mr./Ms.\" prefix added."
      ],
      "metadata": {
        "colab": {
          "base_uri": "https://localhost:8080/"
        },
        "id": "29nfZ1qcyscA",
        "outputId": "afc86678-d8ea-4162-c90e-817c5fd8d585"
      },
      "execution_count": 12,
      "outputs": [
        {
          "output_type": "stream",
          "name": "stdout",
          "text": [
            "['Mr./Ms. Alice', 'Mr./Ms. Bob', 'Mr./Ms. Charlie']\n"
          ]
        }
      ]
    },
    {
      "cell_type": "code",
      "source": [
        "#Calculating Length of Each Word:\n",
        "\n",
        "words = [\"apple\", \"banana\", \"kiwi\", \"grape\"]\n",
        "word_lengths = list(map(len, words))\n",
        "print(word_lengths) # Output: [5, 6, 4, 5]\n",
        "\n",
        "#Explanation: The built-in len function is applied to each word."
      ],
      "metadata": {
        "colab": {
          "base_uri": "https://localhost:8080/"
        },
        "id": "WQ4m-zgzyw5a",
        "outputId": "6c286d5d-db74-4bf6-98d9-69e18af3bd02"
      },
      "execution_count": 13,
      "outputs": [
        {
          "output_type": "stream",
          "name": "stdout",
          "text": [
            "[5, 6, 4, 5]\n"
          ]
        }
      ]
    },
    {
      "cell_type": "code",
      "source": [
        "#Converting List of Strings to Integers:\n",
        "\n",
        "string_numbers = [\"10\", \"25\", \"7\", \"42\"]\n",
        "integer_numbers = list(map(int, string_numbers))\n",
        "print(integer_numbers) # Output: [10, 25, 7, 42]\n",
        "\n",
        "#Explanation: The built-in int() function converts each string to an integer."
      ],
      "metadata": {
        "colab": {
          "base_uri": "https://localhost:8080/"
        },
        "id": "W4VVww3Xy0xO",
        "outputId": "9342cbf5-4b1e-42ad-a735-47d1cb7215bd"
      },
      "execution_count": 14,
      "outputs": [
        {
          "output_type": "stream",
          "name": "stdout",
          "text": [
            "[10, 25, 7, 42]\n"
          ]
        }
      ]
    },
    {
      "cell_type": "markdown",
      "source": [
        "# ***2.2. Filter: Selecting Items Based on a Condition***\n",
        "\n",
        "The **filter()** function constructs an iterator from elements of an iterable for which a function returns true. It's like saying, \"From this big pile of items, only pick out the ones that meet a certain criteria!\"\n",
        "\n",
        "***Theory: What is it?***\n",
        "\n",
        "**Syntax** :\n",
        "\n",
        "`filter(function, iterable)`\n",
        "\n",
        "**function**: The function that tests each item. It must return a boolean value (True or False). Only items for which the function returns True will be included in the result. Again, this can be a regular function or a lambda.\n",
        "\n",
        "**iterable**: The sequence of items you want to filter.\n",
        "\n",
        "Similar to map, filter also returns a filter object, which is an iterator. The filtering happens on demand.\n",
        "\n",
        "***Real-Life Analogy:***\n",
        "\n",
        "Imagine you have a big basket of mixed fruits, and you only want to pick out the red apples. You have a \"is_red_apple\" test (your function argument), and the basket of fruits is your iterable. filter goes through each fruit and only lets the red apples pass through.\n",
        "\n",
        "***Fun & Easy Examples***:"
      ],
      "metadata": {
        "id": "rddKlGUEy7WQ"
      }
    },
    {
      "cell_type": "code",
      "source": [
        "#Filtering Even Numbers:\n",
        "\n",
        "numbers = [1, 2, 3, 4, 5, 6, 7, 8, 9, 10]\n",
        "even_numbers = list(filter(lambda x: x % 2 == 0, numbers))\n",
        "print(even_numbers) # Output: [2, 4, 6, 8, 10]\n",
        "\n",
        "#Explanation: The lambda checks if a number is even; only even numbers are kept."
      ],
      "metadata": {
        "colab": {
          "base_uri": "https://localhost:8080/"
        },
        "id": "aVrj0B_Ry4zc",
        "outputId": "2f25c058-b6d7-42a7-e73f-bf5cccc470db"
      },
      "execution_count": 15,
      "outputs": [
        {
          "output_type": "stream",
          "name": "stdout",
          "text": [
            "[2, 4, 6, 8, 10]\n"
          ]
        }
      ]
    },
    {
      "cell_type": "code",
      "source": [
        "#Filtering Words Longer Than 5 Characters:\n",
        "\n",
        "words = [\"apple\", \"banana\", \"kiwi\", \"grape\", \"orange\", \"pear\"]\n",
        "long_words = list(filter(lambda word: len(word) > 5, words))\n",
        "print(long_words) # Output: ['banana', 'orange']\n",
        "\n",
        "#Explanation: The lambda checks the length of each word; only words longer than 5 are kept."
      ],
      "metadata": {
        "colab": {
          "base_uri": "https://localhost:8080/"
        },
        "id": "Sb84gz4ZzLGn",
        "outputId": "133655c1-74b1-44cf-8134-b889a017485a"
      },
      "execution_count": 16,
      "outputs": [
        {
          "output_type": "stream",
          "name": "stdout",
          "text": [
            "['banana', 'orange']\n"
          ]
        }
      ]
    },
    {
      "cell_type": "code",
      "source": [
        "#Filtering Positive Numbers:\n",
        "\n",
        "temperatures = [-5, 0, 10, -2, 25, -100]\n",
        "positive_temps = list(filter(lambda temp: temp > 0, temperatures))\n",
        "print(positive_temps) # Output: [10, 25]\n",
        "\n",
        "#Explanation: Only temperatures greater than 0 are kept."
      ],
      "metadata": {
        "colab": {
          "base_uri": "https://localhost:8080/"
        },
        "id": "7UiVzbD7zUDT",
        "outputId": "b2672f99-81d0-4e48-a007-a2edcd393280"
      },
      "execution_count": 17,
      "outputs": [
        {
          "output_type": "stream",
          "name": "stdout",
          "text": [
            "[10, 25]\n"
          ]
        }
      ]
    },
    {
      "cell_type": "code",
      "source": [
        "#Filtering Students Who Passed (Score >= 60):\n",
        "\n",
        "scores = [45, 78, 92, 30, 60, 55]\n",
        "passing_scores = list(filter(lambda score: score >= 60, scores))\n",
        "print(passing_scores) # Output: [78, 92, 60]\n",
        "\n",
        "#Explanation: Only scores that are 60 or higher are kept."
      ],
      "metadata": {
        "colab": {
          "base_uri": "https://localhost:8080/"
        },
        "id": "ESN1ISwLzXG7",
        "outputId": "6c6b2fb1-9a22-4199-d2f7-bce2cf341c83"
      },
      "execution_count": 18,
      "outputs": [
        {
          "output_type": "stream",
          "name": "stdout",
          "text": [
            "[78, 92, 60]\n"
          ]
        }
      ]
    },
    {
      "cell_type": "code",
      "source": [
        "#Filtering Non-Empty Strings:\n",
        "\n",
        "messages = [\"hello\", \"\", \"world\", \" \", \"python\"]\n",
        "valid_messages = list(filter(lambda msg: msg.strip() != \"\", messages))\n",
        "print(valid_messages) # Output: ['hello', 'world', 'python']\n",
        "\n",
        "#Explanation: strip() removes leading/trailing whitespace; we filter out empty strings or strings with only whitespace."
      ],
      "metadata": {
        "colab": {
          "base_uri": "https://localhost:8080/"
        },
        "id": "YbjlB_jRzcqy",
        "outputId": "74b6dba5-214a-4667-e44a-b90471f19533"
      },
      "execution_count": 19,
      "outputs": [
        {
          "output_type": "stream",
          "name": "stdout",
          "text": [
            "['hello', 'world', 'python']\n"
          ]
        }
      ]
    },
    {
      "cell_type": "code",
      "source": [
        "#Filtering Prime Numbers (a slightly more involved example):\n",
        "\n",
        "def is_prime(n):\n",
        "    if n < 2:\n",
        "        return False\n",
        "    for i in range(2, int(n**0.5) + 1):\n",
        "        if n % i == 0:\n",
        "            return False\n",
        "    return True\n",
        "\n",
        "numbers = [1, 2, 3, 4, 5, 6, 7, 8, 9, 10, 11]\n",
        "prime_numbers = list(filter(is_prime, numbers))\n",
        "print(prime_numbers) # Output: [2, 3, 5, 7, 11]\n",
        "\n",
        "#Explanation: We use a regular function is_prime to check each number, and filter keeps only the ones that are prime."
      ],
      "metadata": {
        "colab": {
          "base_uri": "https://localhost:8080/"
        },
        "id": "ksrSsbQQzuFB",
        "outputId": "a64ee210-1aff-4443-b728-760ba0964076"
      },
      "execution_count": 20,
      "outputs": [
        {
          "output_type": "stream",
          "name": "stdout",
          "text": [
            "[2, 3, 5, 7, 11]\n"
          ]
        }
      ]
    },
    {
      "cell_type": "markdown",
      "source": [
        "# ***3. Function Arguments: The Art of Passing Information!***\n",
        "\n",
        "Functions are useless if they can't interact with data. Arguments are how you pass information into your functions, making them flexible and reusable. Understanding different argument types is crucial for writing robust and adaptable code.\n",
        "\n",
        "# ***Theory: Parameters vs. Arguments - What's the Difference?***\n",
        "\n",
        "This is a common point of confusion, but it's simple once you get it!\n",
        "\n",
        "***Parameters***: These are the names listed inside the parentheses in the function definition. They act as placeholders for the values that will be passed into the function.\n",
        "\n",
        "***Example***: In def greet(name):, name is a parameter.\n",
        "\n",
        "***Arguments***: These are the actual values that are passed to the function when it is called.\n",
        "\n",
        "***Example***: In greet(\"Alice\"), \"Alice\" is an argument.\n",
        "\n",
        "# ***Types of Function Arguments:***\n",
        "\n",
        "Let's break down the different ways you can pass arguments to a function:\n",
        "\n",
        "# ***3.1. Positional Arguments: Order Matters!***\n",
        "\n",
        "***Theory***:\n",
        "\n",
        "When you call a function, positional arguments are matched to parameters based on their order (position) in the function call. The first argument goes to the first parameter, the second argument to the second parameter, and so on.\n",
        "\n",
        "***Real-Life Analogy:***\n",
        "\n",
        "Imagine you're giving instructions to a chef: \"First, add the sugar, then add the flour.\" The chef will always add sugar first because you specified it first, regardless of what's written on the sugar packet. The order is fixed!\n",
        "\n",
        "***Fun & Easy Examples:***"
      ],
      "metadata": {
        "id": "SytftrMDz5VP"
      }
    },
    {
      "cell_type": "code",
      "source": [
        "#Simple Addition:\n",
        "\n",
        "\n",
        "def add_numbers(num1, num2):\n",
        "    return num1 + num2\n",
        "\n",
        "result = add_numbers(10, 5) # 10 goes to num1, 5 goes to num2\n",
        "print(result) # Output: 15\n",
        "\n",
        "result = add_numbers(5, 10) # Order swapped, result is still 15, but assignment is different\n",
        "print(result) # Output: 15\n",
        "\n",
        "#Explanation: 10 is passed as the first argument, so it's assigned to num1. 5 is the second, assigned to num2."
      ],
      "metadata": {
        "colab": {
          "base_uri": "https://localhost:8080/"
        },
        "id": "vMKIGxg7z09Y",
        "outputId": "974e9c39-9421-436e-9daf-5e3dcd7c0400"
      },
      "execution_count": 21,
      "outputs": [
        {
          "output_type": "stream",
          "name": "stdout",
          "text": [
            "15\n",
            "15\n"
          ]
        }
      ]
    },
    {
      "cell_type": "code",
      "source": [
        "#Greeting with Full Name:\n",
        "\n",
        "def greet_full_name(first_name, last_name):\n",
        "    return f\"Hello, {first_name} {last_name}!\"\n",
        "\n",
        "print(greet_full_name(\"John\", \"Doe\")) # John -> first_name, Doe -> last_name\n",
        "print(greet_full_name(\"Doe\", \"John\")) # This would greet \"Hello, Doe John!\" - order matters!\n",
        "\n",
        "#Explanation: The order directly determines which part of the name gets assigned to which parameter."
      ],
      "metadata": {
        "colab": {
          "base_uri": "https://localhost:8080/"
        },
        "id": "DSJw9KNs0Ori",
        "outputId": "3cb0d6b4-9bfa-464d-f608-1d513035bc05"
      },
      "execution_count": 23,
      "outputs": [
        {
          "output_type": "stream",
          "name": "stdout",
          "text": [
            "Hello, John Doe!\n",
            "Hello, Doe John!\n"
          ]
        }
      ]
    },
    {
      "cell_type": "code",
      "source": [
        "#Simple Division:\n",
        "\n",
        "def divide(numerator, denominator):\n",
        "    if denominator == 0:\n",
        "        return \"Cannot divide by zero!\"\n",
        "    return numerator / denominator\n",
        "\n",
        "print(divide(10, 2)) # 10 for numerator, 2 for denominator\n",
        "print(divide(2, 10)) # 2 for numerator, 10 for denominator\n",
        "\n",
        "#Explanation: The first argument is always the dividend, the second is always the divisor."
      ],
      "metadata": {
        "colab": {
          "base_uri": "https://localhost:8080/"
        },
        "id": "qBoqhOx50W3C",
        "outputId": "c238e03c-4051-4a9c-8a62-fef1bd7f6569"
      },
      "execution_count": 25,
      "outputs": [
        {
          "output_type": "stream",
          "name": "stdout",
          "text": [
            "5.0\n",
            "0.2\n"
          ]
        }
      ]
    },
    {
      "cell_type": "markdown",
      "source": [
        "# ***3.2. Keyword Arguments: Naming Your Inputs!***\n",
        "\n",
        "***Theory:***\n",
        "\n",
        "With keyword arguments, you explicitly state which parameter an argument should be assigned to by using the parameter's name followed by an equals sign (=). The order of keyword arguments in the function call doesn't matter.\n",
        "\n",
        "***Real-Life Analogy:***\n",
        "\n",
        "Instead of saying \"First, add the sugar, then the flour,\" you say, \"Add sugar = 2 cups, and flour = 3 cups.\" Now, you can say \"Add flour = 3 cups, and sugar = 2 cups\" and the chef will still know exactly what goes where, because you're labeling each ingredient explicitly!\n",
        "\n",
        "***Fun & Easy Examples:***"
      ],
      "metadata": {
        "id": "mSjV89ry0noY"
      }
    },
    {
      "cell_type": "code",
      "source": [
        "#Greeting with Full Name (revisited):\n",
        "\n",
        "def greet_full_name(first_name, last_name):\n",
        "    return f\"Hello, {first_name} {last_name}!\"\n",
        "\n",
        "print(greet_full_name(first_name=\"Alice\", last_name=\"Smith\")) # Clear!\n",
        "print(greet_full_name(last_name=\"Smith\", first_name=\"Alice\")) # Order doesn't matter!\n",
        "\n",
        "#Explanation: By naming first_name and last_name, Python knows exactly where to put the values, regardless of the order in the call."
      ],
      "metadata": {
        "colab": {
          "base_uri": "https://localhost:8080/"
        },
        "id": "7L9diCSH0hDh",
        "outputId": "88a2254a-d995-4888-ad6b-2176845210be"
      },
      "execution_count": 26,
      "outputs": [
        {
          "output_type": "stream",
          "name": "stdout",
          "text": [
            "Hello, Alice Smith!\n",
            "Hello, Alice Smith!\n"
          ]
        }
      ]
    },
    {
      "cell_type": "code",
      "source": [
        "#Setting Alarm Time:\n",
        "\n",
        "def set_alarm(hour, minute, am_pm=\"AM\"):\n",
        "    return f\"Alarm set for {hour}:{minute:02d} {am_pm}\"\n",
        "\n",
        "print(set_alarm(hour=7, minute=30, am_pm=\"PM\"))\n",
        "print(set_alarm(minute=5, hour=6)) # am_pm defaults to AM\n",
        "\n",
        "#Explanation: Explicitly setting hour, minute, and AM/PM."
      ],
      "metadata": {
        "colab": {
          "base_uri": "https://localhost:8080/"
        },
        "id": "9Qn87dra0u4I",
        "outputId": "2d027db3-3924-44e8-a117-c91f4e011c7a"
      },
      "execution_count": 27,
      "outputs": [
        {
          "output_type": "stream",
          "name": "stdout",
          "text": [
            "Alarm set for 7:30 PM\n",
            "Alarm set for 6:05 AM\n"
          ]
        }
      ]
    },
    {
      "cell_type": "markdown",
      "source": [
        "# ***3.3. Default Arguments: Optional Goodness!***\n",
        "\n",
        "***Theory:***\n",
        "\n",
        "Default arguments allow you to provide a default value for a parameter in the function definition. If the caller doesn't provide an argument for that parameter, the default value is used. If they do provide a value, their value overrides the default. Default arguments must come after any non-default (positional) arguments in the function definition.\n",
        "\n",
        "***Real-Life Analogy:***\n",
        "\n",
        "You order a coffee. By default, it comes with milk and sugar. If you just say \"Coffee,\" you get milk and sugar. But if you say \"Coffee, no milk,\" you override the default milk. Or \"Coffee, extra sugar\" overrides the default sugar.\n",
        "\n",
        "**Fun & Easy Examples:**"
      ],
      "metadata": {
        "id": "gPqGZRNw08ko"
      }
    },
    {
      "cell_type": "code",
      "source": [
        "#Greeting with Optional Salutation:\n",
        "\n",
        "def greet(name, salutation=\"Hello\"):\n",
        "    return f\"{salutation}, {name}!\"\n",
        "\n",
        "print(greet(\"Alice\"))        # Output: Hello, Alice! (uses default \"Hello\")\n",
        "print(greet(\"Bob\", \"Hi\"))    # Output: Hi, Bob! (overrides default)\n",
        "\n",
        "#Explanation: If no salutation is provided, \"Hello\" is used."
      ],
      "metadata": {
        "colab": {
          "base_uri": "https://localhost:8080/"
        },
        "id": "B-91yip_00XH",
        "outputId": "017d3476-583a-471d-ab13-e0d9297ffa20"
      },
      "execution_count": 28,
      "outputs": [
        {
          "output_type": "stream",
          "name": "stdout",
          "text": [
            "Hello, Alice!\n",
            "Hi, Bob!\n"
          ]
        }
      ]
    },
    {
      "cell_type": "code",
      "source": [
        "#Power Calculation with Default Exponent:\n",
        "\n",
        "def power(base, exponent=2):\n",
        "    return base ** exponent\n",
        "\n",
        "print(power(5))     # Output: 25 (5 to the power of 2, default exponent)\n",
        "print(power(5, 3))  # Output: 125 (5 to the power of 3)\n",
        "\n",
        "#Explanation: If exponent isn't given, it defaults to 2 (squaring)."
      ],
      "metadata": {
        "colab": {
          "base_uri": "https://localhost:8080/"
        },
        "id": "AUjHiiyC1J5s",
        "outputId": "ff9b9352-71bb-4940-ec9f-d6fd66d7f58e"
      },
      "execution_count": 29,
      "outputs": [
        {
          "output_type": "stream",
          "name": "stdout",
          "text": [
            "25\n",
            "125\n"
          ]
        }
      ]
    },
    {
      "cell_type": "code",
      "source": [
        "#Booking a Flight:\n",
        "\n",
        "def book_flight(destination, passengers=1, cabin_class=\"Economy\"):\n",
        "    return f\"Booking a flight to {destination} for {passengers} passenger(s) in {cabin_class} class.\"\n",
        "\n",
        "print(book_flight(\"Paris\")) # Default 1 passenger, Economy\n",
        "print(book_flight(\"Tokyo\", passengers=2, cabin_class=\"Business\"))\n",
        "\n",
        "#Explanation: Common settings like number of passengers and class have defaults, but can be changed."
      ],
      "metadata": {
        "colab": {
          "base_uri": "https://localhost:8080/"
        },
        "id": "7pZDOB8t1RrI",
        "outputId": "e0ad4b1c-3a99-47b1-c65a-b270c544b296"
      },
      "execution_count": 30,
      "outputs": [
        {
          "output_type": "stream",
          "name": "stdout",
          "text": [
            "Booking a flight to Paris for 1 passenger(s) in Economy class.\n",
            "Booking a flight to Tokyo for 2 passenger(s) in Business class.\n"
          ]
        }
      ]
    },
    {
      "cell_type": "markdown",
      "source": [
        "# ***3.4. Variable-Length Arguments: Taking Any Number of Inputs!***\n",
        "\n",
        "Sometimes, you don't know in advance how many arguments a function might receive. This is where variable-length arguments come in handy!\n",
        "\n",
        "# ***3.4.1. *args: Arbitrary Positional Arguments***\n",
        "\n",
        "***Theory:***\n",
        "\n",
        "The *args syntax allows a function to accept an arbitrary number of positional arguments. These arguments are collected into a tuple inside the function. The * before the parameter name (e.g., *numbers) is the key. You can name it anything, but args is the common convention.\n",
        "\n",
        "***Real-Life Analogy:***\n",
        "\n",
        "Imagine you're making a fruit salad. You don't know exactly how many different fruits your friends will bring. You just say, \"Bring your favorite fruits!\" Whatever they bring (apples, bananas, grapes, etc.), you'll gather them all into one big fruit basket (the tuple) and add them to the salad.\n",
        "\n",
        "***Fun & Easy Examples:***"
      ],
      "metadata": {
        "id": "KNpxIsU01e-y"
      }
    },
    {
      "cell_type": "code",
      "source": [
        "#Summing Any Number of Integers:\n",
        "\n",
        "def calculate_sum(*numbers):\n",
        "  total = 0\n",
        "  for num in numbers:\n",
        "    total += num\n",
        "  return total\n",
        "\n",
        "print(calculate_sum(1, 2, 3)) # Output: 6\n",
        "print(calculate_sum(10, 20, 30, 40)) # Output: 100\n",
        "print(calculate_sum()) # Output: 0 (empty tuple)\n",
        "\n",
        "\n",
        "#Explanation: numbers becomes a tuple (1, 2, 3) or (10, 20, 30, 40)."
      ],
      "metadata": {
        "colab": {
          "base_uri": "https://localhost:8080/"
        },
        "id": "EGOrSXhi1XP5",
        "outputId": "c438ca2a-f6f3-467c-fce6-00dbdff1effa"
      },
      "execution_count": 33,
      "outputs": [
        {
          "output_type": "stream",
          "name": "stdout",
          "text": [
            "6\n",
            "100\n",
            "0\n"
          ]
        }
      ]
    },
    {
      "cell_type": "code",
      "source": [
        "#Concatenating Multiple Strings:\n",
        "\n",
        "def concatenate_strings(separator=\" \", *words):\n",
        "    return separator.join(words)\n",
        "\n",
        "print(concatenate_strings(\"-\", \"hello\", \"world\", \"python\")) # Output: hello-world-python\n",
        "print(concatenate_strings(\" \", \"Python\", \"is\", \"awesome\"))\n",
        "\n",
        "#Explanation: words collects all the strings, and join puts them together."
      ],
      "metadata": {
        "colab": {
          "base_uri": "https://localhost:8080/"
        },
        "id": "FmR7XEX617TL",
        "outputId": "30d1b17a-d943-4fcb-dd08-9092481bea9c"
      },
      "execution_count": 34,
      "outputs": [
        {
          "output_type": "stream",
          "name": "stdout",
          "text": [
            "hello-world-python\n",
            "Python is awesome\n"
          ]
        }
      ]
    },
    {
      "cell_type": "code",
      "source": [
        "#Finding the Maximum of Any Number of Values:\n",
        "\n",
        "\n",
        "def find_max(*values):\n",
        "    if not values:\n",
        "        return None # Or raise an error\n",
        "    max_val = values[0]\n",
        "    for val in values:\n",
        "        if val > max_val:\n",
        "            max_val = val\n",
        "    return max_val\n",
        "\n",
        "print(find_max(10, 5, 20, 8)) # Output: 20\n",
        "print(find_max(7, 3))        # Output: 7\n",
        "print(find_max())            # Output: None\n",
        "\n",
        "#Explanation: values is a tuple containing all the numbers."
      ],
      "metadata": {
        "colab": {
          "base_uri": "https://localhost:8080/"
        },
        "id": "DQhsaZtH2Gpo",
        "outputId": "a263e86e-a696-428d-c378-7ef544eb621c"
      },
      "execution_count": 35,
      "outputs": [
        {
          "output_type": "stream",
          "name": "stdout",
          "text": [
            "20\n",
            "7\n",
            "None\n"
          ]
        }
      ]
    },
    {
      "cell_type": "code",
      "source": [
        "#Printing a Shopping List:\n",
        "\n",
        "def shopping_list(*items):\n",
        "    if not items:\n",
        "        return \"Your shopping list is empty.\"\n",
        "    list_str = \"Shopping List:\\n\"\n",
        "    for i, item in enumerate(items):\n",
        "        list_str += f\"{i+1}. {item}\\n\"\n",
        "    return list_str\n",
        "\n",
        "print(shopping_list(\"Milk\", \"Bread\", \"Eggs\", \"Butter\"))\n",
        "print(shopping_list())\n",
        "\n",
        "#Explanation: Takes any number of items and formats them as a list."
      ],
      "metadata": {
        "colab": {
          "base_uri": "https://localhost:8080/"
        },
        "id": "KPc7M48Y2LYp",
        "outputId": "b8f86c45-4b68-4ca5-a313-0c72adae4386"
      },
      "execution_count": 36,
      "outputs": [
        {
          "output_type": "stream",
          "name": "stdout",
          "text": [
            "Shopping List:\n",
            "1. Milk\n",
            "2. Bread\n",
            "3. Eggs\n",
            "4. Butter\n",
            "\n",
            "Your shopping list is empty.\n"
          ]
        }
      ]
    },
    {
      "cell_type": "markdown",
      "source": [
        "# ***3.4.2. **kwargs: Arbitrary Keyword Arguments***\n",
        "\n",
        "***Theory***:\n",
        "\n",
        "The `**kwargs` syntax allows a function to accept an arbitrary number of keyword arguments. These arguments are collected into a dictionary inside the function, where the keys are the argument names and the values are their corresponding values. The `**` before the parameter name (e.g., `**`details) is the key. You can name it anything, but kwargs is the common convention.\n",
        "\n",
        "***Real-Life Analogy:***\n",
        "\n",
        "You're setting up a new profile online. There are some mandatory fields (like username), but then there are a bunch of optional fields (city, interests, favorite color, etc.) that you might or might not fill out. The system just collects all these extra labeled pieces of information (key-value pairs) into a profile dictionary.\n",
        "\n",
        "***Fun & Easy Examples:***"
      ],
      "metadata": {
        "id": "5aixM94S2dEB"
      }
    },
    {
      "cell_type": "markdown",
      "source": [
        "# ***Example 1 :Creating a User Profile***\n",
        "\n",
        "Imagine you're making a simple program to store someone's information. You know you'll always have a name, but you want to allow for other optional details like age or city."
      ],
      "metadata": {
        "id": "dc7ywRNw42pe"
      }
    },
    {
      "cell_type": "code",
      "source": [
        "def create_profile(**details):\n",
        "    \"\"\"\n",
        "    Creates a user profile using keyword arguments.\n",
        "    \"\"\"\n",
        "    print(\"--- User Profile ---\")\n",
        "\n",
        "    # **details is a dictionary!\n",
        "    # Let's print everything stored in it.\n",
        "    for key, value in details.items():\n",
        "        print(f\"{key}: {value}\")\n",
        "\n",
        "# Call 1: A profile with a name and age\n",
        "create_profile(name=\"Alice\", age=30)\n",
        "print(\"\\n\")\n",
        "\n",
        "# Call 2: A profile with different details\n",
        "create_profile(name=\"Bob\", city=\"New York\", occupation=\"Developer\")\n"
      ],
      "metadata": {
        "colab": {
          "base_uri": "https://localhost:8080/"
        },
        "id": "sYF4XIB840LV",
        "outputId": "1c3f797b-6a0f-4fa1-edd6-e2961d7d930b"
      },
      "execution_count": 39,
      "outputs": [
        {
          "output_type": "stream",
          "name": "stdout",
          "text": [
            "--- User Profile ---\n",
            "name: Alice\n",
            "age: 30\n",
            "\n",
            "\n",
            "--- User Profile ---\n",
            "name: Bob\n",
            "city: New York\n",
            "occupation: Developer\n"
          ]
        }
      ]
    },
    {
      "cell_type": "markdown",
      "source": [
        "**What's happening?**\n",
        "\n",
        "**details collects all the labeled inputs (name=\"Alice\", age=30, etc.) and puts them into a dictionary.\n",
        "\n",
        "In the first call, details becomes {'name': 'Alice', 'age': 30}.\n",
        "\n",
        "In the second call, it becomes {'name': 'Bob', 'city': 'New York', 'occupation': 'Developer'}.\n",
        "\n",
        "The for loop then just prints out everything from that dictionary. Easy!"
      ],
      "metadata": {
        "id": "2MtF5AbF49bO"
      }
    },
    {
      "cell_type": "markdown",
      "source": [
        "# ***Example 2: Ordering a Pizza***\n",
        "\n",
        "Let's make a function for ordering a pizza with different toppings. The size is fixed, but you can add as many toppings as you want using keywords.\n",
        "\n"
      ],
      "metadata": {
        "id": "hkOScvy54_A3"
      }
    },
    {
      "cell_type": "code",
      "source": [
        "def order_pizza(size=\"Large\", **toppings):\n",
        "    \"\"\"\n",
        "    Orders a pizza with a size and any number of toppings.\n",
        "    \"\"\"\n",
        "    print(f\"You ordered a {size} pizza.\")\n",
        "\n",
        "    # Check if there are any toppings in our **toppings dictionary\n",
        "    if toppings:\n",
        "        print(\"Your toppings are:\")\n",
        "        for topping, quantity in toppings.items():\n",
        "            print(f\"- {quantity} of {topping}\")\n",
        "    else:\n",
        "        print(\"No extra toppings added.\")\n",
        "\n",
        "# Call 1: A plain pizza\n",
        "order_pizza()\n",
        "print(\"\\n\")\n",
        "\n",
        "# Call 2: A pizza with specific toppings\n",
        "order_pizza(mushrooms=\"extra\", cheese=\"extra\")\n",
        "print(\"\\n\")\n",
        "\n",
        "# Call 3: A pizza with different toppings and a size\n",
        "order_pizza(size=\"Medium\", pepperoni=\"lots\", olives=\"some\")\n"
      ],
      "metadata": {
        "colab": {
          "base_uri": "https://localhost:8080/"
        },
        "id": "CqmecOHh5IJG",
        "outputId": "9d1d9c31-c305-435d-b620-f9b9195c7eb3"
      },
      "execution_count": 40,
      "outputs": [
        {
          "output_type": "stream",
          "name": "stdout",
          "text": [
            "You ordered a Large pizza.\n",
            "No extra toppings added.\n",
            "\n",
            "\n",
            "You ordered a Large pizza.\n",
            "Your toppings are:\n",
            "- extra of mushrooms\n",
            "- extra of cheese\n",
            "\n",
            "\n",
            "You ordered a Medium pizza.\n",
            "Your toppings are:\n",
            "- lots of pepperoni\n",
            "- some of olives\n"
          ]
        }
      ]
    },
    {
      "cell_type": "markdown",
      "source": [
        "**What's happening?**\n",
        "\n",
        "**toppings collects any keyword arguments you pass, like mushrooms=\"extra\" or pepperoni=\"lots\".\n",
        "\n",
        "These keywords become the keys in the toppings dictionary.\n",
        "\n",
        "The function checks if the dictionary is empty. If not, it prints out each topping from the dictionary.\n",
        "\n"
      ],
      "metadata": {
        "id": "CEuXssPw5MES"
      }
    },
    {
      "cell_type": "markdown",
      "source": [
        "# ***Example 3: Sending a Message***\n",
        "\n",
        "Imagine a function to send a message. You always need the message text, but you can add optional settings like the recipient's name or if it should be urgent.\n"
      ],
      "metadata": {
        "id": "29DcFnCo5Zsp"
      }
    },
    {
      "cell_type": "code",
      "source": [
        "def send_message(text, **settings):\n",
        "    \"\"\"\n",
        "    Sends a message with a text and optional settings.\n",
        "    \"\"\"\n",
        "    print(f\"Message: '{text}'\")\n",
        "\n",
        "    # **settings holds all the extra, labeled options\n",
        "    if settings:\n",
        "        print(\"Settings:\")\n",
        "        for key, value in settings.items():\n",
        "            print(f\"- {key}: {value}\")\n",
        "\n",
        "# Call 1: A simple message\n",
        "send_message(\"Hello there!\")\n",
        "print(\"\\n\")\n",
        "\n",
        "# Call 2: An urgent message with a recipient\n",
        "send_message(\"Meeting is cancelled.\", recipient=\"Team\", urgent=True)\n",
        "print(\"\\n\")\n",
        "\n",
        "# Call 3: A message with a custom subject\n",
        "send_message(\"Report is ready.\", subject=\"Project Alpha Status\")"
      ],
      "metadata": {
        "colab": {
          "base_uri": "https://localhost:8080/"
        },
        "id": "4AmkxAoJ5fKm",
        "outputId": "733d5897-c63d-4919-868d-0ce1ba02d5f8"
      },
      "execution_count": 41,
      "outputs": [
        {
          "output_type": "stream",
          "name": "stdout",
          "text": [
            "Message: 'Hello there!'\n",
            "\n",
            "\n",
            "Message: 'Meeting is cancelled.'\n",
            "Settings:\n",
            "- recipient: Team\n",
            "- urgent: True\n",
            "\n",
            "\n",
            "Message: 'Report is ready.'\n",
            "Settings:\n",
            "- subject: Project Alpha Status\n"
          ]
        }
      ]
    },
    {
      "cell_type": "markdown",
      "source": [
        "**What's happening?**\n",
        "\n",
        "**settings gathers all the named arguments (recipient=\"Team\", urgent=True, etc.) into a dictionary.\n",
        "\n",
        "The function then simply checks for this dictionary and prints its contents, making it easy to add new settings without changing the function's definition."
      ],
      "metadata": {
        "id": "hHNbcG3a5lCh"
      }
    },
    {
      "cell_type": "code",
      "source": [
        "#Printing User Profile Information:\n",
        "\n",
        "def print_user_info(name, **details):\n",
        "    info = f\"User Name: {name}\\n\"\n",
        "    for key, value in details.items():\n",
        "        info += f\"{key.replace('_', ' ').title()}: {value}\\n\" # Makes keys look nicer\n",
        "    return info\n",
        "\n",
        "print(print_user_info(\"Alice\", age=30, city=\"New York\", occupation=\"Engineer\"))\n",
        "print(print_user_info(\"Bob\", favorite_color=\"blue\"))\n",
        "\n",
        "#Explanation: details becomes a dictionary like {'age': 30, 'city': 'New York', 'occupation': 'Engineer'}."
      ],
      "metadata": {
        "colab": {
          "base_uri": "https://localhost:8080/"
        },
        "id": "o43e58Ut2r05",
        "outputId": "aa3d34c2-e3b8-4710-abe7-13f342b22b97"
      },
      "execution_count": 37,
      "outputs": [
        {
          "output_type": "stream",
          "name": "stdout",
          "text": [
            "User Name: Alice\n",
            "Age: 30\n",
            "City: New York\n",
            "Occupation: Engineer\n",
            "\n",
            "User Name: Bob\n",
            "Favorite Color: blue\n",
            "\n"
          ]
        }
      ]
    },
    {
      "cell_type": "code",
      "source": [
        "#Configuring a Game Character:\n",
        "\n",
        "\n",
        "def create_character(name, character_class, **stats):\n",
        "    char_info = f\"Character: {name}\\nClass: {character_class}\\n\"\n",
        "    for stat, value in stats.items():\n",
        "        char_info += f\"{stat.title()}: {value}\\n\"\n",
        "    return char_info\n",
        "\n",
        "print(create_character(\"Gandalf\", \"Wizard\", health=100, mana=200, strength=10))\n",
        "print(create_character(\"Legolas\", \"Archer\", agility=90, dexterity=85))\n",
        "\n",
        "#Explanation: stats captures all the extra, named attributes for the character."
      ],
      "metadata": {
        "colab": {
          "base_uri": "https://localhost:8080/"
        },
        "id": "5zeuEKXK3GXl",
        "outputId": "65bdecbb-66fe-4daf-d8b8-bcaa4d312186"
      },
      "execution_count": 38,
      "outputs": [
        {
          "output_type": "stream",
          "name": "stdout",
          "text": [
            "Character: Gandalf\n",
            "Class: Wizard\n",
            "Health: 100\n",
            "Mana: 200\n",
            "Strength: 10\n",
            "\n",
            "Character: Legolas\n",
            "Class: Archer\n",
            "Agility: 90\n",
            "Dexterity: 85\n",
            "\n"
          ]
        }
      ]
    },
    {
      "cell_type": "markdown",
      "source": [
        "# ***Crazzy Exercises for Your Brain!***\n",
        "\n",
        "Let's put those concepts to the test with some real-life scenarios!\n",
        "\n",
        "# ***1. Gym Workout Planner (Lambda, Map, Filter):***\n",
        "\n",
        "You have a list of exercises and their estimated calorie burn per minute:\n",
        "exercises = [(\"pushups\", 8), (\"running\", 15), (\"cycling\", 10), (\"plank\", 5), (\"burpees\", 20)]\n",
        "\n",
        "a) Map: Use map and a lambda to calculate the total calories burned for each exercise if done for 30 minutes.\n",
        "\n",
        "b) Filter: Use filter and a lambda to find all exercises that burn more than 12 calories per minute.\n",
        "\n"
      ],
      "metadata": {
        "id": "AM7xdh1m3e_Y"
      }
    },
    {
      "cell_type": "markdown",
      "source": [
        "# ***2. Online Shopping Cart (Function Arguments - Positional, Keyword, Default):***\n",
        "\n",
        "Create a function add_to_cart(item_name, price, quantity=1, discount=0) that simulates adding an item to a shopping cart.\n",
        "\n",
        "a) Positional: Call it with just item_name and price.\n",
        "\n",
        "b) Keyword: Call it, explicitly setting quantity to 3 and discount to 0.10, ensuring clarity.\n",
        "\n",
        "c) Default: Call it with only item_name and price, letting quantity and discount use their defaults."
      ],
      "metadata": {
        "id": "PMZbVK4m3ltB"
      }
    },
    {
      "cell_type": "markdown",
      "source": [
        "# 3. Recipe Ingredient Calculator (*args):\n",
        "\n",
        "Write a function scale_recipe(factor, *ingredients) that takes a scaling factor (e.g., 2 for doubling) and a variable number of ingredients. Each ingredient should be a string like \"2 cups flour\" or \"1 egg\". The function should return a new list of scaled ingredients. Assume the number is always at the beginning.\n",
        "Example: scale_recipe(2, \"2 cups flour\", \"1 egg\") should return [\"4 cups flour\", \"2 egg\"]."
      ],
      "metadata": {
        "id": "x3tbpbVY3wuH"
      }
    },
    {
      "cell_type": "markdown",
      "source": [
        "# 4. Student Grade Book (**kwargs):\n",
        "\n",
        "Create a function display_student_grades(student_name, **subjects) that takes a student_name and then any number of subject=grade pairs (e.g., math=90, science=85). It should print a nicely formatted report for the student."
      ],
      "metadata": {
        "id": "7fmGe7uT4Htd"
      }
    },
    {
      "cell_type": "markdown",
      "source": [
        "# ***5. Music Playlist Manager (Lambda, Map, Filter, Arguments):***\n",
        "\n",
        "You have a list of songs: songs = [(\"Happy Song\", \"Pop\", 3.5), (\"Sad Ballad\", \"Rock\", 4.2), (\"Upbeat Tune\", \"Pop\", 2.8), (\"Heavy Metal\", \"Rock\", 5.1)] (Name, Genre, Duration in minutes).\n",
        "\n",
        "a) Map: Use map and a lambda to convert all durations from minutes to seconds.\n",
        "\n",
        "b) Filter: Use filter and a lambda to get all songs that are of the \"Pop\" genre.\n",
        "\n",
        "c) Function with Arguments: Write a function search_songs(genre=None, min_duration=0, **kwargs) that can search the songs list based on optional genre and min_duration. If other keyword arguments are passed (e.g., artist=\"xyz\"), acknowledge them but don't filter by them for this exercise (just print them)."
      ],
      "metadata": {
        "id": "3tSUboEn37TH"
      }
    }
  ]
}