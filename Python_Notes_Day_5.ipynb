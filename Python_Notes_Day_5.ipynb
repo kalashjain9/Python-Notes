{
  "nbformat": 4,
  "nbformat_minor": 0,
  "metadata": {
    "colab": {
      "provenance": [],
      "include_colab_link": true
    },
    "kernelspec": {
      "name": "python3",
      "display_name": "Python 3"
    },
    "language_info": {
      "name": "python"
    }
  },
  "cells": [
    {
      "cell_type": "markdown",
      "metadata": {
        "id": "view-in-github",
        "colab_type": "text"
      },
      "source": [
        "<a href=\"https://colab.research.google.com/github/kalashjain9/Python-Notes/blob/main/Python_Notes_Day_5.ipynb\" target=\"_parent\"><img src=\"https://colab.research.google.com/assets/colab-badge.svg\" alt=\"Open In Colab\"/></a>"
      ]
    },
    {
      "cell_type": "markdown",
      "source": [
        "## What is NumPy?\n",
        "\n",
        "NumPy is a powerful Python library used for numerical computations. It provides high-performance array objects and tools for working with them.\n",
        "\n",
        "### Why not just use lists?\n",
        "\n",
        "- Lists are flexible but **slow** for numerical operations.\n",
        "- NumPy uses **vectorized operations**, making computations **faster and more efficient**. Meaning that it can apply the operation to the entire list without using a loop\n",
        "-NumPy is implemented in C language so it is fast af"
      ],
      "metadata": {
        "id": "do3X5jEadR7m"
      }
    },
    {
      "cell_type": "code",
      "source": [
        "import numpy as np\n",
        "\n",
        "# Using list\n",
        "my_list = list(range(1, 10001))\n",
        "%timeit [x*2 for x in my_list]\n",
        "\n",
        "# Using NumPy\n",
        "my_array = np.arange(1, 10001)\n",
        "%timeit my_array * 2\n"
      ],
      "metadata": {
        "colab": {
          "base_uri": "https://localhost:8080/"
        },
        "id": "X8YtOWiTeq8r",
        "outputId": "90d2ab35-54b0-4e6d-8ea3-f1edc76e8e31"
      },
      "execution_count": null,
      "outputs": [
        {
          "output_type": "stream",
          "name": "stdout",
          "text": [
            "The slowest run took 4.61 times longer than the fastest. This could mean that an intermediate result is being cached.\n",
            "879 µs ± 406 µs per loop (mean ± std. dev. of 7 runs, 1000 loops each)\n",
            "9.34 µs ± 3.67 µs per loop (mean ± std. dev. of 7 runs, 100000 loops each)\n"
          ]
        }
      ]
    },
    {
      "cell_type": "markdown",
      "source": [
        "## Creating Arrays\n",
        "\n",
        "There are multiple ways to create arrays in NumPy:\n",
        "\n",
        "1. Convert a list to an array using `np.array(list)`.\n",
        "2. Use built-in functions like `np.arange(start, stop, step)`, `np.zeros(n)` or `np.zeros(row, col)`, `np.ones(m)` or `np.ones(row, col)`, and `np.linspace(start, stop, n)`.\n"
      ],
      "metadata": {
        "id": "Zm23oQ7bfq_L"
      }
    },
    {
      "cell_type": "code",
      "source": [
        "# 1. From a regular list\n",
        "arr1 = np.array([1,2,3])\n",
        "print(\"From list:\", arr1)\n",
        "\n",
        "# 2. Using np.arange() like range function in python\n",
        "arr2 = np.arange(1, 30, 3)\n",
        "print(\"arange:\", arr2)\n",
        "\n",
        "# 3. Using np.zeros() for 2D\n",
        "arr3 = np.zeros([3,4])\n",
        "print(\"zeros:\", arr3)\n",
        "\n",
        "# 4. Other functions\n",
        "arr4 = np.ones(4)\n",
        "print(\"ones:\", arr4)\n",
        "\n",
        "arr5 = np.linspace(0, 30, 3)\n",
        "print(\"linspace:\", arr5)\n"
      ],
      "metadata": {
        "colab": {
          "base_uri": "https://localhost:8080/"
        },
        "id": "_IHmeUJwfr0z",
        "outputId": "b5d571ec-c207-4460-8a79-e6b06571cca6"
      },
      "execution_count": null,
      "outputs": [
        {
          "output_type": "stream",
          "name": "stdout",
          "text": [
            "From list: [1 2 3]\n",
            "arange: [ 1  4  7 10 13 16 19 22 25 28]\n",
            "zeros: [[0. 0. 0. 0.]\n",
            " [0. 0. 0. 0.]\n",
            " [0. 0. 0. 0.]]\n",
            "ones: [1. 1. 1. 1.]\n",
            "linspace: [ 0. 15. 30.]\n"
          ]
        }
      ]
    },
    {
      "cell_type": "markdown",
      "source": [
        "## Array Dimensions\n",
        "\n",
        "NumPy arrays can be:\n",
        "\n",
        "- **1D (vector)**: Just a list of numbers.\n",
        "- **2D (matrix)**: A grid or table.\n",
        "- **3D and more**: Tensors used in image processing, ML, etc.\n",
        "\n",
        "Each array has a `.ndim` attribute that tells its dimension.\n"
      ],
      "metadata": {
        "id": "pbYlmXSbftIp"
      }
    },
    {
      "cell_type": "code",
      "source": [
        "# 1D array\n",
        "a = np.array([1, 2, 3])\n",
        "print(\"1D:\", a)\n",
        "\n",
        "# 2D array\n",
        "b = np.array([[1, 2], [3, 4]])\n",
        "print(\"2D:\\n\", b)\n",
        "\n",
        "# 3D array\n",
        "c = np.array([[[1,2], [3,4]], [[5,6], [7,8]]])\n",
        "print(\"3D:\\n\", c)\n",
        "c.ndim"
      ],
      "metadata": {
        "colab": {
          "base_uri": "https://localhost:8080/"
        },
        "id": "4jEYKsZ5fucg",
        "outputId": "f3f461af-3b1f-421b-d332-4fe41200cb0e"
      },
      "execution_count": null,
      "outputs": [
        {
          "output_type": "stream",
          "name": "stdout",
          "text": [
            "1D: [1 2 3]\n",
            "2D:\n",
            " [[1 2]\n",
            " [3 4]]\n",
            "3D:\n",
            " [[[1 2]\n",
            "  [3 4]]\n",
            "\n",
            " [[5 6]\n",
            "  [7 8]]]\n"
          ]
        },
        {
          "output_type": "execute_result",
          "data": {
            "text/plain": [
              "3"
            ]
          },
          "metadata": {},
          "execution_count": 3
        }
      ]
    },
    {
      "cell_type": "markdown",
      "source": [
        "## Indexing and Slicing\n",
        "\n",
        "You can access or slice parts of an array:\n",
        "\n",
        "- Use `arr[row][column]` or `arr[row, column]` for 2D arrays.\n",
        "- Use `:` to slice (start:stop).\n",
        "\n",
        "Slicing is very efficient in NumPy.\n"
      ],
      "metadata": {
        "id": "6ie7PTtvfveV"
      }
    },
    {
      "cell_type": "code",
      "source": [
        "arr = np.array([[[1,2], [3,4]], [[5,6], [7,8]]])\n",
        "\n",
        "# Accessing an element\n",
        "print(\"Element at [0,1]:\", arr[0,1,1])\n",
        "\n",
        "# Slicing rows\n",
        "print(\"First row:\", arr[0])\n",
        "\n",
        "# Slicing columns\n",
        "print(\"Second column:\", arr[:,1])\n"
      ],
      "metadata": {
        "id": "Rx0fJQc1fyzc",
        "colab": {
          "base_uri": "https://localhost:8080/"
        },
        "outputId": "c550ce98-60e9-4e58-ce41-27cb1eb11386"
      },
      "execution_count": null,
      "outputs": [
        {
          "output_type": "stream",
          "name": "stdout",
          "text": [
            "Element at [0,1]: 4\n",
            "First row: [[1 2]\n",
            " [3 4]]\n",
            "Second column: [[3 4]\n",
            " [7 8]]\n"
          ]
        }
      ]
    },
    {
      "cell_type": "markdown",
      "source": [
        "## Reshaping and Transposition\n",
        "\n",
        "You can change how data is arranged using:\n",
        "\n",
        "- `.reshape(rows, cols)` to reshape the array.\n",
        "- `.transpose()` or `.T` to flip rows and columns.\n"
      ],
      "metadata": {
        "id": "EUorHtoWfxPY"
      }
    },
    {
      "cell_type": "code",
      "source": [
        "arr = np.arange(1, 5)\n",
        "print(\"Og Array:\\n\", arr)\n",
        "reshaped = arr.reshape(2, 2)\n",
        "print(\"Reshaped:\\n\", reshaped)\n",
        "\n",
        "# Transpose\n",
        "transposed = reshaped.transpose()\n",
        "transposed = reshaped.T\n",
        "print(\"Transposed:\\n\", transposed)\n"
      ],
      "metadata": {
        "colab": {
          "base_uri": "https://localhost:8080/"
        },
        "id": "JDLJ4glgf4jw",
        "outputId": "fa6befe9-4cfd-4705-bd6b-a38b9e34089f"
      },
      "execution_count": null,
      "outputs": [
        {
          "output_type": "stream",
          "name": "stdout",
          "text": [
            "Og Array:\n",
            " [1 2 3 4]\n",
            "Reshaped:\n",
            " [[1 2]\n",
            " [3 4]]\n",
            "Transposed:\n",
            " [[1 3]\n",
            " [2 4]]\n"
          ]
        }
      ]
    },
    {
      "cell_type": "markdown",
      "source": [
        "## Basic Math Operations\n",
        "\n",
        "NumPy supports **element-wise** operations on arrays:\n",
        "\n",
        "- Add, subtract, multiply, divide, power – all directly on arrays.\n",
        "- No need to loop through each element.\n"
      ],
      "metadata": {
        "id": "TI2ierQUf6Vu"
      }
    },
    {
      "cell_type": "code",
      "source": [
        "arr = np.array([1, 2, 3])\n",
        "\n",
        "# Addition\n",
        "print(\"arr + 1:\", arr + 1)\n",
        "\n",
        "# Multiplication\n",
        "print(\"arr * 2:\", arr * 2)\n",
        "\n",
        "# Combined\n",
        "print(\"arr ** 2 + 3:\", arr**2 + 3)\n"
      ],
      "metadata": {
        "colab": {
          "base_uri": "https://localhost:8080/"
        },
        "id": "kDhP5SW3f65L",
        "outputId": "ef3ab126-5d39-43c8-be2e-3fd3b9c3da4f"
      },
      "execution_count": null,
      "outputs": [
        {
          "output_type": "stream",
          "name": "stdout",
          "text": [
            "arr + 1: [2 3 4]\n",
            "arr * 2: [2 4 6]\n",
            "arr ** 2 + 3: [ 4  7 12]\n"
          ]
        }
      ]
    },
    {
      "cell_type": "markdown",
      "source": [
        "## Dot Product\n",
        "\n",
        "Dot product is used in:\n",
        "\n",
        "- Linear algebra\n",
        "- Machine learning (matrix multiplications)\n",
        "- Neural networks\n",
        "\n",
        "It is different from element-wise multiplication.\n"
      ],
      "metadata": {
        "id": "7Uf73SfSgC7p"
      }
    },
    {
      "cell_type": "code",
      "source": [
        "a = np.array([1, 2])\n",
        "b = np.array([3, 4])\n",
        "dot_product = np.dot(a, b)\n",
        "print(\"Dot product:\", dot_product)\n",
        "\n",
        "# 2D matrix dot product\n",
        "A = np.array([[1, 2], [3, 4]])\n",
        "B = np.array([[5, 6], [7, 8]])\n",
        "print(\"Matrix dot:\\n\", np.dot(A, B))\n"
      ],
      "metadata": {
        "colab": {
          "base_uri": "https://localhost:8080/"
        },
        "id": "ATZZbug4gEaL",
        "outputId": "89c25ae5-eed6-402d-8d16-266341c08fd7"
      },
      "execution_count": null,
      "outputs": [
        {
          "output_type": "stream",
          "name": "stdout",
          "text": [
            "Dot product: 11\n",
            "Matrix dot:\n",
            " [[19 22]\n",
            " [43 50]]\n"
          ]
        }
      ]
    },
    {
      "cell_type": "markdown",
      "source": [
        "# QUIZ TIME\n"
      ],
      "metadata": {
        "id": "SLisg9kvia5s"
      }
    },
    {
      "cell_type": "code",
      "source": [
        "import numpy as np\n",
        "\n",
        "a = np.arange(6)       # Step 1\n",
        "b = a.reshape(2, 3)    # Step 2\n",
        "c = b[1] + 2           # Step 3\n",
        "d = c.reshape(3, 1)    # Step 4\n",
        "\n",
        "print(d)               # Final output"
      ],
      "metadata": {
        "colab": {
          "base_uri": "https://localhost:8080/"
        },
        "id": "j1UuM_IUhpKn",
        "outputId": "833fadd4-f5fe-4e27-e348-ef1c023831a5"
      },
      "execution_count": null,
      "outputs": [
        {
          "output_type": "stream",
          "name": "stdout",
          "text": [
            "[[5]\n",
            " [6]\n",
            " [7]]\n"
          ]
        }
      ]
    },
    {
      "cell_type": "markdown",
      "source": [
        "## Broadcasting\n",
        "\n",
        "**Broadcasting** allows NumPy to work with arrays of different shapes during arithmetic operations.\n",
        "\n",
        "Rules:\n",
        "- The smaller array is “stretched” to match the shape of the larger one.\n",
        "\n",
        "This makes writing efficient code much easier.\n"
      ],
      "metadata": {
        "id": "pV9xWjpvgEGI"
      }
    },
    {
      "cell_type": "code",
      "source": [
        "# Scalar and array\n",
        "a = np.array([1, 2, 3])\n",
        "print(\"a + 5:\", a + 5)\n",
        "\n",
        "# 2D and 1D\n",
        "b = np.array([[1, 2, 3], [4, 5, 6]])\n",
        "v = np.array([1, 0, 1])\n",
        "print(\"b + v:\\n\", b + v)\n",
        "\n",
        "# Column vector broadcast\n",
        "c = np.array([[1], [2], [3]])\n",
        "print(\"c * 2:\\n\", c * v)\n"
      ],
      "metadata": {
        "colab": {
          "base_uri": "https://localhost:8080/"
        },
        "id": "VB89cH8GgGm-",
        "outputId": "84f2ae51-47b5-4f7d-cf01-952ce1330058"
      },
      "execution_count": null,
      "outputs": [
        {
          "output_type": "stream",
          "name": "stdout",
          "text": [
            "a + 5: [6 7 8]\n",
            "b + v:\n",
            " [[2 2 4]\n",
            " [5 5 7]]\n",
            "c * 2:\n",
            " [[1 0 1]\n",
            " [2 0 2]\n",
            " [3 0 3]]\n"
          ]
        }
      ]
    },
    {
      "cell_type": "markdown",
      "source": [
        "## Boolean Indexing\n",
        "\n",
        "You can select specific values using conditions (like filtering).\n",
        "\n",
        "This is very useful in data analysis or cleaning.\n"
      ],
      "metadata": {
        "id": "uXvBtbZPgHzj"
      }
    },
    {
      "cell_type": "code",
      "source": [
        "arr = np.array([1, 2, 3, 4, 5])\n",
        "\n",
        "# Condition\n",
        "print(\"arr > 2:\", arr > 2)\n",
        "\n",
        "# Use condition to filter\n",
        "print(\"Filtered:\", arr[arr > 2])\n",
        "\n",
        "# More complex condition\n",
        "print(\"Even numbers > 2:\", arr[(arr > 2) & (arr % 2 == 0)])\n"
      ],
      "metadata": {
        "colab": {
          "base_uri": "https://localhost:8080/"
        },
        "id": "K4iQB2ibgI6G",
        "outputId": "d6cf52a1-c547-4599-d386-4554e6ea75ee"
      },
      "execution_count": null,
      "outputs": [
        {
          "output_type": "stream",
          "name": "stdout",
          "text": [
            "arr > 2: [False False  True  True  True]\n",
            "Filtered: [3 4 5]\n",
            "Even numbers > 2: [4]\n"
          ]
        }
      ]
    },
    {
      "cell_type": "markdown",
      "source": [
        "## Aggregate Functions\n",
        "\n",
        "These functions return one value summarizing the array:\n",
        "\n",
        "- `.sum()` – Total\n",
        "- `.mean()` – Average\n",
        "- `.std()` – Standard deviation\n",
        "- `.min()` / `.max()`\n",
        "\n",
        "You can also use `axis=0` (column-wise) or `axis=1` (row-wise)\n"
      ],
      "metadata": {
        "id": "egqUr4shgKtr"
      }
    },
    {
      "cell_type": "code",
      "source": [
        "arr = np.array([[1, 2, 3], [4, 5, 6]])\n",
        "\n",
        "print(\"Sum:\", arr.sum())\n",
        "print(\"Mean:\", arr.mean())\n",
        "print(\"Std Dev:\", arr.std())\n",
        "print(\"Min:\", arr.min())\n",
        "print(\"Max:\", arr.max())\n",
        "\n",
        "# Axis-wise operations\n",
        "print(\"Column-wise sum:\", arr.sum(axis=0))\n",
        "print(\"Row-wise mean:\", arr.mean(axis=1))\n"
      ],
      "metadata": {
        "colab": {
          "base_uri": "https://localhost:8080/"
        },
        "id": "Mf0YeK_mgLOu",
        "outputId": "dfefd102-3110-40c6-8dd7-4103c3b45d28"
      },
      "execution_count": null,
      "outputs": [
        {
          "output_type": "stream",
          "name": "stdout",
          "text": [
            "Sum: 21\n",
            "Mean: 3.5\n",
            "Std Dev: 1.707825127659933\n",
            "Min: 1\n",
            "Max: 6\n",
            "Column-wise sum: [5 7 9]\n",
            "Row-wise mean: [2. 5.]\n"
          ]
        }
      ]
    },
    {
      "cell_type": "markdown",
      "source": [
        "## Random Data Generation\n",
        "\n",
        "NumPy has built-in methods for generating random data:\n",
        "- `rand()`: random floats in [0,1)\n",
        "- `randint(low, high, size)`: random integers\n",
        "- Useful in ML, simulations, testing\n"
      ],
      "metadata": {
        "id": "GNWd0IVQgNPa"
      }
    },
    {
      "cell_type": "code",
      "source": [
        "# Random float values\n",
        "rand1 = np.random.rand(5)\n",
        "print(\"rand:\", rand1)\n",
        "\n",
        "# Random integers\n",
        "rand2 = np.random.randint(1, 10, 5)\n",
        "print(\"randint:\", rand2)\n",
        "\n",
        "# 2D random matrix\n",
        "rand3 = np.random.rand(2, 3)\n",
        "print(\"2D random:\\n\", rand3)\n"
      ],
      "metadata": {
        "colab": {
          "base_uri": "https://localhost:8080/"
        },
        "id": "1AvAPtfRgNqN",
        "outputId": "6c5ba279-2336-4280-874e-a2f671e5f250"
      },
      "execution_count": null,
      "outputs": [
        {
          "output_type": "stream",
          "name": "stdout",
          "text": [
            "rand: [0.71142142 0.77787816 0.32018667 0.16283709 0.02637719]\n",
            "randint: [2 2 7 3 7]\n",
            "2D random:\n",
            " [[0.87311119 0.91565946 0.96594411]\n",
            " [0.07717818 0.2041121  0.20601221]]\n"
          ]
        }
      ]
    },
    {
      "cell_type": "markdown",
      "source": [
        "## Reproducible Results\n",
        "\n",
        "Use `np.random.seed(value)` to get the same random results every time.\n",
        "Very useful in testing and research.\n"
      ],
      "metadata": {
        "id": "NndyoyKKgOtn"
      }
    },
    {
      "cell_type": "code",
      "source": [
        "np.random.seed(42)\n",
        "print(\"Seeded random:\", np.random.rand(3))\n"
      ],
      "metadata": {
        "colab": {
          "base_uri": "https://localhost:8080/"
        },
        "id": "hogeeNZNgQFV",
        "outputId": "5354cf4d-45f7-4143-f7f5-45d74f5aa60d"
      },
      "execution_count": null,
      "outputs": [
        {
          "output_type": "stream",
          "name": "stdout",
          "text": [
            "Seeded random: [0.37454012 0.95071431 0.73199394]\n"
          ]
        }
      ]
    },
    {
      "cell_type": "markdown",
      "source": [
        "# THANK YOU!"
      ],
      "metadata": {
        "id": "ED0L3-UCwISF"
      }
    },
    {
      "cell_type": "markdown",
      "source": [
        "![WhatsApp Image 2025-06-17 at 03.39.23_6bf90e3e.jpg](data:image/jpeg;base64,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)"
      ],
      "metadata": {
        "id": "BZl2sYXxjOgh"
      }
    },
    {
      "cell_type": "markdown",
      "source": [
        "# Home Work"
      ],
      "metadata": {
        "id": "pEvbAp6KyLgR"
      }
    },
    {
      "cell_type": "markdown",
      "source": [
        "### Q1. Create & Reshape\n",
        "Create a 1D NumPy array containing numbers from **10 to 35 (inclusive)**.  \n",
        "Reshape this array into a **2D array with 5 rows**.  \n",
        "Then, print the **transpose** of this reshaped array.\n"
      ],
      "metadata": {
        "id": "stLulSniyPM-"
      }
    },
    {
      "cell_type": "markdown",
      "source": [
        "\n",
        "### Q2. Boolean Filtering  \n",
        "From the array below, filter all elements that are:  \n",
        "- Even  \n",
        "- Greater than 20  \n",
        "- Less than 80\n",
        "\n",
        "```python\n",
        "arr = np.array([12, 25, 33, 46, 58, 72, 80, 99])\n"
      ],
      "metadata": {
        "id": "T6Sp4VcPyX8N"
      }
    },
    {
      "cell_type": "markdown",
      "source": [
        "### Q3. Broadcasting & Aggregation\n",
        "- Create a 3×3 array filled with the value 5.\n",
        "- Add a row vector [1, 2, 3] to it using broadcasting.\n",
        "- Then, print the mean of the result by rows.\n",
        "\n"
      ],
      "metadata": {
        "id": "_OdyuvHjygEZ"
      }
    },
    {
      "cell_type": "markdown",
      "source": [
        "### Q4. Dot Product Application\n",
        "You’re given two arrays:\n",
        "\n",
        "\n",
        "- `scores = np.array([85, 90, 78])`\n",
        "- `weights = np.array([0.3, 0.4, 0.3])`\n",
        "\n",
        "Calculate the weighted average using the dot product.\n",
        "\n"
      ],
      "metadata": {
        "id": "vokqvuMIypZp"
      }
    },
    {
      "cell_type": "markdown",
      "source": [
        "### Q5. Random Data & Reproducibility\n",
        "Generate a 2×5 matrix of random integers between 1 and 100 using a seed of 7.\n",
        "Then:\n",
        "\n",
        "- Print the matrix\n",
        "\n",
        "- Print the maximum value from each row"
      ],
      "metadata": {
        "id": "jgqRU3SPy7sL"
      }
    }
  ]
}