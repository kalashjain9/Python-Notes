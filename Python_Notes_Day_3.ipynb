{
  "nbformat": 4,
  "nbformat_minor": 0,
  "metadata": {
    "colab": {
      "provenance": [],
      "authorship_tag": "ABX9TyMnjCuWvZHntNgM7zPn4REy",
      "include_colab_link": true
    },
    "kernelspec": {
      "name": "python3",
      "display_name": "Python 3"
    },
    "language_info": {
      "name": "python"
    }
  },
  "cells": [
    {
      "cell_type": "markdown",
      "metadata": {
        "id": "view-in-github",
        "colab_type": "text"
      },
      "source": [
        "<a href=\"https://colab.research.google.com/github/kalashjain9/Python-Notes/blob/main/Python_Notes_Day_3.ipynb\" target=\"_parent\"><img src=\"https://colab.research.google.com/assets/colab-badge.svg\" alt=\"Open In Colab\"/></a>"
      ]
    },
    {
      "cell_type": "markdown",
      "source": [
        "**AGENDA**\n",
        "\n",
        "**● List**\n",
        "\n",
        "○ Creation: my_list =\n",
        "\n",
        "○ Indexing/Slicing: my_list, my_list[1:3]\n",
        "\n",
        "○ Methods: append(), remove(), pop(), sort(), etc.\n",
        "\n",
        "**● Tuple**\n",
        "\n",
        "○ Creation: my_tuple = (1, 2, 3)\n",
        "\n",
        "○ Immutable: Cannot change elements.\n",
        "\n",
        "○ Methods: count(), index()\n",
        "\n",
        "**● Set**\n",
        "\n",
        "○ Creation: my_set = {1, 2, 3}\n",
        "\n",
        "○ Unique elements: No duplicates.\n",
        "\n",
        "○ Methods: add(), remove(), union(), intersection()\n",
        "\n",
        "**● Dictionary**\n",
        "\n",
        "○ Creation: my_dict = {\"name\": \"Alice\", \"age\": 25}\n",
        "\n",
        "○ Key-value pairs: Accessing (my_dict[\"name\"]), methods (keys(),\n",
        "values(), items()).\n",
        "\n",
        "**● For Loop in Data Structures**\n",
        "\n",
        "○ Iterating over lists, tuples, sets, dictionaries:\n",
        "\n",
        "○ for item in my_list: ...\n",
        "\n",
        "○ for key, value in my_dict.items(): ...\n"
      ],
      "metadata": {
        "id": "4Q4YOrvhjV-B"
      }
    },
    {
      "cell_type": "markdown",
      "source": [
        "**Greetings, Code Explorers! 🚀**\n",
        "\n",
        "Prepare yourselves! Today, we go beyond simple variables and enter the world of Data Structures. These are the fundamental ways Python organizes, manages, and stores collections of data. Mastering them is like leveling up from being a simple scribe to a master librarian of information. Each structure has its own personality, rules, and special powers. Let's meet the fantastic four.\n",
        "\n",
        "\n",
        "***🎒 The List: The All-Purpose, Infinitely-Flexible Backpack***\n",
        "\n",
        "\n",
        "A list is the most common and versatile data structure in Python. Think of it as a magical backpack: you can put anything in it, in any order, add more things, take things out, and rearrange them whenever you want.\n",
        "\n",
        "\n"
      ],
      "metadata": {
        "id": "l3j4ut1Oj9LG"
      }
    },
    {
      "cell_type": "markdown",
      "source": [
        "***📜 Core Theory of Lists***\n",
        "\n",
        "**Ordered**: This is a crucial concept. \"**Ordered**\" means that every item has a specific position, and that position will not change unless you explicitly change it. The item at position 0 will always be at position 0 until you move it. This allows for reliable access using an index.\n",
        "\n",
        "**Mutable (Changeable)**: \"**Mutable**\" means the list can be modified after it's created. You can add, remove, or change elements. This flexibility is its greatest strength.\n",
        "\n",
        "**Allows Duplicates**: You can have the same item in a list multiple times, and Python will treat them as distinct elements at different positions.\n",
        "\n",
        "**Zero-Indexed**: Like most things in programming, Python starts counting from 0. The first item is at index 0, the second at index 1, and so on. The last item is at index `length - 1`."
      ],
      "metadata": {
        "id": "XQtoo2Rgkh9m"
      }
    },
    {
      "cell_type": "markdown",
      "source": [
        "**🛠️ List Creation**\n",
        "\n",
        "**Syntax Explanation**: You create a list by enclosing a comma-separated sequence of items inside square brackets `[]`."
      ],
      "metadata": {
        "id": "eUXxufjclAiw"
      }
    },
    {
      "cell_type": "code",
      "source": [
        "# --- Example 1: A simple list of numbers ---\n",
        "# A list to store the scores from a game.\n",
        "game_scores = [120, 95, 250, 175]\n",
        "print(f\"Game scores: {game_scores}\")"
      ],
      "metadata": {
        "colab": {
          "base_uri": "https://localhost:8080/"
        },
        "id": "9eHdv4FPl4Cv",
        "outputId": "35f49c23-d390-4da8-bf76-961f4326b870"
      },
      "execution_count": null,
      "outputs": [
        {
          "output_type": "stream",
          "name": "stdout",
          "text": [
            "Game scores: [120, 95, 250, 175]\n"
          ]
        }
      ]
    },
    {
      "cell_type": "code",
      "source": [
        "# --- Example 2: A list of strings ---\n",
        "# A list of planets in our solar system.\n",
        "planets = [\"Mercury\", \"Venus\", \"Earth\", \"Mars\"]\n",
        "print(f\"The inner planets are: {planets}\")"
      ],
      "metadata": {
        "colab": {
          "base_uri": "https://localhost:8080/"
        },
        "id": "hlftT2PKmUYO",
        "outputId": "0749c669-da1c-4115-c31f-94afe5294fd8"
      },
      "execution_count": null,
      "outputs": [
        {
          "output_type": "stream",
          "name": "stdout",
          "text": [
            "The inner planets are: ['Mercury', 'Venus', 'Earth', 'Mars']\n"
          ]
        }
      ]
    },
    {
      "cell_type": "code",
      "source": [
        "# --- Example 3: A list with mixed data types ---\n",
        "# A list holding information about a book: [Title, Author, Year, Is_Published]\n",
        "# This is possible, but often a dictionary is better for this kind of data.\n",
        "book_info = [\"The Hitchhiker's Guide\", \"Douglas Adams\", 1979, True]\n",
        "print(f\"Book information: {book_info}\")"
      ],
      "metadata": {
        "colab": {
          "base_uri": "https://localhost:8080/"
        },
        "id": "d8lpwcsWmV_e",
        "outputId": "82436924-a262-4996-96e0-4c5e294f222e"
      },
      "execution_count": null,
      "outputs": [
        {
          "output_type": "stream",
          "name": "stdout",
          "text": [
            "Book information: [\"The Hitchhiker's Guide\", 'Douglas Adams', 1979, True]\n"
          ]
        }
      ]
    },
    {
      "cell_type": "code",
      "source": [
        "# --- Example 4: An empty list ---\n",
        "# You can start with an empty list and add items to it later.\n",
        "# This is extremely common.\n",
        "shopping_cart = []\n",
        "print(f\"The shopping cart is currently empty: {shopping_cart}\")"
      ],
      "metadata": {
        "colab": {
          "base_uri": "https://localhost:8080/"
        },
        "id": "Hdy6RcKBmcaW",
        "outputId": "9f958b6a-ecd3-4086-ddf1-9dad44dc5522"
      },
      "execution_count": null,
      "outputs": [
        {
          "output_type": "stream",
          "name": "stdout",
          "text": [
            "The shopping cart is currently empty: []\n"
          ]
        }
      ]
    },
    {
      "cell_type": "markdown",
      "source": [
        "**🎯 Indexing and Slicing: Accessing Your Data**\n",
        "\n",
        "**Syntax Explanation:**\n",
        "\n",
        "**Indexing my_list[i]:** To get a single item, use the list's name followed by the index of the item in square brackets.\n",
        "\n",
        "**Slicing my_list[start:stop:step]**: To get a sub-section of the list, specify a start index (**inclusive**) and a stop index (**exclusive**). The step is optional and determines the interval."
      ],
      "metadata": {
        "id": "DFrkLPgKmzkP"
      }
    },
    {
      "cell_type": "code",
      "source": [
        "# Let's use this list for our examples\n",
        "weekdays = [\"Monday\", \"Tuesday\", \"Wednesday\", \"Thursday\", \"Friday\", \"Saturday\", \"Sunday\"]\n",
        "\n",
        "# --- Example 1: Basic positive and negative indexing ---\n",
        "# Get the very first day of the week (index 0)\n",
        "first_day = weekdays[0]\n",
        "print(f\"The first day is: {first_day}\") # Output: Monday\n",
        "\n",
        "# Get the very last day using negative indexing (-1 is always the last item)\n",
        "last_day = weekdays[-1]\n",
        "print(f\"The last day is: {last_day}\") # Output: Sunday\n",
        "\n"
      ],
      "metadata": {
        "colab": {
          "base_uri": "https://localhost:8080/"
        },
        "id": "ePD6vMHlm-bA",
        "outputId": "63baaaad-2bce-44d3-e590-b223c6367086"
      },
      "execution_count": null,
      "outputs": [
        {
          "output_type": "stream",
          "name": "stdout",
          "text": [
            "The first day is: Monday\n",
            "The last day is: Sunday\n"
          ]
        }
      ]
    },
    {
      "cell_type": "code",
      "source": [
        "# --- Example 2: Accessing an element in the middle ---\n",
        "# Get the middle day of the week, Wednesday (index 2)\n",
        "middle_day = weekdays[2]\n",
        "print(f\"The middle day is: {middle_day}\") # Output: Wednesday\n",
        "\n",
        "# Get the second to last day, Saturday (index -2)\n",
        "second_last_day = weekdays[-2]\n",
        "print(f\"The day before last is: {second_last_day}\") # Output: Saturday\n",
        "\n"
      ],
      "metadata": {
        "colab": {
          "base_uri": "https://localhost:8080/"
        },
        "id": "JYg7-M9ZnGOe",
        "outputId": "28e0a094-e3a2-4401-c470-d7e7c9bdec3d"
      },
      "execution_count": null,
      "outputs": [
        {
          "output_type": "stream",
          "name": "stdout",
          "text": [
            "The middle day is: Wednesday\n",
            "The day before last is: Saturday\n"
          ]
        }
      ]
    },
    {
      "cell_type": "code",
      "source": [
        "# --- Example 3: Basic Slicing to get a sub-list ---\n",
        "# Get the work week (Monday to Friday)\n",
        "# We start at index 0 and stop at index 5 (which is Saturday, so it's not included)\n",
        "work_week = weekdays[0:5]\n",
        "print(f\"The work week: {work_week}\") # Output: ['Monday', 'Tuesday', 'Wednesday', 'Thursday', 'Friday']\n",
        "\n",
        "# Get the weekend\n",
        "weekend = weekdays[5:] # Leaving 'stop' empty goes to the very end\n",
        "print(f\"The weekend: {weekend}\") # Output: ['Saturday', 'Sunday']\n",
        "\n"
      ],
      "metadata": {
        "colab": {
          "base_uri": "https://localhost:8080/"
        },
        "id": "3UuQ-lTunI5v",
        "outputId": "390260d4-84cd-4f73-f399-8788cbe4e95e"
      },
      "execution_count": null,
      "outputs": [
        {
          "output_type": "stream",
          "name": "stdout",
          "text": [
            "The work week: ['Monday', 'Tuesday', 'Wednesday', 'Thursday', 'Friday']\n",
            "The weekend: ['Saturday', 'Sunday']\n"
          ]
        }
      ]
    },
    {
      "cell_type": "code",
      "source": [
        "# --- Example 4: Slicing with a step ---\n",
        "# Get every other day of the week\n",
        "every_other_day = weekdays[::2] # start:stop:step\n",
        "print(f\"Every other day: {every_other_day}\") # Output: ['Monday', 'Wednesday', 'Friday', 'Sunday']\n",
        "\n",
        "# Get the list in reverse! A very cool trick.\n",
        "reversed_week = weekdays[::-1]\n",
        "print(f\"The week in reverse: {reversed_week}\")"
      ],
      "metadata": {
        "colab": {
          "base_uri": "https://localhost:8080/"
        },
        "id": "LduQmeBtnLIe",
        "outputId": "3e6105b8-f023-403a-eef1-d143e6e8af6f"
      },
      "execution_count": null,
      "outputs": [
        {
          "output_type": "stream",
          "name": "stdout",
          "text": [
            "Every other day: ['Monday', 'Wednesday', 'Friday', 'Sunday']\n",
            "The week in reverse: ['Sunday', 'Saturday', 'Friday', 'Thursday', 'Wednesday', 'Tuesday', 'Monday']\n"
          ]
        }
      ]
    },
    {
      "cell_type": "markdown",
      "source": [
        "**✨ List Methods: Your List's Superpowers**\n",
        "\n",
        "These are built-in functions that belong to lists and let you modify them.\n",
        "\n",
        "**append()** - Adds an item to the end of the list."
      ],
      "metadata": {
        "id": "mC7nn5wJnOUv"
      }
    },
    {
      "cell_type": "code",
      "source": [
        "# --- Example 1: Appending a number to a list of numbers ---\n",
        "numbers = [10, 20, 30]\n",
        "numbers.append(40)\n",
        "print(f\"Numbers after append: {numbers}\") # Output: [10, 20, 30, 40]\n",
        "\n"
      ],
      "metadata": {
        "colab": {
          "base_uri": "https://localhost:8080/"
        },
        "id": "ZoxOU-kEnUl-",
        "outputId": "f2e4988a-b90b-4583-cbd3-a45bb56da4fe"
      },
      "execution_count": null,
      "outputs": [
        {
          "output_type": "stream",
          "name": "stdout",
          "text": [
            "Numbers after append: [10, 20, 30, 40]\n"
          ]
        }
      ]
    },
    {
      "cell_type": "code",
      "source": [
        "# --- Example 2: Appending a string to a list of tasks ---\n",
        "tasks = [\"Clean room\", \"Do homework\"]\n",
        "tasks.append(\"Go to the gym\")\n",
        "print(f\"Tasks after append: {tasks}\") # Output: ['Clean room', 'Do homework', 'Go to the gym']\n",
        "\n"
      ],
      "metadata": {
        "colab": {
          "base_uri": "https://localhost:8080/"
        },
        "id": "9gPkhDWRnXoX",
        "outputId": "6f3ded57-5326-4fb5-e192-746f4baeff4b"
      },
      "execution_count": null,
      "outputs": [
        {
          "output_type": "stream",
          "name": "stdout",
          "text": [
            "Tasks after append: ['Clean room', 'Do homework', 'Go to the gym']\n"
          ]
        }
      ]
    },
    {
      "cell_type": "code",
      "source": [
        "# --- Example 3: Appending to an empty list ---\n",
        "ingredients = []\n",
        "ingredients.append(\"Flour\")\n",
        "ingredients.append(\"Sugar\")\n",
        "print(f\"Ingredients so far: {ingredients}\") # Output: ['Flour', 'Sugar']\n",
        "\n"
      ],
      "metadata": {
        "colab": {
          "base_uri": "https://localhost:8080/"
        },
        "id": "4LfVre_QnaA_",
        "outputId": "1d9fa352-7246-47b8-c951-1bbf524a36f0"
      },
      "execution_count": null,
      "outputs": [
        {
          "output_type": "stream",
          "name": "stdout",
          "text": [
            "Ingredients so far: ['Flour', 'Sugar']\n"
          ]
        }
      ]
    },
    {
      "cell_type": "code",
      "source": [
        "# --- Example 4: Appending another list ---\n",
        "# This nests the entire list as a SINGLE item.\n",
        "items = [1, 2]\n",
        "items.append([3, 4])\n",
        "print(f\"List with a nested list: {items}\") # Output: [1, 2, [3, 4]]"
      ],
      "metadata": {
        "colab": {
          "base_uri": "https://localhost:8080/"
        },
        "id": "ODrL0lRhncf-",
        "outputId": "f4b897aa-38d8-4d80-d0cf-a3151870d508"
      },
      "execution_count": null,
      "outputs": [
        {
          "output_type": "stream",
          "name": "stdout",
          "text": [
            "List with a nested list: [1, 2, [3, 4]]\n"
          ]
        }
      ]
    },
    {
      "cell_type": "markdown",
      "source": [
        "**extend()** - Appends all the elements from an iterable (like another list) to the end of the current list."
      ],
      "metadata": {
        "id": "zfS1dDnlnjCY"
      }
    },
    {
      "cell_type": "code",
      "source": [
        "# --- Example 1: Extending with another list ---\n",
        "list1 = [1, 2, 3]\n",
        "list2 = [4, 5]\n",
        "list1.extend(list2)\n",
        "print(f\"List after extend: {list1}\") # Output: [1, 2, 3, 4, 5]\n",
        "\n"
      ],
      "metadata": {
        "colab": {
          "base_uri": "https://localhost:8080/"
        },
        "id": "FO12_bYpnkO6",
        "outputId": "97b81dcf-899e-42e0-965c-48bba824ddd8"
      },
      "execution_count": null,
      "outputs": [
        {
          "output_type": "stream",
          "name": "stdout",
          "text": [
            "List after extend: [1, 2, 3, 4, 5]\n"
          ]
        }
      ]
    },
    {
      "cell_type": "code",
      "source": [
        "# --- Example 2: Extending with a tuple ---\n",
        "numbers = [10, 20]\n",
        "more_numbers = (30, 40)\n",
        "numbers.extend(more_numbers)\n",
        "print(f\"Numbers after extending with a tuple: {numbers}\") # Output: [10, 20, 30, 40]\n",
        "\n"
      ],
      "metadata": {
        "colab": {
          "base_uri": "https://localhost:8080/"
        },
        "id": "pYNNLAQ2nm-x",
        "outputId": "793f8737-5ae8-41cc-dacb-5413841d4e70"
      },
      "execution_count": null,
      "outputs": [
        {
          "output_type": "stream",
          "name": "stdout",
          "text": [
            "Numbers after extending with a tuple: [10, 20, 30, 40]\n"
          ]
        }
      ]
    },
    {
      "cell_type": "code",
      "source": [
        "# --- Example 3: Extending with a string (iterates over characters) ---\n",
        "chars = ['a', 'b']\n",
        "chars.extend(\"cd\") # Each character 'c', 'd' is added individually\n",
        "print(f\"Characters after extending with a string: {chars}\") # Output: ['a', 'b', 'c', 'd']\n",
        "\n"
      ],
      "metadata": {
        "colab": {
          "base_uri": "https://localhost:8080/"
        },
        "id": "Sm8pOudUnoVH",
        "outputId": "60e0ab46-5095-45f5-da2d-51aea3e0b587"
      },
      "execution_count": null,
      "outputs": [
        {
          "output_type": "stream",
          "name": "stdout",
          "text": [
            "Characters after extending with a string: ['a', 'b', 'c', 'd']\n"
          ]
        }
      ]
    },
    {
      "cell_type": "code",
      "source": [
        "# --- Example 4: Extending an empty list ---\n",
        "empty = []\n",
        "data = [1, 2, 3]\n",
        "empty.extend(data)\n",
        "print(f\"Empty list after extend: {empty}\") # Output: [1, 2, 3]"
      ],
      "metadata": {
        "colab": {
          "base_uri": "https://localhost:8080/"
        },
        "id": "zeAqYQ1PnqD4",
        "outputId": "ee63922e-c7ae-42de-c06a-21ad64ddf587"
      },
      "execution_count": null,
      "outputs": [
        {
          "output_type": "stream",
          "name": "stdout",
          "text": [
            "Empty list after extend: [1, 2, 3]\n"
          ]
        }
      ]
    },
    {
      "cell_type": "markdown",
      "source": [
        "**insert(index, element)** - Inserts an element at a specified index."
      ],
      "metadata": {
        "id": "FaCdVsYZntYW"
      }
    },
    {
      "cell_type": "code",
      "source": [
        "# --- Example 1: Inserting at the beginning ---\n",
        "fruits = [\"banana\", \"cherry\"]\n",
        "fruits.insert(0, \"apple\")\n",
        "print(f\"Fruits after inserting at beginning: {fruits}\") # Output: ['apple', 'banana', 'cherry']\n",
        "\n"
      ],
      "metadata": {
        "colab": {
          "base_uri": "https://localhost:8080/"
        },
        "id": "gB7EpHuLnud9",
        "outputId": "d9968cb4-25a6-4b6c-8c21-12e52779a8e7"
      },
      "execution_count": null,
      "outputs": [
        {
          "output_type": "stream",
          "name": "stdout",
          "text": [
            "Fruits after inserting at beginning: ['apple', 'banana', 'cherry']\n"
          ]
        }
      ]
    },
    {
      "cell_type": "code",
      "source": [
        "# --- Example 2: Inserting in the middle ---\n",
        "colors = [\"red\", \"blue\"]\n",
        "colors.insert(1, \"green\")\n",
        "print(f\"Colors after inserting in middle: {colors}\") # Output: ['red', 'green', 'blue']\n",
        "\n"
      ],
      "metadata": {
        "colab": {
          "base_uri": "https://localhost:8080/"
        },
        "id": "mHiesLICnwuO",
        "outputId": "ffda1af0-6be3-45b4-e228-989c62b439cf"
      },
      "execution_count": null,
      "outputs": [
        {
          "output_type": "stream",
          "name": "stdout",
          "text": [
            "Colors after inserting in middle: ['red', 'green', 'blue']\n"
          ]
        }
      ]
    },
    {
      "cell_type": "code",
      "source": [
        "# --- Example 3: Inserting at an index beyond the end (behaves like append) ---\n",
        "items = [1, 2]\n",
        "items.insert(100, 3) # Index 100 is far beyond current length (2), so it adds to end.\n",
        "print(f\"Items after inserting beyond end: {items}\") # Output: [1, 2, 3]\n",
        "\n"
      ],
      "metadata": {
        "colab": {
          "base_uri": "https://localhost:8080/"
        },
        "id": "RGmAfkjBnyHO",
        "outputId": "4f3cd8a4-ab8d-4a01-a540-fa0368630712"
      },
      "execution_count": null,
      "outputs": [
        {
          "output_type": "stream",
          "name": "stdout",
          "text": [
            "Items after inserting beyond end: [1, 2, 3]\n"
          ]
        }
      ]
    },
    {
      "cell_type": "code",
      "source": [
        "# --- Example 4: Inserting into an empty list ---\n",
        "empty_list = []\n",
        "empty_list.insert(0, \"first\")\n",
        "print(f\"Empty list after first insert: {empty_list}\") # Output: ['first']"
      ],
      "metadata": {
        "colab": {
          "base_uri": "https://localhost:8080/"
        },
        "id": "Pm7JchjQnz3g",
        "outputId": "b72b00ff-fb41-484d-8ae2-8aac8e9c5062"
      },
      "execution_count": null,
      "outputs": [
        {
          "output_type": "stream",
          "name": "stdout",
          "text": [
            "Empty list after first insert: ['first']\n"
          ]
        }
      ]
    },
    {
      "cell_type": "markdown",
      "source": [
        "**remove(value)** - Removes the first occurrence of a specific value."
      ],
      "metadata": {
        "id": "oEtv_EOhn3fS"
      }
    },
    {
      "cell_type": "code",
      "source": [
        "# --- Example 1: Removing a specific number ---\n",
        "inventory = [101, 205, 300, 205]\n",
        "inventory.remove(205) # It only removes the FIRST 205 it finds\n",
        "print(f\"Inventory after removing 205: {inventory}\") # Output: [101, 300, 205]\n",
        "\n"
      ],
      "metadata": {
        "colab": {
          "base_uri": "https://localhost:8080/"
        },
        "id": "drO4-TY5n42m",
        "outputId": "7a934dc7-4d19-4b91-a856-06e9f7514816"
      },
      "execution_count": null,
      "outputs": [
        {
          "output_type": "stream",
          "name": "stdout",
          "text": [
            "Inventory after removing 205: [101, 300, 205]\n"
          ]
        }
      ]
    },
    {
      "cell_type": "code",
      "source": [
        "# --- Example 2: Removing a specific string ---\n",
        "guests = [\"Alice\", \"Bob\", \"Charlie\", \"David\"]\n",
        "guests.remove(\"Bob\")\n",
        "print(f\"Guests after Bob left: {guests}\") # Output: ['Alice', 'Charlie', 'David']\n",
        "\n"
      ],
      "metadata": {
        "colab": {
          "base_uri": "https://localhost:8080/"
        },
        "id": "onIxQ21yn8rW",
        "outputId": "3b448c46-b2db-46f6-e431-a5a5b0da883f"
      },
      "execution_count": null,
      "outputs": [
        {
          "output_type": "stream",
          "name": "stdout",
          "text": [
            "Guests after Bob left: ['Alice', 'Charlie', 'David']\n"
          ]
        }
      ]
    },
    {
      "cell_type": "code",
      "source": [
        "# --- Example 3: Removing an item that appears at the end ---\n",
        "letters = ['a', 'b', 'c', 'd']\n",
        "letters.remove('d')\n",
        "print(f\"Letters after removing 'd': {letters}\") # Output: ['a', 'b', 'c']\n",
        "\n"
      ],
      "metadata": {
        "colab": {
          "base_uri": "https://localhost:8080/"
        },
        "id": "TTsNmDGWn-cm",
        "outputId": "d2364d2d-bc4f-4ef3-c8f4-84cad661671d"
      },
      "execution_count": null,
      "outputs": [
        {
          "output_type": "stream",
          "name": "stdout",
          "text": [
            "Letters after removing 'd': ['a', 'b', 'c']\n"
          ]
        }
      ]
    },
    {
      "cell_type": "code",
      "source": [
        "# --- Example 4: What happens if the item is not there? ---\n",
        "# This will cause a ValueError and crash the program if not handled.\n",
        "colors = [\"red\", \"green\", \"blue\"]\n",
        "try:\n",
        "    colors.remove(\"yellow\")\n",
        "except ValueError:\n",
        "    print(\"Cannot remove 'yellow' - it's not in the list!\")\n",
        "print(f\"Colors after attempted removal: {colors}\") # Output: ['red', 'green', 'blue']"
      ],
      "metadata": {
        "colab": {
          "base_uri": "https://localhost:8080/"
        },
        "id": "ILQXNGtioAeI",
        "outputId": "ffc24843-bf75-4773-97ce-2cd84f73dca6"
      },
      "execution_count": null,
      "outputs": [
        {
          "output_type": "stream",
          "name": "stdout",
          "text": [
            "Cannot remove 'yellow' - it's not in the list!\n",
            "Colors after attempted removal: ['red', 'green', 'blue']\n"
          ]
        }
      ]
    },
    {
      "cell_type": "markdown",
      "source": [
        "**pop(index)** - Removes and returns the item at a specific index. If no index is given, it removes and returns the last item."
      ],
      "metadata": {
        "id": "di9jbFGhoEdW"
      }
    },
    {
      "cell_type": "code",
      "source": [
        "# --- Example 1: Popping the last item ---\n",
        "playlist = [\"Song A\", \"Song B\", \"Song C\"]\n",
        "last_song = playlist.pop() # No index means the last one\n",
        "print(f\"The song that just finished was: {last_song}\") # Output: The song that just finished was: Song C\n",
        "print(f\"Remaining playlist: {playlist}\") # Output: Remaining playlist: ['Song A', 'Song B']\n",
        "\n"
      ],
      "metadata": {
        "colab": {
          "base_uri": "https://localhost:8080/"
        },
        "id": "6rtTOCOaoF3a",
        "outputId": "b657a326-1c49-4339-ec4a-e1813da3b0a8"
      },
      "execution_count": null,
      "outputs": [
        {
          "output_type": "stream",
          "name": "stdout",
          "text": [
            "The song that just finished was: Song C\n",
            "Remaining playlist: ['Song A', 'Song B']\n"
          ]
        }
      ]
    },
    {
      "cell_type": "code",
      "source": [
        "# --- Example 2: Popping an item from a specific index ---\n",
        "queue = [\"Person 1\", \"Person 2\", \"Person 3\"]\n",
        "first_in_line = queue.pop(0) # Remove the person at the front (index 0)\n",
        "print(f\"Now serving: {first_in_line}\") # Output: Now serving: Person 1\n",
        "print(f\"Current queue: {queue}\") # Output: Current queue: ['Person 2', 'Person 3']\n",
        "\n"
      ],
      "metadata": {
        "colab": {
          "base_uri": "https://localhost:8080/"
        },
        "id": "ZgRAbvwBoI5e",
        "outputId": "16444064-6e59-4fb4-9edf-b238edb0eaa3"
      },
      "execution_count": null,
      "outputs": [
        {
          "output_type": "stream",
          "name": "stdout",
          "text": [
            "Now serving: Person 1\n",
            "Current queue: ['Person 2', 'Person 3']\n"
          ]
        }
      ]
    },
    {
      "cell_type": "code",
      "source": [
        "# --- Example 3: Popping from the middle ---\n",
        "cards = [\"Ace\", \"King\", \"Queen\", \"Jack\"]\n",
        "middle_card = cards.pop(2) # Removes \"Queen\"\n",
        "print(f\"You drew the {middle_card}. Cards left: {cards}\") # Output: You drew the Queen. Cards left: ['Ace', 'King', 'Jack']\n",
        "\n"
      ],
      "metadata": {
        "colab": {
          "base_uri": "https://localhost:8080/"
        },
        "id": "4ZiZMmH2oKyw",
        "outputId": "d6a2253e-027c-426e-a0db-67878712fe4b"
      },
      "execution_count": null,
      "outputs": [
        {
          "output_type": "stream",
          "name": "stdout",
          "text": [
            "You drew the Queen. Cards left: ['Ace', 'King', 'Jack']\n"
          ]
        }
      ]
    },
    {
      "cell_type": "code",
      "source": [
        "# --- Example 4: Using pop in a loop (a common pattern for stacks/queues) ---\n",
        "stack = [1, 2, 3, 4, 5]\n",
        "print(\"\\nProcessing stack:\")\n",
        "while len(stack) > 0:\n",
        "    item = stack.pop()\n",
        "    print(f\"Processing item {item} from the stack.\")\n",
        "# Output:\n",
        "# Processing item 5 from the stack.\n",
        "# Processing item 4 from the stack.\n",
        "# ..."
      ],
      "metadata": {
        "colab": {
          "base_uri": "https://localhost:8080/"
        },
        "id": "nRGpHyKYoMv_",
        "outputId": "e102ba52-383b-4ac2-fad8-6b3d8f4ce8ad"
      },
      "execution_count": null,
      "outputs": [
        {
          "output_type": "stream",
          "name": "stdout",
          "text": [
            "\n",
            "Processing stack:\n",
            "Processing item 5 from the stack.\n",
            "Processing item 4 from the stack.\n",
            "Processing item 3 from the stack.\n",
            "Processing item 2 from the stack.\n",
            "Processing item 1 from the stack.\n"
          ]
        }
      ]
    },
    {
      "cell_type": "markdown",
      "source": [
        "**clear()** - Removes all items from the list, making it empty."
      ],
      "metadata": {
        "id": "WhLONIizoPeu"
      }
    },
    {
      "cell_type": "code",
      "source": [
        "# --- Example 1: Clearing a list of numbers ---\n",
        "data_points = [10, 20, 30]\n",
        "data_points.clear()\n",
        "print(f\"Data points after clear: {data_points}\") # Output: []\n",
        "\n"
      ],
      "metadata": {
        "colab": {
          "base_uri": "https://localhost:8080/"
        },
        "id": "XBQaucjgoQke",
        "outputId": "0174442b-0658-4c72-9135-496ff444cae3"
      },
      "execution_count": null,
      "outputs": [
        {
          "output_type": "stream",
          "name": "stdout",
          "text": [
            "Data points after clear: []\n"
          ]
        }
      ]
    },
    {
      "cell_type": "code",
      "source": [
        "# --- Example 2: Clearing a list of strings ---\n",
        "messages = [\"Hello\", \"World\"]\n",
        "messages.clear()\n",
        "print(f\"Messages after clear: {messages}\") # Output: []\n",
        "\n"
      ],
      "metadata": {
        "colab": {
          "base_uri": "https://localhost:8080/"
        },
        "id": "k32jUuPnoT6v",
        "outputId": "b6bda802-60cd-405d-b0b6-1a115303c426"
      },
      "execution_count": null,
      "outputs": [
        {
          "output_type": "stream",
          "name": "stdout",
          "text": [
            "Messages after clear: []\n"
          ]
        }
      ]
    },
    {
      "cell_type": "code",
      "source": [
        "# --- Example 3: Clearing an already empty list ---\n",
        "empty_list = []\n",
        "empty_list.clear()\n",
        "print(f\"Already empty list after clear: {empty_list}\") # Output: []\n",
        "\n"
      ],
      "metadata": {
        "colab": {
          "base_uri": "https://localhost:8080/"
        },
        "id": "oe4E4eYxoVu9",
        "outputId": "c7dd12bc-7956-4f01-a993-b55ef33095c8"
      },
      "execution_count": null,
      "outputs": [
        {
          "output_type": "stream",
          "name": "stdout",
          "text": [
            "Already empty list after clear: []\n"
          ]
        }
      ]
    },
    {
      "cell_type": "code",
      "source": [
        "# --- Example 4: Verifying the effect of clear() ---\n",
        "my_list = [1, 2, 3]\n",
        "my_list.clear()\n",
        "if not my_list:\n",
        "    print(\"The list is now empty!\") # Output: The list is now empty!"
      ],
      "metadata": {
        "colab": {
          "base_uri": "https://localhost:8080/"
        },
        "id": "nq2EqwUZoYP2",
        "outputId": "888cfb3a-af0f-4b84-8609-80400be90c3e"
      },
      "execution_count": null,
      "outputs": [
        {
          "output_type": "stream",
          "name": "stdout",
          "text": [
            "The list is now empty!\n"
          ]
        }
      ]
    },
    {
      "cell_type": "markdown",
      "source": [
        "**index(value, start, end)** - Returns the index of the first occurrence of a specified value. Optional start and end parameters can limit the search."
      ],
      "metadata": {
        "id": "Ey0xVPfsoZhg"
      }
    },
    {
      "cell_type": "code",
      "source": [
        "# --- Example 1: Finding the index of a number ---\n",
        "numbers = [10, 20, 30, 20]\n",
        "idx1 = numbers.index(20)\n",
        "print(f\"First occurrence of 20 is at index: {idx1}\") # Output: 1\n",
        "\n"
      ],
      "metadata": {
        "colab": {
          "base_uri": "https://localhost:8080/"
        },
        "id": "SW0DxBm7ofse",
        "outputId": "c6c0244b-8e36-461e-b40c-3b131d0f34b9"
      },
      "execution_count": null,
      "outputs": [
        {
          "output_type": "stream",
          "name": "stdout",
          "text": [
            "First occurrence of 20 is at index: 1\n"
          ]
        }
      ]
    },
    {
      "cell_type": "code",
      "source": [
        "# --- Example 2: Finding the index of a string ---\n",
        "fruits = [\"apple\", \"banana\", \"cherry\"]\n",
        "idx2 = fruits.index(\"banana\")\n",
        "print(f\"Banana is at index: {idx2}\") # Output: 1\n",
        "\n"
      ],
      "metadata": {
        "colab": {
          "base_uri": "https://localhost:8080/"
        },
        "id": "AVfdWBX3oiVH",
        "outputId": "994af1e4-8a35-4601-e0ef-3424eb4fa945"
      },
      "execution_count": null,
      "outputs": [
        {
          "output_type": "stream",
          "name": "stdout",
          "text": [
            "Banana is at index: 1\n"
          ]
        }
      ]
    },
    {
      "cell_type": "code",
      "source": [
        "# --- Example 3: Specifying a start index for search ---\n",
        "repeated_nums = [1, 2, 3, 1, 4]\n",
        "idx3 = repeated_nums.index(1, 1) # Start searching from index 1\n",
        "print(f\"Second occurrence of 1 is at index: {idx3}\") # Output: 3\n",
        "\n"
      ],
      "metadata": {
        "colab": {
          "base_uri": "https://localhost:8080/"
        },
        "id": "CEr1fwVeojzt",
        "outputId": "715e38a6-82cb-41ce-84ef-b8863c0b5f05"
      },
      "execution_count": null,
      "outputs": [
        {
          "output_type": "stream",
          "name": "stdout",
          "text": [
            "Second occurrence of 1 is at index: 3\n"
          ]
        }
      ]
    },
    {
      "cell_type": "code",
      "source": [
        "# --- Example 4: Value not found (causes ValueError) ---\n",
        "items = [\"pen\", \"pencil\"]\n",
        "try:\n",
        "    items.index(\"eraser\")\n",
        "except ValueError:\n",
        "    print(\"Eraser not found in the list.\") # Output: Eraser not found in the list."
      ],
      "metadata": {
        "colab": {
          "base_uri": "https://localhost:8080/"
        },
        "id": "yzKFfpk1olQg",
        "outputId": "c70d1d2d-a1a2-4b1c-bda4-825fdd6f8d1d"
      },
      "execution_count": null,
      "outputs": [
        {
          "output_type": "stream",
          "name": "stdout",
          "text": [
            "Eraser not found in the list.\n"
          ]
        }
      ]
    },
    {
      "cell_type": "markdown",
      "source": [
        "**count(value)** - Returns the number of times a specified value appears in the list."
      ],
      "metadata": {
        "id": "QFyk-pjQooH2"
      }
    },
    {
      "cell_type": "code",
      "source": [
        "# --- Example 1: Counting occurrences of a number ---\n",
        "data = [1, 2, 2, 3, 1, 2, 4]\n",
        "count_2 = data.count(2)\n",
        "print(f\"Number 2 appears {count_2} times.\") # Output: 3 times.\n",
        "\n"
      ],
      "metadata": {
        "colab": {
          "base_uri": "https://localhost:8080/"
        },
        "id": "8PcDycr9opEw",
        "outputId": "c3372492-f6d7-440e-adb4-339599e8931b"
      },
      "execution_count": null,
      "outputs": [
        {
          "output_type": "stream",
          "name": "stdout",
          "text": [
            "Number 2 appears 3 times.\n"
          ]
        }
      ]
    },
    {
      "cell_type": "code",
      "source": [
        "# --- Example 2: Counting occurrences of a string ---\n",
        "words = [\"apple\", \"orange\", \"apple\", \"grape\", \"orange\", \"apple\"]\n",
        "count_apple = words.count(\"apple\")\n",
        "print(f\"Apple appears {count_apple} times.\") # Output: 3 times.\n",
        "\n"
      ],
      "metadata": {
        "colab": {
          "base_uri": "https://localhost:8080/"
        },
        "id": "MQkGGrpLormO",
        "outputId": "97c041ca-c765-468d-80a0-ba7956f59cf6"
      },
      "execution_count": null,
      "outputs": [
        {
          "output_type": "stream",
          "name": "stdout",
          "text": [
            "Apple appears 3 times.\n"
          ]
        }
      ]
    },
    {
      "cell_type": "code",
      "source": [
        "# --- Example 3: Counting an item not present ---\n",
        "count_banana = words.count(\"banana\")\n",
        "print(f\"Banana appears {count_banana} times.\") # Output: 0 times.\n",
        "\n"
      ],
      "metadata": {
        "colab": {
          "base_uri": "https://localhost:8080/"
        },
        "id": "8iOIift8otvf",
        "outputId": "9ac0851d-52b3-44dd-c95d-25c2769664d2"
      },
      "execution_count": null,
      "outputs": [
        {
          "output_type": "stream",
          "name": "stdout",
          "text": [
            "Banana appears 0 times.\n"
          ]
        }
      ]
    },
    {
      "cell_type": "code",
      "source": [
        "# --- Example 4: Counting in a mixed-type list ---\n",
        "mixed_list = [1, \"a\", 1.0, True, 1] # Note: 1, 1.0, and True might be considered the same value for count\n",
        "count_one = mixed_list.count(1)\n",
        "print(f\"The value 1 appears {count_one} times.\") # Output: 3 (Python considers 1, 1.0, True as equal)"
      ],
      "metadata": {
        "colab": {
          "base_uri": "https://localhost:8080/"
        },
        "id": "xnduvXVEovi2",
        "outputId": "83921bb4-63d0-400d-d1e1-7de17201dff9"
      },
      "execution_count": null,
      "outputs": [
        {
          "output_type": "stream",
          "name": "stdout",
          "text": [
            "The value 1 appears 4 times.\n"
          ]
        }
      ]
    },
    {
      "cell_type": "markdown",
      "source": [
        "**sort(reverse=False)** - Sorts the list in-place (it modifies the original list). By default, it sorts in ascending order. Set reverse=True for descending."
      ],
      "metadata": {
        "id": "nNF1O74ao0ct"
      }
    },
    {
      "cell_type": "code",
      "source": [
        "# --- Example 1: Sorting a list of numbers (ascending) ---\n",
        "scores = [99, 34, 102, 50, 77]\n",
        "scores.sort()\n",
        "print(f\"Sorted scores (ascending): {scores}\") # Output: [34, 50, 77, 99, 102]\n",
        "\n"
      ],
      "metadata": {
        "colab": {
          "base_uri": "https://localhost:8080/"
        },
        "id": "ar55W7uZo1kO",
        "outputId": "500413de-cdd0-4fc4-ed9f-5b144efc1226"
      },
      "execution_count": null,
      "outputs": [
        {
          "output_type": "stream",
          "name": "stdout",
          "text": [
            "Sorted scores (ascending): [34, 50, 77, 99, 102]\n"
          ]
        }
      ]
    },
    {
      "cell_type": "code",
      "source": [
        "# --- Example 2: Sorting a list of strings (alphabetically) ---\n",
        "names = [\"Rohan\", \"Aisha\", \"Zoya\", \"Ben\"]\n",
        "names.sort()\n",
        "print(f\"Sorted names: {names}\") # Output: ['Aisha', 'Ben', 'Rohan', 'Zoya']\n",
        "\n"
      ],
      "metadata": {
        "colab": {
          "base_uri": "https://localhost:8080/"
        },
        "id": "-mzK9WtZo4c2",
        "outputId": "52685093-300a-4899-d76c-a70aa026dd4a"
      },
      "execution_count": null,
      "outputs": [
        {
          "output_type": "stream",
          "name": "stdout",
          "text": [
            "Sorted names: ['Aisha', 'Ben', 'Rohan', 'Zoya']\n"
          ]
        }
      ]
    },
    {
      "cell_type": "code",
      "source": [
        "# --- Example 3: Sorting in descending order ---\n",
        "temperatures = [25.5, 30.1, 22.0, 28.9]\n",
        "temperatures.sort(reverse=True)\n",
        "print(f\"Temperatures from highest to lowest: {temperatures}\") # Output: [30.1, 28.9, 25.5, 22.0]\n",
        "\n"
      ],
      "metadata": {
        "colab": {
          "base_uri": "https://localhost:8080/"
        },
        "id": "pinbEyozo7PO",
        "outputId": "7d9307f8-09b7-4029-eacb-05f29b13c235"
      },
      "execution_count": null,
      "outputs": [
        {
          "output_type": "stream",
          "name": "stdout",
          "text": [
            "Temperatures from highest to lowest: [30.1, 28.9, 25.5, 22.0]\n"
          ]
        }
      ]
    },
    {
      "cell_type": "code",
      "source": [
        "# --- Example 4: Sorting a list that is already sorted ---\n",
        "# It just stays the same, no errors.\n",
        "sorted_nums = [1, 2, 3, 4]\n",
        "sorted_nums.sort()\n",
        "print(f\"Sorting an already sorted list: {sorted_nums}\") # Output: [1, 2, 3, 4]"
      ],
      "metadata": {
        "colab": {
          "base_uri": "https://localhost:8080/"
        },
        "id": "Qu00e-Dvo9TA",
        "outputId": "6ccba185-a1e8-401c-a4c5-cfde476878cf"
      },
      "execution_count": null,
      "outputs": [
        {
          "output_type": "stream",
          "name": "stdout",
          "text": [
            "Sorting an already sorted list: [1, 2, 3, 4]\n"
          ]
        }
      ]
    },
    {
      "cell_type": "markdown",
      "source": [
        "**reverse()** - Reverses the order of elements in the list in-place."
      ],
      "metadata": {
        "id": "aa0FWbn-pAUW"
      }
    },
    {
      "cell_type": "code",
      "source": [
        "# --- Example 1: Reversing a simple list ---\n",
        "my_list = [1, 2, 3, 4]\n",
        "my_list.reverse()\n",
        "print(f\"Reversed list: {my_list}\") # Output: [4, 3, 2, 1]\n",
        "\n"
      ],
      "metadata": {
        "colab": {
          "base_uri": "https://localhost:8080/"
        },
        "id": "Tb3IXKano-W8",
        "outputId": "e7aa248f-ac2a-45a5-cd1c-165266403581"
      },
      "execution_count": null,
      "outputs": [
        {
          "output_type": "stream",
          "name": "stdout",
          "text": [
            "Reversed list: [4, 3, 2, 1]\n"
          ]
        }
      ]
    },
    {
      "cell_type": "code",
      "source": [
        "# --- Example 2: Reversing a list of strings ---\n",
        "words = [\"first\", \"second\", \"third\"]\n",
        "words.reverse()\n",
        "print(f\"Reversed words: {words}\") # Output: ['third', 'second', 'first']\n",
        "\n"
      ],
      "metadata": {
        "colab": {
          "base_uri": "https://localhost:8080/"
        },
        "id": "wummyXhqpF0v",
        "outputId": "75426f54-4a21-47bc-84c9-9e40a74cd11e"
      },
      "execution_count": null,
      "outputs": [
        {
          "output_type": "stream",
          "name": "stdout",
          "text": [
            "Reversed words: ['third', 'second', 'first']\n"
          ]
        }
      ]
    },
    {
      "cell_type": "code",
      "source": [
        "# --- Example 3: Reversing an empty list (no effect) ---\n",
        "empty = []\n",
        "empty.reverse()\n",
        "print(f\"Reversed empty list: {empty}\") # Output: []\n",
        "\n"
      ],
      "metadata": {
        "colab": {
          "base_uri": "https://localhost:8080/"
        },
        "id": "KEVs0z3upIEE",
        "outputId": "45e35dab-b92c-4096-c494-f07663de3037"
      },
      "execution_count": null,
      "outputs": [
        {
          "output_type": "stream",
          "name": "stdout",
          "text": [
            "Reversed empty list: []\n"
          ]
        }
      ]
    },
    {
      "cell_type": "code",
      "source": [
        "# --- Example 4: Reversing a list with duplicates ---\n",
        "duplicates = [1, 2, 1, 3, 2]\n",
        "duplicates.reverse()\n",
        "print(f\"Reversed list with duplicates: {duplicates}\") # Output: [2, 3, 1, 2, 1]\n"
      ],
      "metadata": {
        "colab": {
          "base_uri": "https://localhost:8080/"
        },
        "id": "ZXdT7YoApJXI",
        "outputId": "9a3bf165-38cf-4a9c-b04c-7affbf76a9b9"
      },
      "execution_count": null,
      "outputs": [
        {
          "output_type": "stream",
          "name": "stdout",
          "text": [
            "Reversed list with duplicates: [2, 3, 1, 2, 1]\n"
          ]
        }
      ]
    },
    {
      "cell_type": "markdown",
      "source": [
        "**copy()** - Returns a shallow copy of the list. This is important to avoid modifying the original list unintentionally."
      ],
      "metadata": {
        "id": "OiHdhtY7pK3H"
      }
    },
    {
      "cell_type": "code",
      "source": [
        "# --- Example 1: Creating a shallow copy ---\n",
        "original_list = [1, 2, 3]\n",
        "copied_list = original_list.copy()\n",
        "copied_list.append(4)\n",
        "print(f\"Original list: {original_list}\") # Output: [1, 2, 3]\n",
        "print(f\"Copied list: {copied_list}\") # Output: [1, 2, 3, 4]\n",
        "\n"
      ],
      "metadata": {
        "colab": {
          "base_uri": "https://localhost:8080/"
        },
        "id": "TKEoX3GipKRB",
        "outputId": "48671dd4-a4a6-4003-b934-a6c2c8664454"
      },
      "execution_count": null,
      "outputs": [
        {
          "output_type": "stream",
          "name": "stdout",
          "text": [
            "Original list: [1, 2, 3]\n",
            "Copied list: [1, 2, 3, 4]\n"
          ]
        }
      ]
    },
    {
      "cell_type": "code",
      "source": [
        "# --- Example 2: Demonstrating shallow copy with nested lists ---\n",
        "# Changes to nested lists will affect both the original and the copy.\n",
        "nested_original = [[1, 2], [3, 4]]\n",
        "nested_copy = nested_original.copy()\n",
        "nested_copy[0].append(5) # Modifies the inner list\n",
        "print(f\"Nested original: {nested_original}\") # Output: [[1, 2, 5], [3, 4]]\n",
        "print(f\"Nested copy: {nested_copy}\") # Output: [[1, 2, 5], [3, 4]]\n"
      ],
      "metadata": {
        "colab": {
          "base_uri": "https://localhost:8080/"
        },
        "id": "TTK8CZzqpSGN",
        "outputId": "5629258c-7b88-4914-ad02-898d34fafc96"
      },
      "execution_count": null,
      "outputs": [
        {
          "output_type": "stream",
          "name": "stdout",
          "text": [
            "Nested original: [[1, 2, 5], [3, 4]]\n",
            "Nested copy: [[1, 2, 5], [3, 4]]\n"
          ]
        }
      ]
    },
    {
      "cell_type": "code",
      "source": [
        "\n",
        "# --- Example 3: Copying an empty list ---\n",
        "empty_original = []\n",
        "empty_copy = empty_original.copy()\n",
        "print(f\"Empty original: {empty_original}\") # Output: []\n",
        "print(f\"Empty copy: {empty_copy}\") # Output: []\n",
        "\n"
      ],
      "metadata": {
        "colab": {
          "base_uri": "https://localhost:8080/"
        },
        "id": "AF1rcyHjpUmi",
        "outputId": "fabd4d3d-831b-417f-faac-e5d305a6bf3e"
      },
      "execution_count": null,
      "outputs": [
        {
          "output_type": "stream",
          "name": "stdout",
          "text": [
            "Empty original: []\n",
            "Empty copy: []\n"
          ]
        }
      ]
    },
    {
      "cell_type": "code",
      "source": [
        "# --- Example 4: Copying using slicing (another way to get a shallow copy) ---\n",
        "list_a = [10, 20, 30]\n",
        "list_b = list_a[:] # This creates a shallow copy, similar to .copy()\n",
        "list_b[0] = 99\n",
        "print(f\"List A: {list_a}\") # Output: [10, 20, 30]\n",
        "print(f\"List B (copy via slice): {list_b}\") # Output: [99, 20, 30]"
      ],
      "metadata": {
        "colab": {
          "base_uri": "https://localhost:8080/"
        },
        "id": "jsDpgcsMpVrD",
        "outputId": "42bc87f8-cc88-482d-928b-3a234f9abcb5"
      },
      "execution_count": null,
      "outputs": [
        {
          "output_type": "stream",
          "name": "stdout",
          "text": [
            "List A: [10, 20, 30]\n",
            "List B (copy via slice): [99, 20, 30]\n"
          ]
        }
      ]
    },
    {
      "cell_type": "markdown",
      "source": [
        "***🏆 The Tuple: The Unchanging, Trustworthy Trophy Case***\n",
        "\n",
        "A tuple is a list's strict sibling. It's an ordered collection, but once you create it, it is immutable—it cannot be changed.\n",
        "\n",
        "***📜 Core Theory of Tuples***\n",
        "\n",
        "**Ordered:** Just like lists, tuples maintain the order of items. (1, 2) is different from (2, 1).\n",
        "\n",
        "**Immutable (Unchangeable):** This is the defining feature. You cannot add, remove, or change elements after the tuple is created. This provides data integrity, ensuring that the data remains constant throughout your program's execution.\n",
        "\n",
        "***When to use a Tuple?***\n",
        "\n",
        "When you have data that should not change, like coordinates, RGB color values, or configuration settings.\n",
        "\n",
        "As keys in a dictionary (since dictionary keys must be immutable). Lists cannot be dictionary keys.\n",
        "\n",
        "They can be slightly faster than lists for iteration because of their fixed nature.\n",
        "\n",
        "***🛠️ Tuple Creation***\n",
        "\n",
        "**Syntax Explanation:** You create a tuple by enclosing a comma-separated sequence of items inside parentheses (). For a single-item tuple, you must include a trailing comma."
      ],
      "metadata": {
        "id": "43oebitjpXCW"
      }
    },
    {
      "cell_type": "code",
      "source": [
        "# --- Example 1: A simple tuple of constants ---\n",
        "# Pi, Gravity, Speed of Light (simplified)\n",
        "physical_constants = (3.14159, 9.8, 299792458)\n",
        "print(f\"Some constants: {physical_constants}\")\n",
        "\n"
      ],
      "metadata": {
        "colab": {
          "base_uri": "https://localhost:8080/"
        },
        "id": "ImuISlKQpphy",
        "outputId": "a5fdcbd6-5590-4f26-8c04-240fd7a5f096"
      },
      "execution_count": null,
      "outputs": [
        {
          "output_type": "stream",
          "name": "stdout",
          "text": [
            "Some constants: (3.14159, 9.8, 299792458)\n"
          ]
        }
      ]
    },
    {
      "cell_type": "code",
      "source": [
        "# --- Example 2: The single-item tuple trick ---\n",
        "# Without the comma, Python thinks it's just a string in parentheses.\n",
        "not_a_tuple = (\"hello\")\n",
        "is_a_tuple = (\"hello\",) # Note the comma!\n",
        "print(f\"This is a {type(not_a_tuple)}.\") # Output: This is a <class 'str'>.\n",
        "print(f\"This is a {type(is_a_tuple)}.\") # Output: This is a <class 'tuple'>.\n",
        "\n"
      ],
      "metadata": {
        "colab": {
          "base_uri": "https://localhost:8080/"
        },
        "id": "ufoqUhuvpukA",
        "outputId": "49ff259d-893e-4f25-8853-58ad8f0edfd0"
      },
      "execution_count": null,
      "outputs": [
        {
          "output_type": "stream",
          "name": "stdout",
          "text": [
            "This is a <class 'str'>.\n",
            "This is a <class 'tuple'>.\n"
          ]
        }
      ]
    },
    {
      "cell_type": "code",
      "source": [
        "# --- Example 3: Creating a tuple from a list ---\n",
        "# The tuple() constructor can convert other iterables.\n",
        "my_list = [1, \"a\", True]\n",
        "my_tuple = tuple(my_list)\n",
        "print(f\"Converted from list: {my_tuple}\") # Output: Converted from list: (1, 'a', True)\n",
        "\n"
      ],
      "metadata": {
        "colab": {
          "base_uri": "https://localhost:8080/"
        },
        "id": "VO-x09-mpwWI",
        "outputId": "68ffc031-4bdd-493c-e736-43b2c6fc9176"
      },
      "execution_count": null,
      "outputs": [
        {
          "output_type": "stream",
          "name": "stdout",
          "text": [
            "Converted from list: (1, 'a', True)\n"
          ]
        }
      ]
    },
    {
      "cell_type": "code",
      "source": [
        "# --- Example 4: Tuple with mixed data types ---\n",
        "# Storing a user's record: (ID, Username, Last_Login_Date)\n",
        "user_record = (101, \"alex_d\", \"2025-06-21\")\n",
        "print(f\"User record: {user_record}\")"
      ],
      "metadata": {
        "colab": {
          "base_uri": "https://localhost:8080/"
        },
        "id": "iBLznIdLpx3j",
        "outputId": "80442097-6f8a-4923-8f16-77f794f13718"
      },
      "execution_count": null,
      "outputs": [
        {
          "output_type": "stream",
          "name": "stdout",
          "text": [
            "User record: (101, 'alex_d', '2025-06-21')\n"
          ]
        }
      ]
    },
    {
      "cell_type": "markdown",
      "source": [
        "***💎 The Power of Immutability***\n",
        "\n",
        "This is best demonstrated by showing what you cannot do."
      ],
      "metadata": {
        "id": "zBY_heMKp05O"
      }
    },
    {
      "cell_type": "code",
      "source": [
        "# Let's use this tuple for all examples\n",
        "config_settings = (\"dark_mode\", 1080, \"auto_save\")\n",
        "print(f\"Initial config: {config_settings}\")\n",
        "\n",
        "# --- Example 1: Attempting to change an element ---\n",
        "# This will raise a TypeError.\n",
        "# config_settings[0] = \"light_mode\" # UNCOMMENT TO SEE THE ERROR!\n",
        "print(\"Attempting to change element would cause: TypeError: 'tuple' object does not support item assignment\")\n"
      ],
      "metadata": {
        "colab": {
          "base_uri": "https://localhost:8080/"
        },
        "id": "fHdR3e7GpyMt",
        "outputId": "e9f7cc2f-b645-4be7-e962-1f681aa85fbb"
      },
      "execution_count": null,
      "outputs": [
        {
          "output_type": "stream",
          "name": "stdout",
          "text": [
            "Initial config: ('dark_mode', 1080, 'auto_save')\n",
            "Attempting to change element would cause: TypeError: 'tuple' object does not support item assignment\n"
          ]
        }
      ]
    },
    {
      "cell_type": "code",
      "source": [
        "# --- Example 2: Attempting to append an element ---\n",
        "# Tuples do not have an 'append' method. This will raise an AttributeError.\n",
        "# config_settings.append(True) # UNCOMMENT TO SEE THE ERROR!\n",
        "print(\"Attempting to append element would cause: AttributeError: 'tuple' object has no attribute 'append'\")\n",
        "\n"
      ],
      "metadata": {
        "colab": {
          "base_uri": "https://localhost:8080/"
        },
        "id": "Gi0saluPp7ia",
        "outputId": "de86eae7-dc55-4fa2-e78e-77331159b808"
      },
      "execution_count": null,
      "outputs": [
        {
          "output_type": "stream",
          "name": "stdout",
          "text": [
            "Attempting to append element would cause: AttributeError: 'tuple' object has no attribute 'append'\n"
          ]
        }
      ]
    },
    {
      "cell_type": "code",
      "source": [
        "# --- Example 3: Attempting to remove an element ---\n",
        "# Tuples do not have a 'remove' or 'pop' method. This will raise an AttributeError.\n",
        "# config_settings.pop() # UNCOMMENT TO SEE THE ERROR!\n",
        "print(\"Attempting to remove element would cause: AttributeError: 'tuple' object has no attribute 'pop'\")\n",
        "\n"
      ],
      "metadata": {
        "colab": {
          "base_uri": "https://localhost:8080/"
        },
        "id": "YCma4xU5p9b6",
        "outputId": "4d473e2b-ed49-4371-dc4c-8139f5ff7aeb"
      },
      "execution_count": null,
      "outputs": [
        {
          "output_type": "stream",
          "name": "stdout",
          "text": [
            "Attempting to remove element would cause: AttributeError: 'tuple' object has no attribute 'pop'\n"
          ]
        }
      ]
    },
    {
      "cell_type": "code",
      "source": [
        "# --- Example 4: Attempting to sort the tuple ---\n",
        "# Tuples do not have a 'sort' method. This will raise an AttributeError.\n",
        "# config_settings.sort() # UNCOMMENT TO SEE THE ERROR!\n",
        "print(\"Attempting to sort tuple would cause: AttributeError: 'tuple' object has no attribute 'sort'\")\n",
        "\n",
        "# To \"change\" a tuple, you must create a new one.\n",
        "new_config = (\"light_mode\", config_settings[1], config_settings[2])\n",
        "print(f\"The only way to 'change' is to create a new tuple: {new_config}\")"
      ],
      "metadata": {
        "colab": {
          "base_uri": "https://localhost:8080/"
        },
        "id": "6-d12Fpcp-q2",
        "outputId": "215248cf-4d2b-48bc-f979-c2fb0c72a907"
      },
      "execution_count": null,
      "outputs": [
        {
          "output_type": "stream",
          "name": "stdout",
          "text": [
            "Attempting to sort tuple would cause: AttributeError: 'tuple' object has no attribute 'sort'\n",
            "The only way to 'change' is to create a new tuple: ('light_mode', 1080, 'auto_save')\n"
          ]
        }
      ]
    },
    {
      "cell_type": "markdown",
      "source": [
        "***✨ Tuple Methods***\n",
        "\n",
        "Because they are immutable, tuples have very few methods.\n",
        "\n",
        "**count(value)** - Counts the occurrences of a value."
      ],
      "metadata": {
        "id": "vC28BmgtqGc9"
      }
    },
    {
      "cell_type": "code",
      "source": [
        "# Let's use this tuple for our examples\n",
        "grades = ('A', 'C', 'B', 'A', 'A', 'B')\n",
        "\n",
        "# --- Example 1: Count how many 'A' grades there are. ---\n",
        "a_grades = grades.count('A')\n",
        "print(f\"Number of 'A' grades: {a_grades}\") # Output: 3\n",
        "\n"
      ],
      "metadata": {
        "colab": {
          "base_uri": "https://localhost:8080/"
        },
        "id": "MzL65ktwqABq",
        "outputId": "dc83f528-7d08-490c-c605-0c182d9feba9"
      },
      "execution_count": null,
      "outputs": [
        {
          "output_type": "stream",
          "name": "stdout",
          "text": [
            "Number of 'A' grades: 3\n"
          ]
        }
      ]
    },
    {
      "cell_type": "code",
      "source": [
        "# --- Example 2: Count how many 'B' grades there are. ---\n",
        "b_grades = grades.count('B')\n",
        "print(f\"Number of 'B' grades: {b_grades}\") # Output: 2\n",
        "\n"
      ],
      "metadata": {
        "colab": {
          "base_uri": "https://localhost:8080/"
        },
        "id": "i9ffYYL9qK4j",
        "outputId": "2d1dd37b-b32e-4c0f-9352-7652985e6781"
      },
      "execution_count": null,
      "outputs": [
        {
          "output_type": "stream",
          "name": "stdout",
          "text": [
            "Number of 'B' grades: 2\n"
          ]
        }
      ]
    },
    {
      "cell_type": "code",
      "source": [
        "# --- Example 3: Count a value not present. ---\n",
        "d_grades = grades.count('D')\n",
        "print(f\"Number of 'D' grades: {d_grades}\") # Output: 0\n",
        "\n"
      ],
      "metadata": {
        "colab": {
          "base_uri": "https://localhost:8080/"
        },
        "id": "4uxg7xz7qMdV",
        "outputId": "c7a61774-131d-42ca-c8ab-4b2fe321ac68"
      },
      "execution_count": null,
      "outputs": [
        {
          "output_type": "stream",
          "name": "stdout",
          "text": [
            "Number of 'D' grades: 0\n"
          ]
        }
      ]
    },
    {
      "cell_type": "code",
      "source": [
        "# --- Example 4: Count a specific number in a tuple of numbers. ---\n",
        "numbers_tuple = (1, 5, 2, 5, 5, 8)\n",
        "count_five = numbers_tuple.count(5)\n",
        "print(f\"Number 5 appears {count_five} times: {numbers_tuple}\") # Output: 3"
      ],
      "metadata": {
        "colab": {
          "base_uri": "https://localhost:8080/"
        },
        "id": "zC7WCMUhqQKe",
        "outputId": "08cf1c3b-b8d1-4874-d6de-12ce70fad656"
      },
      "execution_count": null,
      "outputs": [
        {
          "output_type": "stream",
          "name": "stdout",
          "text": [
            "Number 5 appears 3 times: (1, 5, 2, 5, 5, 8)\n"
          ]
        }
      ]
    },
    {
      "cell_type": "markdown",
      "source": [
        "**index(value, start, end)** - Returns the index of the first occurrence of a value. Optional start and end parameters can limit the search."
      ],
      "metadata": {
        "id": "6VVeJs7bqTVG"
      }
    },
    {
      "cell_type": "code",
      "source": [
        "# Let's use this tuple for our examples\n",
        "grades = ('A', 'C', 'B', 'A', 'A', 'B')\n",
        "\n",
        "# --- Example 1: Find the position of the first 'B' grade. ---\n",
        "first_b_index = grades.index('B')\n",
        "print(f\"The first 'B' grade is at index: {first_b_index}\") # Output: 2\n"
      ],
      "metadata": {
        "colab": {
          "base_uri": "https://localhost:8080/"
        },
        "id": "eAETMiaxqQ1q",
        "outputId": "bd9d0d09-c860-488b-b095-d699dbbb9883"
      },
      "execution_count": null,
      "outputs": [
        {
          "output_type": "stream",
          "name": "stdout",
          "text": [
            "The first 'B' grade is at index: 2\n"
          ]
        }
      ]
    },
    {
      "cell_type": "code",
      "source": [
        "# --- Example 2: Find the position of the first 'C' grade. ---\n",
        "first_c_index = grades.index('C')\n",
        "print(f\"The first 'C' grade is at index: {first_c_index}\") # Output: 1\n"
      ],
      "metadata": {
        "colab": {
          "base_uri": "https://localhost:8080/"
        },
        "id": "uzzSJ3JfqYQG",
        "outputId": "bdee9027-bc00-4072-94ba-ae09d391d6ac"
      },
      "execution_count": null,
      "outputs": [
        {
          "output_type": "stream",
          "name": "stdout",
          "text": [
            "The first 'C' grade is at index: 1\n"
          ]
        }
      ]
    },
    {
      "cell_type": "code",
      "source": [
        "# --- Example 3: Find the index of a repeated element after a certain position. ---\n",
        "try:\n",
        "    second_a_index = grades.index('A', 1) # Start searching from index 1\n",
        "    print(f\"The second 'A' grade is at index: {second_a_index}\") # Output: 3\n",
        "except ValueError:\n",
        "    print(\"Value 'A' not found after index 1.\")\n"
      ],
      "metadata": {
        "colab": {
          "base_uri": "https://localhost:8080/"
        },
        "id": "Ezu6vOAqqaTk",
        "outputId": "715a0786-5dbb-4f05-86da-e5127e6d0bcc"
      },
      "execution_count": null,
      "outputs": [
        {
          "output_type": "stream",
          "name": "stdout",
          "text": [
            "The second 'A' grade is at index: 3\n"
          ]
        }
      ]
    },
    {
      "cell_type": "code",
      "source": [
        "# --- Example 4: What happens if the item is not there? (Causes ValueError) ---\n",
        "try:\n",
        "    grades.index('F')\n",
        "except ValueError:\n",
        "    print(\"Grade 'F' not found in the tuple.\") # Output: Grade 'F' not found in the tuple."
      ],
      "metadata": {
        "colab": {
          "base_uri": "https://localhost:8080/"
        },
        "id": "e6NI6ZT7qcSz",
        "outputId": "1887fdb3-2336-497b-8736-2a97a17da24d"
      },
      "execution_count": null,
      "outputs": [
        {
          "output_type": "stream",
          "name": "stdout",
          "text": [
            "Grade 'F' not found in the tuple.\n"
          ]
        }
      ]
    },
    {
      "cell_type": "markdown",
      "source": [
        "***🃏 The Set: The Guardian of Uniqueness***\n",
        "\n",
        "A set is a collection that is both unordered and unindexed, with its most important characteristic being that it does not allow duplicate elements.\n",
        "\n",
        "***📜 Core Theory of Sets***\n",
        "\n",
        "***Unordered***: This is key. Unlike lists and tuples, sets do not maintain any order. When you print a set, the items could appear in any sequence, and it might even change between runs. You cannot ask for \"the item at index 2.\"\n",
        "\n",
        "***Unique Elements***: This is the set's superpower. If you add an item to a set that already contains that item, nothing happens. It's automatically ignored. This makes sets perfect for tracking unique items.\n",
        "\n",
        "***Immutable Elements (for hashing)***: While the set itself is mutable (you can add/remove elements), the elements within a set must be immutable (like numbers, strings, tuples). This is because sets use a hash table for fast lookups, and mutable types cannot be reliably hashed.\n",
        "\n",
        "***Mathematical Operations***: Sets in Python are designed to behave like mathematical sets, so you can perform operations like union, intersection, and difference.\n",
        "\n",
        "***🛠️ Set Creation***\n",
        "\n",
        "**Syntax Explanation**: You can create a set with comma-separated values inside curly braces {} or by using the set() constructor on another iterable (like a list). To create an empty set, you must use set()."
      ],
      "metadata": {
        "id": "hvEIvslTqgho"
      }
    },
    {
      "cell_type": "code",
      "source": [
        "# --- Example 1: Creating a set from a list with duplicates ---\n",
        "# The duplicates (10, 30) will be automatically removed.\n",
        "numbers_list = [10, 20, 30, 10, 30, 40]\n",
        "numbers_set = set(numbers_list)\n",
        "print(f\"Set from list (duplicates gone): {numbers_set}\") # Output: {40, 10, 20, 30} (order may vary)\n",
        "\n"
      ],
      "metadata": {
        "colab": {
          "base_uri": "https://localhost:8080/"
        },
        "id": "1ZBZibN3qcsG",
        "outputId": "51df9ac2-707e-46a5-a0d0-3a641ba4b344"
      },
      "execution_count": null,
      "outputs": [
        {
          "output_type": "stream",
          "name": "stdout",
          "text": [
            "Set from list (duplicates gone): {40, 10, 20, 30}\n"
          ]
        }
      ]
    },
    {
      "cell_type": "code",
      "source": [
        "# --- Example 2: Creating a set directly with strings ---\n",
        "# The order you type them in might not be the order they are stored/printed.\n",
        "tags = {\"python\", \"coding\", \"bootcamp\", \"djsi\"}\n",
        "print(f\"Blog tags: {tags}\") # Output: {'djsi', 'python', 'coding', 'bootcamp'} (order may vary)\n",
        "\n"
      ],
      "metadata": {
        "colab": {
          "base_uri": "https://localhost:8080/"
        },
        "id": "drgxbVwIqxjJ",
        "outputId": "33cfa84c-30b9-4e11-dcd0-41e742480e49"
      },
      "execution_count": null,
      "outputs": [
        {
          "output_type": "stream",
          "name": "stdout",
          "text": [
            "Blog tags: {'djsi', 'bootcamp', 'coding', 'python'}\n"
          ]
        }
      ]
    },
    {
      "cell_type": "code",
      "source": [
        "# --- Example 3: Creating an empty set (the correct way) ---\n",
        "empty_set = set()\n",
        "print(f\"An empty set: {empty_set}\") # Output: set()\n",
        "# empty_dict = {} # This would create a dictionary, not a set!\n"
      ],
      "metadata": {
        "colab": {
          "base_uri": "https://localhost:8080/"
        },
        "id": "MPfbNv4dq00e",
        "outputId": "796b970c-ed5f-4582-a486-cf77a3aa96a8"
      },
      "execution_count": null,
      "outputs": [
        {
          "output_type": "stream",
          "name": "stdout",
          "text": [
            "An empty set: set()\n"
          ]
        }
      ]
    },
    {
      "cell_type": "code",
      "source": [
        "# --- Example 4: Creating a set of characters from a string ---\n",
        "# A string is an iterable, so set() will make a set of its unique characters.\n",
        "unique_chars = set(\"hello world\")\n",
        "print(f\"Unique characters in 'hello world': {unique_chars}\") # Output: {' ', 'o', 'l', 'd', 'e', 'r', 'h', 'w'} (order may vary)"
      ],
      "metadata": {
        "colab": {
          "base_uri": "https://localhost:8080/"
        },
        "id": "Tui61oBJq22I",
        "outputId": "8d35ff0c-0c78-40b0-80b3-96e03ec3e87b"
      },
      "execution_count": null,
      "outputs": [
        {
          "output_type": "stream",
          "name": "stdout",
          "text": [
            "Unique characters in 'hello world': {'d', ' ', 'h', 'w', 'o', 'r', 'e', 'l'}\n"
          ]
        }
      ]
    },
    {
      "cell_type": "markdown",
      "source": [
        "***✨ Set Methods: The Venn Diagram Powers***\n",
        "\n",
        "**add(element)** - Adds a single element to the set. If the element is already present, nothing happens."
      ],
      "metadata": {
        "id": "WGcB-cA4q5Tf"
      }
    },
    {
      "cell_type": "code",
      "source": [
        "# --- Example 1: Adding a new number ---\n",
        "primes = {2, 3, 5, 7}\n",
        "primes.add(11)\n",
        "print(f\"Primes after adding 11: {primes}\") # Output: {2, 3, 5, 7, 11} (order may vary)\n",
        "\n"
      ],
      "metadata": {
        "colab": {
          "base_uri": "https://localhost:8080/"
        },
        "id": "hkWtuYnTq3Ne",
        "outputId": "7c0379fb-e7c5-4166-c1c5-e9c24dd17685"
      },
      "execution_count": null,
      "outputs": [
        {
          "output_type": "stream",
          "name": "stdout",
          "text": [
            "Primes after adding 11: {2, 3, 5, 7, 11}\n"
          ]
        }
      ]
    },
    {
      "cell_type": "code",
      "source": [
        "# --- Example 2: Adding an existing element ---\n",
        "# Nothing happens. No error, just no change.\n",
        "primes.add(7)\n",
        "print(f\"Primes after adding 7 again: {primes}\") # Output: {2, 3, 5, 7, 11} (order may vary)\n",
        "\n"
      ],
      "metadata": {
        "colab": {
          "base_uri": "https://localhost:8080/"
        },
        "id": "-CF5FXejq-91",
        "outputId": "55caa501-fdaf-4fb6-b0bd-94b0da2fc1d3"
      },
      "execution_count": null,
      "outputs": [
        {
          "output_type": "stream",
          "name": "stdout",
          "text": [
            "Primes after adding 7 again: {2, 3, 5, 7, 11}\n"
          ]
        }
      ]
    },
    {
      "cell_type": "code",
      "source": [
        "# --- Example 3: Adding a string ---\n",
        "fruits = {\"apple\", \"banana\"}\n",
        "fruits.add(\"cherry\")\n",
        "print(f\"Fruits: {fruits}\") # Output: {'cherry', 'banana', 'apple'} (order may vary)\n",
        "\n"
      ],
      "metadata": {
        "colab": {
          "base_uri": "https://localhost:8080/"
        },
        "id": "PiA-l3zirAFN",
        "outputId": "79a11209-bd42-4d49-b4d7-2328a3065600"
      },
      "execution_count": null,
      "outputs": [
        {
          "output_type": "stream",
          "name": "stdout",
          "text": [
            "Fruits: {'apple', 'cherry', 'banana'}\n"
          ]
        }
      ]
    },
    {
      "cell_type": "code",
      "source": [
        "# --- Example 4: Starting with an empty set and adding to it ---\n",
        "seen_ips = set()\n",
        "seen_ips.add(\"192.168.1.1\")\n",
        "seen_ips.add(\"10.0.0.1\")\n",
        "print(f\"IP addresses seen so far: {seen_ips}\") # Output: {'10.0.0.1', '192.168.1.1'} (order may vary)"
      ],
      "metadata": {
        "colab": {
          "base_uri": "https://localhost:8080/"
        },
        "id": "ydANzreOrBbA",
        "outputId": "dd594a00-80b9-46fc-ad9d-886d015ce092"
      },
      "execution_count": null,
      "outputs": [
        {
          "output_type": "stream",
          "name": "stdout",
          "text": [
            "IP addresses seen so far: {'10.0.0.1', '192.168.1.1'}\n"
          ]
        }
      ]
    },
    {
      "cell_type": "markdown",
      "source": [
        "**remove(element)** - Removes a specified element from the set. Raises a KeyError if the element is not found."
      ],
      "metadata": {
        "id": "SnG88Gg6rFRQ"
      }
    },
    {
      "cell_type": "code",
      "source": [
        "# --- Example 1: Removing an existing element ---\n",
        "my_set = {1, 2, 3, 4}\n",
        "my_set.remove(3)\n",
        "print(f\"Set after removing 3: {my_set}\") # Output: {1, 2, 4} (order may vary)\n"
      ],
      "metadata": {
        "colab": {
          "base_uri": "https://localhost:8080/"
        },
        "id": "hjJI08_9rCHM",
        "outputId": "92df6334-4a3d-41f8-a740-6fd26e83aa21"
      },
      "execution_count": null,
      "outputs": [
        {
          "output_type": "stream",
          "name": "stdout",
          "text": [
            "Set after removing 3: {1, 2, 4}\n"
          ]
        }
      ]
    },
    {
      "cell_type": "code",
      "source": [
        "# --- Example 2: Removing an element that is not present (raises KeyError) ---\n",
        "try:\n",
        "    my_set.remove(99)\n",
        "except KeyError:\n",
        "    print(\"Cannot remove 99 - it's not in the set!\") # Output: Cannot remove 99 - it's not in the set!\n",
        "print(f\"Set after failed remove attempt: {my_set}\") # Output: {1, 2, 4} (order may vary)\n",
        "\n"
      ],
      "metadata": {
        "colab": {
          "base_uri": "https://localhost:8080/"
        },
        "id": "1HODt_RirInf",
        "outputId": "150911f1-39ca-413c-975b-c3f4b6b53f9d"
      },
      "execution_count": null,
      "outputs": [
        {
          "output_type": "stream",
          "name": "stdout",
          "text": [
            "Cannot remove 99 - it's not in the set!\n",
            "Set after failed remove attempt: {1, 2, 4}\n"
          ]
        }
      ]
    },
    {
      "cell_type": "code",
      "source": [
        "# --- Example 3: Removing a string element ---\n",
        "cities = {\"Mumbai\", \"Delhi\", \"Chennai\"}\n",
        "cities.remove(\"Delhi\")\n",
        "print(f\"Cities after removing Delhi: {cities}\") # Output: {'Mumbai', 'Chennai'} (order may vary)\n",
        "\n"
      ],
      "metadata": {
        "colab": {
          "base_uri": "https://localhost:8080/"
        },
        "id": "9vxDzuVkrKZ6",
        "outputId": "f6a35be4-b4ec-471d-96a8-d1a3d58dc0ab"
      },
      "execution_count": null,
      "outputs": [
        {
          "output_type": "stream",
          "name": "stdout",
          "text": [
            "Cities after removing Delhi: {'Mumbai', 'Chennai'}\n"
          ]
        }
      ]
    },
    {
      "cell_type": "code",
      "source": [
        "# --- Example 4: Using remove in a condition ---\n",
        "elements = {'a', 'b', 'c'}\n",
        "if 'b' in elements:\n",
        "    elements.remove('b')\n",
        "    print(f\"'b' was removed. Current set: {elements}\") # Output: 'b' was removed. Current set: {'a', 'c'}"
      ],
      "metadata": {
        "colab": {
          "base_uri": "https://localhost:8080/"
        },
        "id": "3ebWdet2rMEB",
        "outputId": "76d2ba7f-e7ab-461c-fcca-6613ab853328"
      },
      "execution_count": null,
      "outputs": [
        {
          "output_type": "stream",
          "name": "stdout",
          "text": [
            "'b' was removed. Current set: {'c', 'a'}\n"
          ]
        }
      ]
    },
    {
      "cell_type": "markdown",
      "source": [
        "**discard(element)** - Removes a specified element from the set if it is present. Unlike remove(), it does not raise an error if the element is not found."
      ],
      "metadata": {
        "id": "nENAzAOHrTjX"
      }
    },
    {
      "cell_type": "code",
      "source": [
        "# --- Example 1: Discarding an existing element ---\n",
        "planets = {\"Mars\", \"Earth\", \"Jupiter\"}\n",
        "planets.discard(\"Earth\")\n",
        "print(f\"Planets after discarding Earth: {planets}\") # Output: {'Mars', 'Jupiter'} (order may vary)\n",
        "\n"
      ],
      "metadata": {
        "colab": {
          "base_uri": "https://localhost:8080/"
        },
        "id": "CDTnr55wrMez",
        "outputId": "09f4754a-1feb-4454-ee96-1dc3693067c9"
      },
      "execution_count": null,
      "outputs": [
        {
          "output_type": "stream",
          "name": "stdout",
          "text": [
            "Planets after discarding Earth: {'Mars', 'Jupiter'}\n"
          ]
        }
      ]
    },
    {
      "cell_type": "code",
      "source": [
        "# --- Example 2: Discarding an element that is not present (no error) ---\n",
        "planets.discard(\"Neptune\")\n",
        "print(f\"Planets after discarding non-existent Neptune: {planets}\") # Output: {'Mars', 'Jupiter'} (order may vary)\n",
        "\n"
      ],
      "metadata": {
        "colab": {
          "base_uri": "https://localhost:8080/"
        },
        "id": "vO2amE6DrYwF",
        "outputId": "e24a5478-0eb8-4856-c72b-431d0a2dba7d"
      },
      "execution_count": null,
      "outputs": [
        {
          "output_type": "stream",
          "name": "stdout",
          "text": [
            "Planets after discarding non-existent Neptune: {'Mars', 'Jupiter'}\n"
          ]
        }
      ]
    },
    {
      "cell_type": "code",
      "source": [
        "# --- Example 3: Discarding a number ---\n",
        "numbers = {10, 20, 30}\n",
        "numbers.discard(20)\n",
        "print(f\"Numbers after discarding 20: {numbers}\") # Output: {10, 30} (order may vary)\n",
        "\n"
      ],
      "metadata": {
        "colab": {
          "base_uri": "https://localhost:8080/"
        },
        "id": "284hX3RUrZ_7",
        "outputId": "5f64ce63-27a7-431d-8a6a-c6f08dda7f40"
      },
      "execution_count": null,
      "outputs": [
        {
          "output_type": "stream",
          "name": "stdout",
          "text": [
            "Numbers after discarding 20: {10, 30}\n"
          ]
        }
      ]
    },
    {
      "cell_type": "code",
      "source": [
        "# --- Example 4: Using discard when you're unsure if the item exists ---\n",
        "user_roles = {\"admin\", \"editor\", \"viewer\"}\n",
        "user_roles.discard(\"moderator\") # No error if 'moderator' isn't there\n",
        "print(f\"User roles after discarding moderator: {user_roles}\") # Output: {'editor', 'viewer', 'admin'} (order may vary)"
      ],
      "metadata": {
        "colab": {
          "base_uri": "https://localhost:8080/"
        },
        "id": "qypxIRUQrbKQ",
        "outputId": "a11c081c-260e-4ab8-88a1-4c80d0e42e75"
      },
      "execution_count": null,
      "outputs": [
        {
          "output_type": "stream",
          "name": "stdout",
          "text": [
            "User roles after discarding moderator: {'editor', 'admin', 'viewer'}\n"
          ]
        }
      ]
    },
    {
      "cell_type": "markdown",
      "source": [
        "**pop()** - Removes and returns an arbitrary (random) element from the set. Raises a KeyError if the set is empty."
      ],
      "metadata": {
        "id": "8mvDmWwMreJp"
      }
    },
    {
      "cell_type": "code",
      "source": [
        "# --- Example 1: Popping an element from a set ---\n",
        "unique_ids = {101, 102, 103, 104}\n",
        "removed_id = unique_ids.pop()\n",
        "print(f\"Removed ID: {removed_id}\") # Output: An arbitrary ID (e.g., 101 or 102 etc.)\n",
        "print(f\"Remaining IDs: {unique_ids}\") # Remaining set without the popped ID\n",
        "\n"
      ],
      "metadata": {
        "colab": {
          "base_uri": "https://localhost:8080/"
        },
        "id": "AuDjItICrbrW",
        "outputId": "ecb83b83-1f90-4fe4-896d-820ecd379584"
      },
      "execution_count": null,
      "outputs": [
        {
          "output_type": "stream",
          "name": "stdout",
          "text": [
            "Removed ID: 104\n",
            "Remaining IDs: {101, 102, 103}\n"
          ]
        }
      ]
    },
    {
      "cell_type": "code",
      "source": [
        "# --- Example 2: Popping multiple times (emptying the set) ---\n",
        "chars = {'a', 'b', 'c'}\n",
        "print(f\"Initial chars: {chars}\")\n",
        "while chars: # Loop as long as the set is not empty\n",
        "    popped_char = chars.pop()\n",
        "    print(f\"Popped: {popped_char}, Remaining: {chars}\")\n",
        "# Output: (order will vary)\n",
        "# Popped: c, Remaining: {'a', 'b'}\n",
        "# Popped: b, Remaining: {'a'}\n",
        "# Popped: a, Remaining: set()\n",
        "\n"
      ],
      "metadata": {
        "colab": {
          "base_uri": "https://localhost:8080/"
        },
        "id": "XXMQWN1Wribz",
        "outputId": "ccb4b17e-0b2a-4aba-a604-6618bf126168"
      },
      "execution_count": null,
      "outputs": [
        {
          "output_type": "stream",
          "name": "stdout",
          "text": [
            "Initial chars: {'c', 'a', 'b'}\n",
            "Popped: c, Remaining: {'a', 'b'}\n",
            "Popped: a, Remaining: {'b'}\n",
            "Popped: b, Remaining: set()\n"
          ]
        }
      ]
    },
    {
      "cell_type": "code",
      "source": [
        "# --- Example 3: Popping from an empty set (raises KeyError) ---\n",
        "empty_set = set()\n",
        "try:\n",
        "    empty_set.pop()\n",
        "except KeyError:\n",
        "    print(\"Cannot pop from an empty set!\") # Output: Cannot pop from an empty set!\n",
        "\n"
      ],
      "metadata": {
        "colab": {
          "base_uri": "https://localhost:8080/"
        },
        "id": "OcicedVprj-q",
        "outputId": "fbbe7948-b085-4fbc-9439-1d07f93f741b"
      },
      "execution_count": null,
      "outputs": [
        {
          "output_type": "stream",
          "name": "stdout",
          "text": [
            "Cannot pop from an empty set!\n"
          ]
        }
      ]
    },
    {
      "cell_type": "code",
      "source": [
        "# --- Example 4: Combining pop with a check ---\n",
        "items = {5, 6}\n",
        "if items: # Check if set is not empty before popping\n",
        "    item = items.pop()\n",
        "    print(f\"Item popped: {item}\")"
      ],
      "metadata": {
        "colab": {
          "base_uri": "https://localhost:8080/"
        },
        "id": "7fW9eMUWrlhH",
        "outputId": "f5b17de3-8363-4f09-c9fd-4ff0371248d5"
      },
      "execution_count": null,
      "outputs": [
        {
          "output_type": "stream",
          "name": "stdout",
          "text": [
            "Item popped: 5\n"
          ]
        }
      ]
    },
    {
      "cell_type": "markdown",
      "source": [
        "**clear()** - Removes all elements from the set."
      ],
      "metadata": {
        "id": "4tQfFfpyrn6H"
      }
    },
    {
      "cell_type": "code",
      "source": [
        "# --- Example 1: Clearing a set ---\n",
        "my_set = {1, 2, 3}\n",
        "my_set.clear()\n",
        "print(f\"Set after clear: {my_set}\") # Output: set()\n",
        "\n"
      ],
      "metadata": {
        "colab": {
          "base_uri": "https://localhost:8080/"
        },
        "id": "OV0wBkDKrmBh",
        "outputId": "8a42b184-5b75-4b19-8ea2-1c25afc4fcd1"
      },
      "execution_count": null,
      "outputs": [
        {
          "output_type": "stream",
          "name": "stdout",
          "text": [
            "Set after clear: set()\n"
          ]
        }
      ]
    },
    {
      "cell_type": "code",
      "source": [
        "# --- Example 2: Clearing a set of strings ---\n",
        "tags = {\"dev\", \"code\"}\n",
        "tags.clear()\n",
        "print(f\"Tags after clear: {tags}\") # Output: set()\n"
      ],
      "metadata": {
        "colab": {
          "base_uri": "https://localhost:8080/"
        },
        "id": "TsM3BkI8rrKm",
        "outputId": "a10652d3-c0d6-4c6d-cef8-51f16d48218a"
      },
      "execution_count": null,
      "outputs": [
        {
          "output_type": "stream",
          "name": "stdout",
          "text": [
            "Tags after clear: set()\n"
          ]
        }
      ]
    },
    {
      "cell_type": "code",
      "source": [
        "\n",
        "# --- Example 3: Clearing an already empty set ---\n",
        "empty = set()\n",
        "empty.clear()\n",
        "print(f\"Already empty set after clear: {empty}\") # Output: set()\n"
      ],
      "metadata": {
        "colab": {
          "base_uri": "https://localhost:8080/"
        },
        "id": "Y4LfDR6GrsdO",
        "outputId": "66cbea47-6da2-4c6e-a6d8-a804886a0990"
      },
      "execution_count": null,
      "outputs": [
        {
          "output_type": "stream",
          "name": "stdout",
          "text": [
            "Already empty set after clear: set()\n"
          ]
        }
      ]
    },
    {
      "cell_type": "code",
      "source": [
        "# --- Example 4: Verifying emptiness after clear ---\n",
        "data_set = {10, 20}\n",
        "data_set.clear()\n",
        "if not data_set:\n",
        "    print(\"The set is now empty.\") # Output: The set is now empty."
      ],
      "metadata": {
        "colab": {
          "base_uri": "https://localhost:8080/"
        },
        "id": "Q_c_TNNqrt57",
        "outputId": "4c6d8e3a-a3d2-4dd7-be0b-9805602042ea"
      },
      "execution_count": null,
      "outputs": [
        {
          "output_type": "stream",
          "name": "stdout",
          "text": [
            "The set is now empty.\n"
          ]
        }
      ]
    },
    {
      "cell_type": "markdown",
      "source": [
        "**union(other_set, ...)** - Returns a new set containing all unique elements from the current set and all specified other sets. Can use the | operator."
      ],
      "metadata": {
        "id": "Sk0V0iAVrxIn"
      }
    },
    {
      "cell_type": "code",
      "source": [
        "dev_team_A = {\"Alice\", \"Bob\", \"Charlie\"}\n",
        "dev_team_B = {\"Charlie\", \"David\", \"Eve\"}\n",
        "\n",
        "# --- Example 1: Basic union ---\n",
        "all_developers = dev_team_A.union(dev_team_B)\n",
        "print(f\"All developers in both teams: {all_developers}\") # Output: {'Alice', 'Bob', 'Charlie', 'David', 'Eve'} (order may vary)\n",
        "\n"
      ],
      "metadata": {
        "colab": {
          "base_uri": "https://localhost:8080/"
        },
        "id": "3Od8MUzsruvq",
        "outputId": "1c4c3d25-b628-4029-8e7c-570983a31bd6"
      },
      "execution_count": null,
      "outputs": [
        {
          "output_type": "stream",
          "name": "stdout",
          "text": [
            "All developers in both teams: {'Charlie', 'Alice', 'Eve', 'Bob', 'David'}\n"
          ]
        }
      ]
    },
    {
      "cell_type": "code",
      "source": [
        "# --- Example 2: Union with an empty set ---\n",
        "# The result is just the original set.\n",
        "union_with_empty = dev_team_A.union(set())\n",
        "print(f\"Union with empty set: {union_with_empty}\") # Output: {'Alice', 'Bob', 'Charlie'} (order may vary)\n",
        "\n"
      ],
      "metadata": {
        "colab": {
          "base_uri": "https://localhost:8080/"
        },
        "id": "ooVNoMK_r1V4",
        "outputId": "d87a03df-3b4d-4e5d-e0b2-84116e1ebaca"
      },
      "execution_count": null,
      "outputs": [
        {
          "output_type": "stream",
          "name": "stdout",
          "text": [
            "Union with empty set: {'Bob', 'Charlie', 'Alice'}\n"
          ]
        }
      ]
    },
    {
      "cell_type": "code",
      "source": [
        "# --- Example 3: Union of number sets ---\n",
        "set1 = {1, 2, 3}\n",
        "set2 = {3, 4, 5}\n",
        "number_union = set1.union(set2)\n",
        "print(f\"Union of number sets: {number_union}\") # Output: {1, 2, 3, 4, 5} (order may vary)\n",
        "\n"
      ],
      "metadata": {
        "colab": {
          "base_uri": "https://localhost:8080/"
        },
        "id": "8rTnYanKr3es",
        "outputId": "a744146d-4a73-4c23-d4a5-56ba4d974ccb"
      },
      "execution_count": null,
      "outputs": [
        {
          "output_type": "stream",
          "name": "stdout",
          "text": [
            "Union of number sets: {1, 2, 3, 4, 5}\n"
          ]
        }
      ]
    },
    {
      "cell_type": "code",
      "source": [
        "# --- Example 4: The union operator `|` ---\n",
        "# This is a shorthand way to do the same thing.\n",
        "all_devs_shorthand = dev_team_A | dev_team_B\n",
        "print(f\"Union using operator '|': {all_devs_shorthand}\") # Output: {'Alice', 'Bob', 'Charlie', 'David', 'Eve'} (order may vary)"
      ],
      "metadata": {
        "colab": {
          "base_uri": "https://localhost:8080/"
        },
        "id": "IS8tzhT2r5FF",
        "outputId": "e6989dd3-e3c6-4dd3-86aa-89825da3d21d"
      },
      "execution_count": null,
      "outputs": [
        {
          "output_type": "stream",
          "name": "stdout",
          "text": [
            "Union using operator '|': {'Charlie', 'Alice', 'Eve', 'Bob', 'David'}\n"
          ]
        }
      ]
    },
    {
      "cell_type": "markdown",
      "source": [
        "**intersection(other_set, ...)** - Returns a new set containing only elements that are common to all specified sets (present in all of them). Can use the & operator."
      ],
      "metadata": {
        "id": "XswsL6y_r-2o"
      }
    },
    {
      "cell_type": "code",
      "source": [
        "frontend_skills = {\"HTML\", \"CSS\", \"JavaScript\", \"React\"}\n",
        "backend_skills = {\"Python\", \"SQL\", \"JavaScript\"}\n",
        "\n",
        "# --- Example 1: Basic intersection ---\n",
        "full_stack_skills = frontend_skills.intersection(backend_skills)\n",
        "print(f\"Skills needed for full-stack: {full_stack_skills}\") # Output: {'JavaScript'}\n",
        "\n"
      ],
      "metadata": {
        "colab": {
          "base_uri": "https://localhost:8080/"
        },
        "id": "bnXZtshXr5wM",
        "outputId": "d217ff2c-1c35-4f64-a7ba-d8cd90535e80"
      },
      "execution_count": null,
      "outputs": [
        {
          "output_type": "stream",
          "name": "stdout",
          "text": [
            "Skills needed for full-stack: {'JavaScript'}\n"
          ]
        }
      ]
    },
    {
      "cell_type": "code",
      "source": [
        "# --- Example 2: Intersection where there is no overlap ---\n",
        "set_A = {1, 2, 3}\n",
        "set_B = {4, 5, 6}\n",
        "no_common_items = set_A.intersection(set_B)\n",
        "print(f\"Intersection with no overlap: {no_common_items}\") # Output: set()\n",
        "\n"
      ],
      "metadata": {
        "colab": {
          "base_uri": "https://localhost:8080/"
        },
        "id": "xB7UlluesDrc",
        "outputId": "e29e5c60-4988-4d1f-cdee-b463b9cf253d"
      },
      "execution_count": null,
      "outputs": [
        {
          "output_type": "stream",
          "name": "stdout",
          "text": [
            "Intersection with no overlap: set()\n"
          ]
        }
      ]
    },
    {
      "cell_type": "code",
      "source": [
        "# --- Example 3: Intersection with more than two sets ---\n",
        "set_C = {\"JavaScript\", \"TypeScript\", \"HTML\"}\n",
        "common_in_three = frontend_skills.intersection(backend_skills, set_C)\n",
        "print(f\"Skill common to all three sets: {common_in_three}\") # Output: {'JavaScript'}\n",
        "\n"
      ],
      "metadata": {
        "colab": {
          "base_uri": "https://localhost:8080/"
        },
        "id": "rjkdqvTRsE7u",
        "outputId": "6a335034-7c87-4874-dbb7-6fa357e8393a"
      },
      "execution_count": null,
      "outputs": [
        {
          "output_type": "stream",
          "name": "stdout",
          "text": [
            "Skill common to all three sets: {'JavaScript'}\n"
          ]
        }
      ]
    },
    {
      "cell_type": "code",
      "source": [
        "# --- Example 4: The intersection operator `&` ---\n",
        "# This is a shorthand way to do the same thing.\n",
        "full_stack_shorthand = frontend_skills & backend_skills\n",
        "print(f\"Intersection using operator '&': {full_stack_shorthand}\") # Output: {'JavaScript'}"
      ],
      "metadata": {
        "colab": {
          "base_uri": "https://localhost:8080/"
        },
        "id": "9KR-5RP7sGEr",
        "outputId": "146bef04-494f-4ca8-d83a-3b6d0d02ba09"
      },
      "execution_count": null,
      "outputs": [
        {
          "output_type": "stream",
          "name": "stdout",
          "text": [
            "Intersection using operator '&': {'JavaScript'}\n"
          ]
        }
      ]
    },
    {
      "cell_type": "markdown",
      "source": [
        "**difference(other_set, ...)** - Returns a new set containing elements that are in the first set but NOT in the other specified sets. Can use the - operator."
      ],
      "metadata": {
        "id": "OAT19e03sITQ"
      }
    },
    {
      "cell_type": "code",
      "source": [
        "all_students = {\"Alice\", \"Bob\", \"Charlie\", \"David\"}\n",
        "graduated_students = {\"Bob\", \"David\"}\n",
        "\n",
        "# --- Example 1: Basic difference ---\n",
        "current_students = all_students.difference(graduated_students)\n",
        "print(f\"Current students: {current_students}\") # Output: {'Alice', 'Charlie'} (order may vary)\n",
        "\n"
      ],
      "metadata": {
        "colab": {
          "base_uri": "https://localhost:8080/"
        },
        "id": "NR0z2UndsGeN",
        "outputId": "acd5763f-2a5f-4ca7-e5e5-54f05e898e62"
      },
      "execution_count": null,
      "outputs": [
        {
          "output_type": "stream",
          "name": "stdout",
          "text": [
            "Current students: {'Charlie', 'Alice'}\n"
          ]
        }
      ]
    },
    {
      "cell_type": "code",
      "source": [
        "# --- Example 2: Difference with no common elements ---\n",
        "set_X = {10, 20, 30}\n",
        "set_Y = {40, 50}\n",
        "diff_no_overlap = set_X.difference(set_Y)\n",
        "print(f\"Difference with no overlap: {diff_no_overlap}\") # Output: {10, 20, 30} (order may vary)\n",
        "\n"
      ],
      "metadata": {
        "colab": {
          "base_uri": "https://localhost:8080/"
        },
        "id": "L2vmAq59sLvb",
        "outputId": "3e7267be-386d-4ded-de23-952d4d48f2c4"
      },
      "execution_count": null,
      "outputs": [
        {
          "output_type": "stream",
          "name": "stdout",
          "text": [
            "Difference with no overlap: {10, 20, 30}\n"
          ]
        }
      ]
    },
    {
      "cell_type": "code",
      "source": [
        "# --- Example 3: Difference from multiple sets ---\n",
        "set_grades = {'A', 'B', 'C', 'D', 'F'}\n",
        "passing_grades = {'A', 'B', 'C'}\n",
        "failed_grades = set_grades.difference(passing_grades)\n",
        "print(f\"Failed grades: {failed_grades}\") # Output: {'F', 'D'} (order may vary)\n",
        "\n"
      ],
      "metadata": {
        "colab": {
          "base_uri": "https://localhost:8080/"
        },
        "id": "4XbY3IP6sN1i",
        "outputId": "5a2413ba-58ab-46ed-ea41-1f6af3573d59"
      },
      "execution_count": null,
      "outputs": [
        {
          "output_type": "stream",
          "name": "stdout",
          "text": [
            "Failed grades: {'F', 'D'}\n"
          ]
        }
      ]
    },
    {
      "cell_type": "code",
      "source": [
        "# --- Example 4: The difference operator `-` ---\n",
        "remaining_tasks = {\"Task1\", \"Task2\", \"Task3\"}\n",
        "completed_tasks = {\"Task1\"}\n",
        "pending_tasks = remaining_tasks - completed_tasks\n",
        "print(f\"Pending tasks using operator '-': {pending_tasks}\") # Output: {'Task2', 'Task3'} (order may vary)"
      ],
      "metadata": {
        "colab": {
          "base_uri": "https://localhost:8080/"
        },
        "id": "q7PA9eeLsO12",
        "outputId": "a47dc3d8-7a97-42c4-f5a2-aaae05c6be27"
      },
      "execution_count": null,
      "outputs": [
        {
          "output_type": "stream",
          "name": "stdout",
          "text": [
            "Pending tasks using operator '-': {'Task2', 'Task3'}\n"
          ]
        }
      ]
    },
    {
      "cell_type": "markdown",
      "source": [
        "**symmetric_difference(other_set)**- Returns a new set containing elements that are in either set, but not in both. Can use the ^ operator."
      ],
      "metadata": {
        "id": "aII_AmaZsQrf"
      }
    },
    {
      "cell_type": "code",
      "source": [
        "developers = {\"Alice\", \"Bob\", \"Charlie\"}\n",
        "designers = {\"Charlie\", \"David\", \"Alice\"}\n",
        "\n",
        "# --- Example 1: Basic symmetric difference ---\n",
        "unique_roles = developers.symmetric_difference(designers)\n",
        "print(f\"Unique roles (not common to both): {unique_roles}\") # Output: {'Bob', 'David'} (order may vary)\n",
        "\n"
      ],
      "metadata": {
        "colab": {
          "base_uri": "https://localhost:8080/"
        },
        "id": "ZB2kV3TrsPSC",
        "outputId": "75c4c344-29d1-42a9-8f41-b9d1c6e7d86d"
      },
      "execution_count": null,
      "outputs": [
        {
          "output_type": "stream",
          "name": "stdout",
          "text": [
            "Unique roles (not common to both): {'Bob', 'David'}\n"
          ]
        }
      ]
    },
    {
      "cell_type": "code",
      "source": [
        "# --- Example 2: Symmetric difference with no overlap (same as union) ---\n",
        "set_P = {1, 2}\n",
        "set_Q = {3, 4}\n",
        "sym_diff_no_overlap = set_P.symmetric_difference(set_Q)\n",
        "print(f\"Symmetric difference with no overlap: {sym_diff_no_overlap}\") # Output: {1, 2, 3, 4} (order may vary)\n",
        "\n"
      ],
      "metadata": {
        "colab": {
          "base_uri": "https://localhost:8080/"
        },
        "id": "5KgVZ57LsU2o",
        "outputId": "cbef5bbb-5be2-450c-9913-2f2718903614"
      },
      "execution_count": null,
      "outputs": [
        {
          "output_type": "stream",
          "name": "stdout",
          "text": [
            "Symmetric difference with no overlap: {1, 2, 3, 4}\n"
          ]
        }
      ]
    },
    {
      "cell_type": "code",
      "source": [
        "# --- Example 3: Symmetric difference with one empty set ---\n",
        "set_R = {5, 6}\n",
        "sym_diff_empty = set_R.symmetric_difference(set())\n",
        "print(f\"Symmetric difference with empty set: {sym_diff_empty}\") # Output: {5, 6} (order may vary)\n",
        "\n"
      ],
      "metadata": {
        "colab": {
          "base_uri": "https://localhost:8080/"
        },
        "id": "-E32Fim1sV_U",
        "outputId": "edfb941d-d58f-4583-9626-dc3a224017c4"
      },
      "execution_count": null,
      "outputs": [
        {
          "output_type": "stream",
          "name": "stdout",
          "text": [
            "Symmetric difference with empty set: {5, 6}\n"
          ]
        }
      ]
    },
    {
      "cell_type": "code",
      "source": [
        "# --- Example 4: The symmetric difference operator `^` ---\n",
        "exclusive_members = developers ^ designers\n",
        "print(f\"Exclusive members using operator '^': {exclusive_members}\") # Output: {'Bob', 'David'} (order may vary)\n"
      ],
      "metadata": {
        "colab": {
          "base_uri": "https://localhost:8080/"
        },
        "id": "gErrhCIMsXGg",
        "outputId": "9badbfef-1465-4361-821d-800c97003f44"
      },
      "execution_count": null,
      "outputs": [
        {
          "output_type": "stream",
          "name": "stdout",
          "text": [
            "Exclusive members using operator '^': {'Bob', 'David'}\n"
          ]
        }
      ]
    },
    {
      "cell_type": "markdown",
      "source": [
        "**issubset(other_set)** - Returns True if all elements of the current set are present in the other_set.\n",
        "\n",
        "**issuperset(other_set)** - Returns True if all elements of the other_set are present in the current set.\n",
        "\n",
        "**isdisjoint(other_set)** - Returns True if the two sets have no elements in common."
      ],
      "metadata": {
        "id": "SNxVgKiLsb8O"
      }
    },
    {
      "cell_type": "code",
      "source": [
        "A = {1, 2, 3}\n",
        "B = {1, 2, 3, 4, 5}\n",
        "C = {4, 5}\n",
        "D = {6, 7}\n",
        "\n",
        "# --- Example 1: issubset() ---\n",
        "print(f\"Is A a subset of B? {A.issubset(B)}\") # Output: True\n",
        "print(f\"Is B a subset of A? {B.issubset(A)}\") # Output: False\n",
        "\n"
      ],
      "metadata": {
        "colab": {
          "base_uri": "https://localhost:8080/"
        },
        "id": "ZxEc1tDqsXz5",
        "outputId": "8196e334-12d4-4111-920a-349d8850c225"
      },
      "execution_count": null,
      "outputs": [
        {
          "output_type": "stream",
          "name": "stdout",
          "text": [
            "Is A a subset of B? True\n",
            "Is B a subset of A? False\n"
          ]
        }
      ]
    },
    {
      "cell_type": "code",
      "source": [
        "# --- Example 2: issuperset() ---\n",
        "print(f\"Is B a superset of A? {B.issuperset(A)}\") # Output: True\n",
        "print(f\"Is A a superset of B? {A.issuperset(B)}\") # Output: False\n",
        "\n"
      ],
      "metadata": {
        "colab": {
          "base_uri": "https://localhost:8080/"
        },
        "id": "LT1nYIbBskD6",
        "outputId": "7d351726-3cb6-4aec-86af-a8fe5c9ea76d"
      },
      "execution_count": null,
      "outputs": [
        {
          "output_type": "stream",
          "name": "stdout",
          "text": [
            "Is B a superset of A? True\n",
            "Is A a superset of B? False\n"
          ]
        }
      ]
    },
    {
      "cell_type": "code",
      "source": [
        "# --- Example 3: isdisjoint() ---\n",
        "print(f\"Are A and D disjoint? {A.isdisjoint(D)}\") # Output: True (no common elements)\n",
        "print(f\"Are A and B disjoint? {A.isdisjoint(B)}\") # Output: False (they share 1, 2, 3)\n",
        "\n"
      ],
      "metadata": {
        "colab": {
          "base_uri": "https://localhost:8080/"
        },
        "id": "Z1CkS0oCsl20",
        "outputId": "23deef40-e143-487a-dbfc-4eda08c82315"
      },
      "execution_count": null,
      "outputs": [
        {
          "output_type": "stream",
          "name": "stdout",
          "text": [
            "Are A and D disjoint? True\n",
            "Are A and B disjoint? False\n"
          ]
        }
      ]
    },
    {
      "cell_type": "code",
      "source": [
        "# --- Example 4: Chaining methods and logical checks ---\n",
        "if C.issubset(B) and B.issuperset(C):\n",
        "    print(\"C is a subset of B, and B is a superset of C.\") # Output: This will print"
      ],
      "metadata": {
        "colab": {
          "base_uri": "https://localhost:8080/"
        },
        "id": "r8Nw9ThJsnAQ",
        "outputId": "32b0b48c-6f40-4fc2-f4d8-07abd69cacb3"
      },
      "execution_count": null,
      "outputs": [
        {
          "output_type": "stream",
          "name": "stdout",
          "text": [
            "C is a subset of B, and B is a superset of C.\n"
          ]
        }
      ]
    },
    {
      "cell_type": "markdown",
      "source": [
        "***📚 The Dictionary: The Ultimate Information Index***\n",
        "\n",
        "A dictionary is a powerful and flexible collection of key-value pairs. It's optimized for retrieving a value when you know its corresponding key.\n",
        "\n",
        "***📜 Core Theory of Dictionaries***\n",
        "\n",
        "**Key-Value Pairs**: This is the essence of a dictionary. Every piece of data (the value) is associated with a unique identifier (the key). You use the key to access the value, like looking up a word in a dictionary to find its definition.\n",
        "\n",
        "**Ordered (Since Python 3.7)**: In modern Python (3.7+), dictionaries remember the order you inserted items. However, you should still generally access data through keys, not by assumed position, as the primary benefit is key-based lookup.\n",
        "\n",
        "**Mutable**: You can add, remove, and change key-value pairs after the dictionary is created.\n",
        "\n",
        "**Unique, Immutable Keys**: Keys must be unique within a dictionary. If you assign a value to an existing key, it overwrites the old value. Keys must also be of an immutable type (like strings, numbers, or tuples). This is because Python needs a stable, hashable value to use for its fast lookup system. Lists cannot be keys.\n",
        "\n",
        "***🛠️ Dictionary Creation***\n",
        "\n",
        "**Syntax Explanation**: You create a dictionary using curly braces {}, with each key-value pair written as key: value and separated by commas."
      ],
      "metadata": {
        "id": "6pVie_BusrJt"
      }
    },
    {
      "cell_type": "code",
      "source": [
        "# --- Example 1: A simple dictionary of a user profile ---\n",
        "user_profile = {\n",
        "    \"username\": \"coder_gurl\",\n",
        "    \"level\": 12,\n",
        "    \"is_active\": True\n",
        "}\n",
        "print(f\"User profile: {user_profile}\")\n",
        "\n"
      ],
      "metadata": {
        "colab": {
          "base_uri": "https://localhost:8080/"
        },
        "id": "rQZaYIJEsndA",
        "outputId": "e9fdbbe9-5797-4a8b-917c-213fea894ac0"
      },
      "execution_count": null,
      "outputs": [
        {
          "output_type": "stream",
          "name": "stdout",
          "text": [
            "User profile: {'username': 'coder_gurl', 'level': 12, 'is_active': True}\n"
          ]
        }
      ]
    },
    {
      "cell_type": "code",
      "source": [
        "# --- Example 2: A dictionary where values are lists ---\n",
        "# This is a very powerful pattern.\n",
        "student_grades = {\n",
        "    \"Alice\": [88, 92, 95],\n",
        "    \"Bob\": [76, 81, 85]\n",
        "}\n",
        "print(f\"Student grades: {student_grades}\")\n",
        "\n"
      ],
      "metadata": {
        "colab": {
          "base_uri": "https://localhost:8080/"
        },
        "id": "oojlbsj0s5DS",
        "outputId": "976bdbe3-b294-47cf-f43f-bbd9cb8d6a36"
      },
      "execution_count": null,
      "outputs": [
        {
          "output_type": "stream",
          "name": "stdout",
          "text": [
            "Student grades: {'Alice': [88, 92, 95], 'Bob': [76, 81, 85]}\n"
          ]
        }
      ]
    },
    {
      "cell_type": "code",
      "source": [
        "# --- Example 3: Creating an empty dictionary and populating it ---\n",
        "car = {}\n",
        "car[\"make\"] = \"Tesla\"\n",
        "car[\"model\"] = \"Model S\"\n",
        "car[\"year\"] = 2025 # Adding a new key-value pair\n",
        "print(f\"Car dictionary built incrementally: {car}\")\n",
        "\n"
      ],
      "metadata": {
        "colab": {
          "base_uri": "https://localhost:8080/"
        },
        "id": "TwroZkqUs6Kb",
        "outputId": "d41fcf52-ee18-46cd-e1ff-80ec098fddb3"
      },
      "execution_count": null,
      "outputs": [
        {
          "output_type": "stream",
          "name": "stdout",
          "text": [
            "Car dictionary built incrementally: {'make': 'Tesla', 'model': 'Model S', 'year': 2025}\n"
          ]
        }
      ]
    },
    {
      "cell_type": "code",
      "source": [
        "# --- Example 4: Creating a dictionary with the dict() constructor ---\n",
        "# This can be useful for converting other data structures or for keyword arguments.\n",
        "person = dict(name=\"Riya\", age=21, city=\"Mumbai\")\n",
        "print(f\"Dictionary from constructor: {person}\")"
      ],
      "metadata": {
        "colab": {
          "base_uri": "https://localhost:8080/"
        },
        "id": "GnHjbYFSs7Et",
        "outputId": "79c4547a-b303-4baf-d23b-76d28e87b7ce"
      },
      "execution_count": null,
      "outputs": [
        {
          "output_type": "stream",
          "name": "stdout",
          "text": [
            "Dictionary from constructor: {'name': 'Riya', 'age': 21, 'city': 'Mumbai'}\n"
          ]
        }
      ]
    },
    {
      "cell_type": "markdown",
      "source": [
        "***🔑 Accessing and Modifying Data***\n",
        "\n",
        "**Syntax Explanation:**\n",
        "\n",
        "**Accessing my_dict[key]**: Use the key inside square brackets to get its value. This will cause a KeyError if the key doesn't exist.\n",
        "\n",
        "**Modifying/Adding my_dict[key] = new_value**: If the key exists, its value is updated. If the key does not exist, a new key-value pair is created."
      ],
      "metadata": {
        "id": "LyzrJ7oIs9rV"
      }
    },
    {
      "cell_type": "code",
      "source": [
        "# Let's use this dictionary for our examples\n",
        "computer = {\n",
        "    \"brand\": \"Apple\",\n",
        "    \"model\": \"MacBook Pro\",\n",
        "    \"ram_gb\": 16\n",
        "}\n",
        "\n",
        "# --- Example 1: Accessing an existing value ---\n",
        "brand_name = computer[\"brand\"]\n",
        "print(f\"The computer brand is: {brand_name}\")\n",
        "\n"
      ],
      "metadata": {
        "colab": {
          "base_uri": "https://localhost:8080/"
        },
        "id": "d6q2JWdrs7lX",
        "outputId": "23745a9b-9178-48cb-9cd7-c63d93ba5218"
      },
      "execution_count": null,
      "outputs": [
        {
          "output_type": "stream",
          "name": "stdout",
          "text": [
            "The computer brand is: Apple\n"
          ]
        }
      ]
    },
    {
      "cell_type": "code",
      "source": [
        "# --- Example 2: Changing an existing value ---\n",
        "print(f\"Old RAM: {computer['ram_gb']}GB\")\n",
        "computer[\"ram_gb\"] = 32 # Upgrading the RAM!\n",
        "print(f\"New RAM: {computer['ram_gb']}GB\")\n",
        "\n"
      ],
      "metadata": {
        "colab": {
          "base_uri": "https://localhost:8080/"
        },
        "id": "uiChY7jftDUW",
        "outputId": "40beb250-47b6-4687-ddd2-59125bad8980"
      },
      "execution_count": null,
      "outputs": [
        {
          "output_type": "stream",
          "name": "stdout",
          "text": [
            "Old RAM: 16GB\n",
            "New RAM: 32GB\n"
          ]
        }
      ]
    },
    {
      "cell_type": "code",
      "source": [
        "# --- Example 3: Adding a new key-value pair ---\n",
        "computer[\"year\"] = 2025\n",
        "print(f\"Computer with year added: {computer}\")\n",
        "\n"
      ],
      "metadata": {
        "colab": {
          "base_uri": "https://localhost:8080/"
        },
        "id": "ttGO4Bq5tEY8",
        "outputId": "b26cb608-0ed6-4601-9b99-787bdabda645"
      },
      "execution_count": null,
      "outputs": [
        {
          "output_type": "stream",
          "name": "stdout",
          "text": [
            "Computer with year added: {'brand': 'Apple', 'model': 'MacBook Pro', 'ram_gb': 32, 'year': 2025}\n"
          ]
        }
      ]
    },
    {
      "cell_type": "code",
      "source": [
        "# --- Example 4: Safely accessing with .get() ---\n",
        "# computer[\"storage_gb\"] would cause a KeyError if \"storage_gb\" doesn't exist.\n",
        "# .get() returns None (or a default value you provide) if the key is not found.\n",
        "storage = computer.get(\"storage_gb\")\n",
        "print(f\"Storage: {storage}\") # Output: None\n",
        "\n",
        "storage_with_default = computer.get(\"storage_gb\", \"Not Specified\")\n",
        "print(f\"Storage with default: {storage_with_default}\") # Output: Storage with default: Not Specified"
      ],
      "metadata": {
        "colab": {
          "base_uri": "https://localhost:8080/"
        },
        "id": "wgSKbvCNtFlw",
        "outputId": "b668f897-92cd-43eb-e7c3-58f335e66dcd"
      },
      "execution_count": null,
      "outputs": [
        {
          "output_type": "stream",
          "name": "stdout",
          "text": [
            "Storage: None\n",
            "Storage with default: Not Specified\n"
          ]
        }
      ]
    },
    {
      "cell_type": "markdown",
      "source": [
        "***✨ Dictionary Methods: Exploring Your Data***\n",
        "\n",
        "**keys()** - Returns a view object that displays a list of all the keys in the dictionary."
      ],
      "metadata": {
        "id": "cAzC7lUatLbH"
      }
    },
    {
      "cell_type": "code",
      "source": [
        "# Let's use this dictionary for our examples\n",
        "course = {\n",
        "    \"title\": \"Python Mastery\",\n",
        "    \"duration_hours\": 40,\n",
        "    \"instructor\": \"DJS Infomatrix\"\n",
        "}\n",
        "\n",
        "# --- Example 1: Getting all the keys ---\n",
        "the_keys = course.keys()\n",
        "print(f\"Keys of the course dict: {the_keys}\") # Output: dict_keys(['title', 'duration_hours', 'instructor'])\n",
        "\n"
      ],
      "metadata": {
        "colab": {
          "base_uri": "https://localhost:8080/"
        },
        "id": "mCmRCZKRtGLg",
        "outputId": "ad9544c3-a14a-4c95-d996-903ced823abe"
      },
      "execution_count": null,
      "outputs": [
        {
          "output_type": "stream",
          "name": "stdout",
          "text": [
            "Keys of the course dict: dict_keys(['title', 'duration_hours', 'instructor'])\n"
          ]
        }
      ]
    },
    {
      "cell_type": "code",
      "source": [
        "# --- Example 2: Converting keys to a list ---\n",
        "keys_as_list = list(course.keys())\n",
        "print(f\"Keys as a list: {keys_as_list}\") # Output: ['title', 'duration_hours', 'instructor']\n",
        "\n"
      ],
      "metadata": {
        "colab": {
          "base_uri": "https://localhost:8080/"
        },
        "id": "6RZ-40OYtOwf",
        "outputId": "531add2f-da3a-47e9-bf0b-d18e17882089"
      },
      "execution_count": null,
      "outputs": [
        {
          "output_type": "stream",
          "name": "stdout",
          "text": [
            "Keys as a list: ['title', 'duration_hours', 'instructor']\n"
          ]
        }
      ]
    },
    {
      "cell_type": "code",
      "source": [
        "# --- Example 3: Checking for key existence with 'in' (efficient) ---\n",
        "if \"title\" in course.keys(): # More Pythonic to just use \"title\" in course\n",
        "    print(\"Course title exists!\") # Output: Course title exists!\n",
        "\n"
      ],
      "metadata": {
        "colab": {
          "base_uri": "https://localhost:8080/"
        },
        "id": "c11jnoZktPxj",
        "outputId": "ea80f3b7-fa12-4641-b525-5e48c6043785"
      },
      "execution_count": null,
      "outputs": [
        {
          "output_type": "stream",
          "name": "stdout",
          "text": [
            "Course title exists!\n"
          ]
        }
      ]
    },
    {
      "cell_type": "code",
      "source": [
        "# --- Example 4: Iterating over keys (common use) ---\n",
        "print(\"\\n--- Looping through keys ---\")\n",
        "for k in course.keys():\n",
        "    print(k)\n",
        "# Output:\n",
        "# title\n",
        "# duration_hours\n",
        "# instructor"
      ],
      "metadata": {
        "colab": {
          "base_uri": "https://localhost:8080/"
        },
        "id": "u3qK5FEStQ0O",
        "outputId": "6752cf74-8847-4b23-c872-0f0f182b3507"
      },
      "execution_count": null,
      "outputs": [
        {
          "output_type": "stream",
          "name": "stdout",
          "text": [
            "\n",
            "--- Looping through keys ---\n",
            "title\n",
            "duration_hours\n",
            "instructor\n"
          ]
        }
      ]
    },
    {
      "cell_type": "markdown",
      "source": [
        "**values()**- Returns a view object that displays a list of all the values in the dictionary."
      ],
      "metadata": {
        "id": "r2J2JGu_tRy_"
      }
    },
    {
      "cell_type": "code",
      "source": [
        "# Let's use this dictionary for our examples\n",
        "course = {\n",
        "    \"title\": \"Python Mastery\",\n",
        "    \"duration_hours\": 40,\n",
        "    \"instructor\": \"DJS Infomatrix\"\n",
        "}\n",
        "\n",
        "# --- Example 1: Getting all the values ---\n",
        "the_values = course.values()\n",
        "print(f\"Values of the course dict: {the_values}\") # Output: dict_values(['Python Mastery', 40, 'DJS Infomatrix'])\n",
        "\n"
      ],
      "metadata": {
        "colab": {
          "base_uri": "https://localhost:8080/"
        },
        "id": "BAhDZL_3tRNL",
        "outputId": "8330980f-08aa-424c-c6db-c04fce6c31a9"
      },
      "execution_count": null,
      "outputs": [
        {
          "output_type": "stream",
          "name": "stdout",
          "text": [
            "Values of the course dict: dict_values(['Python Mastery', 40, 'DJS Infomatrix'])\n"
          ]
        }
      ]
    },
    {
      "cell_type": "code",
      "source": [
        "# --- Example 2: Converting values to a list ---\n",
        "values_as_list = list(course.values())\n",
        "print(f\"Values as a list: {values_as_list}\") # Output: ['Python Mastery', 40, 'DJS Infomatrix']\n",
        "\n"
      ],
      "metadata": {
        "colab": {
          "base_uri": "https://localhost:8080/"
        },
        "id": "cPSy5fmJtXLW",
        "outputId": "2c74e9db-1c71-456e-a404-a43c532509ff"
      },
      "execution_count": null,
      "outputs": [
        {
          "output_type": "stream",
          "name": "stdout",
          "text": [
            "Values as a list: ['Python Mastery', 40, 'DJS Infomatrix']\n"
          ]
        }
      ]
    },
    {
      "cell_type": "code",
      "source": [
        "# --- Example 3: Checking if a value exists ---\n",
        "if \"Python Mastery\" in course.values():\n",
        "    print(\"Python Mastery is a value in the dictionary!\") # Output: Python Mastery is a value in the dictionary!\n",
        "\n"
      ],
      "metadata": {
        "colab": {
          "base_uri": "https://localhost:8080/"
        },
        "id": "G6QyAmeMtYaV",
        "outputId": "f8017a05-91af-4523-ab22-cf5ba44a0b95"
      },
      "execution_count": null,
      "outputs": [
        {
          "output_type": "stream",
          "name": "stdout",
          "text": [
            "Python Mastery is a value in the dictionary!\n"
          ]
        }
      ]
    },
    {
      "cell_type": "code",
      "source": [
        "# --- Example 4: Iterating over values ---\n",
        "print(\"\\n--- Looping through values ---\")\n",
        "for v in course.values():\n",
        "    print(v)\n",
        "# Output:\n",
        "# Python Mastery\n",
        "# 40\n",
        "# DJS Infomatrix"
      ],
      "metadata": {
        "colab": {
          "base_uri": "https://localhost:8080/"
        },
        "id": "3L5irLr9tZh9",
        "outputId": "09e3d470-99b3-47e5-b9bb-4adb02ad8255"
      },
      "execution_count": null,
      "outputs": [
        {
          "output_type": "stream",
          "name": "stdout",
          "text": [
            "\n",
            "--- Looping through values ---\n",
            "Python Mastery\n",
            "40\n",
            "DJS Infomatrix\n"
          ]
        }
      ]
    },
    {
      "cell_type": "markdown",
      "source": [
        "**items()** - Returns a view object that displays a list of a dictionary's key-value tuple pairs."
      ],
      "metadata": {
        "id": "OLShhrvBtak2"
      }
    },
    {
      "cell_type": "code",
      "source": [
        "# Let's use this dictionary for our examples\n",
        "course = {\n",
        "    \"title\": \"Python Mastery\",\n",
        "    \"duration_hours\": 40,\n",
        "    \"instructor\": \"DJS Infomatrix\"\n",
        "}\n",
        "\n",
        "# --- Example 1: Getting all key-value pairs ---\n",
        "the_items = course.items()\n",
        "print(f\"Items of the course dict: {the_items}\") # Output: dict_items([('title', 'Python Mastery'), ('duration_hours', 40), ('instructor', 'DJS Infomatrix')])\n",
        "\n"
      ],
      "metadata": {
        "colab": {
          "base_uri": "https://localhost:8080/"
        },
        "id": "dg22mP8ptZ_K",
        "outputId": "dca94dd1-4b2f-4366-d6f7-dcddd553a50e"
      },
      "execution_count": null,
      "outputs": [
        {
          "output_type": "stream",
          "name": "stdout",
          "text": [
            "Items of the course dict: dict_items([('title', 'Python Mastery'), ('duration_hours', 40), ('instructor', 'DJS Infomatrix')])\n"
          ]
        }
      ]
    },
    {
      "cell_type": "code",
      "source": [
        "# --- Example 2: Converting items to a list of tuples ---\n",
        "items_as_list = list(course.items())\n",
        "print(f\"Items as a list of tuples: {items_as_list}\") # Output: [('title', 'Python Mastery'), ('duration_hours', 40), ('instructor', 'DJS Infomatrix')]\n",
        "\n"
      ],
      "metadata": {
        "colab": {
          "base_uri": "https://localhost:8080/"
        },
        "id": "-QhxY0_gtgCc",
        "outputId": "d3366a4e-0968-43c2-93d6-3c594ab01823"
      },
      "execution_count": null,
      "outputs": [
        {
          "output_type": "stream",
          "name": "stdout",
          "text": [
            "Items as a list of tuples: [('title', 'Python Mastery'), ('duration_hours', 40), ('instructor', 'DJS Infomatrix')]\n"
          ]
        }
      ]
    },
    {
      "cell_type": "code",
      "source": [
        "# --- Example 3: Iterating over key-value pairs (most common use) ---\n",
        "print(\"\\n--- Looping through items ---\")\n",
        "for key, value in course.items():\n",
        "    print(f\"Key: {key}, Value: {value}\")\n",
        "# Output:\n",
        "# Key: title, Value: Python Mastery\n",
        "# Key: duration_hours, Value: 40\n",
        "# Key: instructor, Value: DJS Infomatrix\n",
        "\n"
      ],
      "metadata": {
        "colab": {
          "base_uri": "https://localhost:8080/"
        },
        "id": "y3vcbJ6QthP5",
        "outputId": "0167472b-04de-4c34-87d0-83038c9af067"
      },
      "execution_count": null,
      "outputs": [
        {
          "output_type": "stream",
          "name": "stdout",
          "text": [
            "\n",
            "--- Looping through items ---\n",
            "Key: title, Value: Python Mastery\n",
            "Key: duration_hours, Value: 40\n",
            "Key: instructor, Value: DJS Infomatrix\n"
          ]
        }
      ]
    },
    {
      "cell_type": "code",
      "source": [
        "# --- Example 4: Using item view in a list comprehension ---\n",
        "formatted_items = [f\"{k}: {v}\" for k, v in course.items()]\n",
        "print(f\"Formatted items: {formatted_items}\") # Output: ['title: Python Mastery', 'duration_hours: 40', 'instructor: DJS Infomatrix']"
      ],
      "metadata": {
        "colab": {
          "base_uri": "https://localhost:8080/"
        },
        "id": "OrD-XQeHtiz9",
        "outputId": "6dc618ee-57db-44d3-d7a5-198525233ac4"
      },
      "execution_count": null,
      "outputs": [
        {
          "output_type": "stream",
          "name": "stdout",
          "text": [
            "Formatted items: ['title: Python Mastery', 'duration_hours: 40', 'instructor: DJS Infomatrix']\n"
          ]
        }
      ]
    },
    {
      "cell_type": "markdown",
      "source": [
        "***get(key, default_value=None)*** - Returns the value for the specified key if the key is in the dictionary. If not, it returns None or the specified default_value"
      ],
      "metadata": {
        "id": "74vdwY9etmyO"
      }
    },
    {
      "cell_type": "code",
      "source": [
        "# Let's use this dictionary for our examples\n",
        "user_info = {\"name\": \"Alice\", \"age\": 30}\n",
        "\n",
        "# --- Example 1: Getting an existing key ---\n",
        "name = user_info.get(\"name\")\n",
        "print(f\"User name: {name}\") # Output: Alice\n",
        "\n"
      ],
      "metadata": {
        "colab": {
          "base_uri": "https://localhost:8080/"
        },
        "id": "OniGsCQItjUR",
        "outputId": "13fa2d51-f061-42f1-d8d7-3bed9757a1eb"
      },
      "execution_count": null,
      "outputs": [
        {
          "output_type": "stream",
          "name": "stdout",
          "text": [
            "User name: Alice\n"
          ]
        }
      ]
    },
    {
      "cell_type": "code",
      "source": [
        "# --- Example 2: Getting a non-existent key (returns None by default) ---\n",
        "city = user_info.get(\"city\")\n",
        "print(f\"User city (default None): {city}\") # Output: None\n",
        "\n"
      ],
      "metadata": {
        "colab": {
          "base_uri": "https://localhost:8080/"
        },
        "id": "_D7nKhndtqWm",
        "outputId": "5f9c0d12-e114-4d2c-dcaa-a6d92b8f9631"
      },
      "execution_count": null,
      "outputs": [
        {
          "output_type": "stream",
          "name": "stdout",
          "text": [
            "User city (default None): None\n"
          ]
        }
      ]
    },
    {
      "cell_type": "code",
      "source": [
        "# --- Example 3: Getting a non-existent key with a custom default value ---\n",
        "country = user_info.get(\"country\", \"Unknown\")\n",
        "print(f\"User country (with default): {country}\") # Output: Unknown\n",
        "\n"
      ],
      "metadata": {
        "colab": {
          "base_uri": "https://localhost:8080/"
        },
        "id": "GqmloAZvtrag",
        "outputId": "3f479ccc-e48a-422e-e0ca-151d073e0cc3"
      },
      "execution_count": null,
      "outputs": [
        {
          "output_type": "stream",
          "name": "stdout",
          "text": [
            "User country (with default): Unknown\n"
          ]
        }
      ]
    },
    {
      "cell_type": "code",
      "source": [
        "# --- Example 4: Using get() to avoid KeyError in a loop ---\n",
        "products = {\"apple\": 1.0, \"banana\": 0.5}\n",
        "items_to_check = [\"apple\", \"orange\"]\n",
        "for item in items_to_check:\n",
        "    price = products.get(item, \"N/A\")\n",
        "    print(f\"Price of {item}: {price}\")\n",
        "# Output:\n",
        "# Price of apple: 1.0\n",
        "# Price of orange: N/A"
      ],
      "metadata": {
        "colab": {
          "base_uri": "https://localhost:8080/"
        },
        "id": "aNVbwDEKtscv",
        "outputId": "c8d3a97d-b6b6-44ce-8b0b-889406e2f1b9"
      },
      "execution_count": null,
      "outputs": [
        {
          "output_type": "stream",
          "name": "stdout",
          "text": [
            "Price of apple: 1.0\n",
            "Price of orange: N/A\n"
          ]
        }
      ]
    },
    {
      "cell_type": "markdown",
      "source": [
        "**pop(key, default_value)** - Removes the item with the specified key and returns its value. If the key is not found, it raises a KeyError unless a default_value is provided."
      ],
      "metadata": {
        "id": "VUrXhEV_tvom"
      }
    },
    {
      "cell_type": "code",
      "source": [
        "# Let's use this dictionary for our examples\n",
        "student_record = {\"name\": \"Priya\", \"id\": 101, \"grade\": \"A\"}\n",
        "\n",
        "# --- Example 1: Popping an existing item ---\n",
        "student_name = student_record.pop(\"name\")\n",
        "print(f\"Popped student name: {student_name}\") # Output: Priya\n",
        "print(f\"Record after pop: {student_record}\") # Output: {'id': 101, 'grade': 'A'}\n"
      ],
      "metadata": {
        "colab": {
          "base_uri": "https://localhost:8080/"
        },
        "id": "CKDeAEizttCP",
        "outputId": "7e714149-a6cd-4782-dbba-0148bf68f200"
      },
      "execution_count": null,
      "outputs": [
        {
          "output_type": "stream",
          "name": "stdout",
          "text": [
            "Popped student name: Priya\n",
            "Record after pop: {'id': 101, 'grade': 'A'}\n"
          ]
        }
      ]
    },
    {
      "cell_type": "code",
      "source": [
        "\n",
        "# --- Example 2: Popping a non-existent key (raises KeyError) ---\n",
        "try:\n",
        "    student_record.pop(\"city\")\n",
        "except KeyError:\n",
        "    print(\"Cannot pop 'city' - key not found!\") # Output: Cannot pop 'city' - key not found!\n",
        "\n"
      ],
      "metadata": {
        "colab": {
          "base_uri": "https://localhost:8080/"
        },
        "id": "_H1NXyqetzeZ",
        "outputId": "34fd0b11-a212-46b1-850a-632429487dbb"
      },
      "execution_count": null,
      "outputs": [
        {
          "output_type": "stream",
          "name": "stdout",
          "text": [
            "Cannot pop 'city' - key not found!\n"
          ]
        }
      ]
    },
    {
      "cell_type": "code",
      "source": [
        "# --- Example 3: Popping a non-existent key with a default value ---\n",
        "email = student_record.pop(\"email\", \"Not Provided\")\n",
        "print(f\"Popped email (with default): {email}\") # Output: Not Provided\n",
        "print(f\"Record after safe pop: {student_record}\") # Output: {'id': 101, 'grade': 'A'}\n",
        "\n"
      ],
      "metadata": {
        "colab": {
          "base_uri": "https://localhost:8080/"
        },
        "id": "SB4y7yzQt0u_",
        "outputId": "2fa0cb6b-0813-4bdd-d52c-e897fd7a5f7a"
      },
      "execution_count": null,
      "outputs": [
        {
          "output_type": "stream",
          "name": "stdout",
          "text": [
            "Popped email (with default): Not Provided\n",
            "Record after safe pop: {'id': 101, 'grade': 'A'}\n"
          ]
        }
      ]
    },
    {
      "cell_type": "code",
      "source": [
        "# --- Example 4: Popping a value and using it immediately ---\n",
        "last_grade = student_record.pop(\"grade\")\n",
        "print(f\"Priya's final grade was: {last_grade}\") # Output: Priya's final grade was: A"
      ],
      "metadata": {
        "colab": {
          "base_uri": "https://localhost:8080/"
        },
        "id": "tRC29lVUt2AF",
        "outputId": "69dc7226-e8ae-4b76-c945-6d0589ee36ff"
      },
      "execution_count": null,
      "outputs": [
        {
          "output_type": "stream",
          "name": "stdout",
          "text": [
            "Priya's final grade was: A\n"
          ]
        }
      ]
    },
    {
      "cell_type": "markdown",
      "source": [
        "**popitem()** - Removes and returns an arbitrary (key, value) pair from the dictionary. In Python 3.7+, it removes the last inserted item. Raises KeyError if the dictionary is empty."
      ],
      "metadata": {
        "id": "-NJGWOFst4l-"
      }
    },
    {
      "cell_type": "code",
      "source": [
        "# Let's use this dictionary for our examples\n",
        "settings = {\"theme\": \"dark\", \"font_size\": 14, \"notifications\": True}\n",
        "\n",
        "# --- Example 1: Popping an item (last inserted in modern Python) ---\n",
        "removed_item = settings.popitem()\n",
        "print(f\"Removed item: {removed_item}\") # Output: ('notifications', True) (for Python 3.7+)\n",
        "print(f\"Settings after popitem: {settings}\") # Output: {'theme': 'dark', 'font_size': 14}\n",
        "\n"
      ],
      "metadata": {
        "colab": {
          "base_uri": "https://localhost:8080/"
        },
        "id": "tpTuc8lst2oN",
        "outputId": "7d92eab1-ea55-43fb-ad8d-d92c0796a98c"
      },
      "execution_count": null,
      "outputs": [
        {
          "output_type": "stream",
          "name": "stdout",
          "text": [
            "Removed item: ('notifications', True)\n",
            "Settings after popitem: {'theme': 'dark', 'font_size': 14}\n"
          ]
        }
      ]
    },
    {
      "cell_type": "code",
      "source": [
        "# --- Example 2: Popping another item ---\n",
        "removed_item2 = settings.popitem()\n",
        "print(f\"Removed item: {removed_item2}\") # Output: ('font_size', 14)\n",
        "print(f\"Settings after second popitem: {settings}\") # Output: {'theme': 'dark'}\n",
        "\n"
      ],
      "metadata": {
        "colab": {
          "base_uri": "https://localhost:8080/"
        },
        "id": "XM89OH61t8BE",
        "outputId": "ab3033da-7368-49e6-d2b8-ddb89c031a7b"
      },
      "execution_count": null,
      "outputs": [
        {
          "output_type": "stream",
          "name": "stdout",
          "text": [
            "Removed item: ('font_size', 14)\n",
            "Settings after second popitem: {'theme': 'dark'}\n"
          ]
        }
      ]
    },
    {
      "cell_type": "code",
      "source": [
        "# --- Example 3: Popping until empty ---\n",
        "print(\"\\nPopping all items:\")\n",
        "while settings:\n",
        "    key, value = settings.popitem()\n",
        "    print(f\"Popped ({key}, {value})\")\n",
        "# Output:\n",
        "# Popped (theme, dark)\n",
        "# (then settings is empty)\n",
        "\n"
      ],
      "metadata": {
        "colab": {
          "base_uri": "https://localhost:8080/"
        },
        "id": "vlXhXN2Zt9R1",
        "outputId": "513a88a1-6104-4762-85b2-fca50dc33018"
      },
      "execution_count": null,
      "outputs": [
        {
          "output_type": "stream",
          "name": "stdout",
          "text": [
            "\n",
            "Popping all items:\n",
            "Popped (theme, dark)\n"
          ]
        }
      ]
    },
    {
      "cell_type": "code",
      "source": [
        "# --- Example 4: Popping from an empty dictionary (raises KeyError) ---\n",
        "empty_dict = {}\n",
        "try:\n",
        "    empty_dict.popitem()\n",
        "except KeyError:\n",
        "    print(\"Cannot popitem from an empty dictionary!\") # Output: Cannot popitem from an empty dictionary!"
      ],
      "metadata": {
        "colab": {
          "base_uri": "https://localhost:8080/"
        },
        "id": "NoT4Qcd5t-_L",
        "outputId": "e0209741-f146-4481-b244-939a4744eb1b"
      },
      "execution_count": null,
      "outputs": [
        {
          "output_type": "stream",
          "name": "stdout",
          "text": [
            "Cannot popitem from an empty dictionary!\n"
          ]
        }
      ]
    },
    {
      "cell_type": "markdown",
      "source": [
        "**clear()** - Removes all items from the dictionary."
      ],
      "metadata": {
        "id": "Y6mlnpFDuCcH"
      }
    },
    {
      "cell_type": "code",
      "source": [
        "# --- Example 1: Clearing a dictionary ---\n",
        "my_dict = {\"a\": 1, \"b\": 2}\n",
        "my_dict.clear()\n",
        "print(f\"Dictionary after clear: {my_dict}\") # Output: {}\n",
        "\n"
      ],
      "metadata": {
        "colab": {
          "base_uri": "https://localhost:8080/"
        },
        "id": "pzCxeALQt_bt",
        "outputId": "da03d0cb-a4e7-4b19-f403-3db072ece0af"
      },
      "execution_count": null,
      "outputs": [
        {
          "output_type": "stream",
          "name": "stdout",
          "text": [
            "Dictionary after clear: {}\n"
          ]
        }
      ]
    },
    {
      "cell_type": "code",
      "source": [
        "# --- Example 2: Clearing a dictionary with nested structures ---\n",
        "user_data = {\"name\": \"Sam\", \"hobbies\": [\"reading\", \"hiking\"]}\n",
        "user_data.clear()\n",
        "print(f\"User data after clear: {user_data}\") # Output: {}\n",
        "\n"
      ],
      "metadata": {
        "colab": {
          "base_uri": "https://localhost:8080/"
        },
        "id": "nFUbzNymuFzu",
        "outputId": "9a763bc4-b272-4cd3-9ee2-e531ae09d187"
      },
      "execution_count": null,
      "outputs": [
        {
          "output_type": "stream",
          "name": "stdout",
          "text": [
            "User data after clear: {}\n"
          ]
        }
      ]
    },
    {
      "cell_type": "code",
      "source": [
        "# --- Example 3: Clearing an already empty dictionary ---\n",
        "empty_d = {}\n",
        "empty_d.clear()\n",
        "print(f\"Already empty dict after clear: {empty_d}\") # Output: {}\n",
        "\n"
      ],
      "metadata": {
        "colab": {
          "base_uri": "https://localhost:8080/"
        },
        "id": "8Rfs8V69uG81",
        "outputId": "8a8d40f4-8dfe-4b10-e0af-0cd48164c1c6"
      },
      "execution_count": null,
      "outputs": [
        {
          "output_type": "stream",
          "name": "stdout",
          "text": [
            "Already empty dict after clear: {}\n"
          ]
        }
      ]
    },
    {
      "cell_type": "code",
      "source": [
        "# --- Example 4: Verifying emptiness after clear ---\n",
        "config = {\"mode\": \"dark\"}\n",
        "config.clear()\n",
        "if not config:\n",
        "    print(\"The configuration dictionary is now empty.\") # Output: The configuration dictionary is now empty."
      ],
      "metadata": {
        "colab": {
          "base_uri": "https://localhost:8080/"
        },
        "id": "74xGP2eQuH89",
        "outputId": "d4835f1b-187d-4f1d-a160-adb682cfb97f"
      },
      "execution_count": null,
      "outputs": [
        {
          "output_type": "stream",
          "name": "stdout",
          "text": [
            "The configuration dictionary is now empty.\n"
          ]
        }
      ]
    },
    {
      "cell_type": "markdown",
      "source": [
        "**update(iterable_or_dict)** - Updates the dictionary with elements from another dictionary object or from an iterable of key/value pairs. If a key is already present, its value is updated; otherwise, new key-value pairs are added."
      ],
      "metadata": {
        "id": "GTssKdc-uKXe"
      }
    },
    {
      "cell_type": "code",
      "source": [
        "# Let's use this dictionary for our examples\n",
        "user_settings = {\"theme\": \"light\", \"notifications\": True}\n",
        "\n",
        "# --- Example 1: Updating with another dictionary (existing key updated) ---\n",
        "new_settings = {\"theme\": \"dark\", \"font_size\": 12}\n",
        "user_settings.update(new_settings)\n",
        "print(f\"Settings after update: {user_settings}\") # Output: {'theme': 'dark', 'notifications': True, 'font_size': 12}\n",
        "\n"
      ],
      "metadata": {
        "colab": {
          "base_uri": "https://localhost:8080/"
        },
        "id": "9kSVBe8iuIXB",
        "outputId": "b1e21729-dfe5-4525-cb69-8fa8d7e1ff9d"
      },
      "execution_count": null,
      "outputs": [
        {
          "output_type": "stream",
          "name": "stdout",
          "text": [
            "Settings after update: {'theme': 'dark', 'notifications': True, 'font_size': 12}\n"
          ]
        }
      ]
    },
    {
      "cell_type": "code",
      "source": [
        "# --- Example 2: Adding entirely new keys ---\n",
        "profile_data = {\"age\": 25, \"location\": \"NYC\"}\n",
        "user_settings.update(profile_data)\n",
        "print(f\"Settings after adding new keys: {user_settings}\") # Output: {'theme': 'dark', 'notifications': True, 'font_size': 12, 'age': 25, 'location': 'NYC'}\n",
        "\n"
      ],
      "metadata": {
        "colab": {
          "base_uri": "https://localhost:8080/"
        },
        "id": "20JaESryuOSR",
        "outputId": "f3577b8f-13cd-4b73-93e2-0dd7fb3a2bea"
      },
      "execution_count": null,
      "outputs": [
        {
          "output_type": "stream",
          "name": "stdout",
          "text": [
            "Settings after adding new keys: {'theme': 'dark', 'notifications': True, 'font_size': 12, 'age': 25, 'location': 'NYC'}\n"
          ]
        }
      ]
    },
    {
      "cell_type": "code",
      "source": [
        "# --- Example 3: Updating from a list of tuples (key-value pairs) ---\n",
        "more_updates = [(\"notifications\", False), (\"premium\", True)]\n",
        "user_settings.update(more_updates)\n",
        "print(f\"Settings after updating from list of tuples: {user_settings}\") # Output: {'theme': 'dark', 'notifications': False, 'font_size': 12, 'age': 25, 'location': 'NYC', 'premium': True}\n",
        "\n"
      ],
      "metadata": {
        "colab": {
          "base_uri": "https://localhost:8080/"
        },
        "id": "bZ1EZoY5uP9Z",
        "outputId": "da941569-bdfd-474b-f9c2-c8473ffdf336"
      },
      "execution_count": null,
      "outputs": [
        {
          "output_type": "stream",
          "name": "stdout",
          "text": [
            "Settings after updating from list of tuples: {'theme': 'dark', 'notifications': False, 'font_size': 12, 'age': 25, 'location': 'NYC', 'premium': True}\n"
          ]
        }
      ]
    },
    {
      "cell_type": "code",
      "source": [
        "# --- Example 4: Using keyword arguments with update() ---\n",
        "user_settings.update(font_size=16, last_login=\"2025-06-21\")\n",
        "print(f\"Settings after keyword argument update: {user_settings}\") # Output: {'theme': 'dark', 'notifications': False, 'font_size': 16, 'age': 25, 'location': 'NYC', 'premium': True, 'last_login': '2025-06-21'}"
      ],
      "metadata": {
        "colab": {
          "base_uri": "https://localhost:8080/"
        },
        "id": "pxBYe9jeuRTT",
        "outputId": "e6e9a0bc-958c-406a-cdc2-0537c9972044"
      },
      "execution_count": null,
      "outputs": [
        {
          "output_type": "stream",
          "name": "stdout",
          "text": [
            "Settings after keyword argument update: {'theme': 'dark', 'notifications': False, 'font_size': 16, 'age': 25, 'location': 'NYC', 'premium': True, 'last_login': '2025-06-21'}\n"
          ]
        }
      ]
    },
    {
      "cell_type": "markdown",
      "source": [
        "# ***🚶‍♂️ For Loops: The Grand Tour of Your Data Structures***\n",
        "\n",
        "A for loop is your universal tool for iterating, or \"walking through,\" every element in a collection, no matter the type.\n",
        "\n",
        "***Syntax Explanation***: The structure for variable in iterable: assigns each item from the iterable (your list, tuple, set, or dictionary view) to the variable one by one, running the indented code block for each item.\n",
        "\n",
        "# ***Looping through Lists and Tuples***"
      ],
      "metadata": {
        "id": "qeltX-POuVJQ"
      }
    },
    {
      "cell_type": "code",
      "source": [
        "# --- Example 1: Simple printing of a list ---\n",
        "print(\"\\n--- Shopping List ---\")\n",
        "shopping = [\"Milk\", \"Bread\", \"Eggs\"]\n",
        "for item in shopping:\n",
        "    print(f\"- {item}\")\n",
        "# Output:\n",
        "# - Milk\n",
        "# - Bread\n",
        "# - Eggs\n",
        "\n"
      ],
      "metadata": {
        "colab": {
          "base_uri": "https://localhost:8080/"
        },
        "id": "pATcVfLtuR1L",
        "outputId": "fb6f90f4-cb5c-47cc-9d4b-d79d0c1130c2"
      },
      "execution_count": null,
      "outputs": [
        {
          "output_type": "stream",
          "name": "stdout",
          "text": [
            "\n",
            "--- Shopping List ---\n",
            "- Milk\n",
            "- Bread\n",
            "- Eggs\n"
          ]
        }
      ]
    },
    {
      "cell_type": "code",
      "source": [
        "# --- Example 2: Calculating with a list of numbers ---\n",
        "total = 0\n",
        "prices = [10.50, 5.25, 20.00]\n",
        "for price in prices:\n",
        "    total = total + price\n",
        "print(f\"Total cost: {total}\") # Output: Total cost: 35.75\n",
        "\n"
      ],
      "metadata": {
        "colab": {
          "base_uri": "https://localhost:8080/"
        },
        "id": "koHMMoEOua9R",
        "outputId": "aea91fed-e9d2-4b6c-86ae-879c650b3123"
      },
      "execution_count": null,
      "outputs": [
        {
          "output_type": "stream",
          "name": "stdout",
          "text": [
            "Total cost: 35.75\n"
          ]
        }
      ]
    },
    {
      "cell_type": "code",
      "source": [
        "# --- Example 3: Using enumerate() to get index and value ---\n",
        "# enumerate() is a super useful function for when you need the position.\n",
        "players = [\"Riya\", \"Aarav\", \"Priya\"]\n",
        "for index, player in enumerate(players):\n",
        "    print(f\"Player {index + 1}: {player}\")\n",
        "# Output:\n",
        "# Player 1: Riya\n",
        "# Player 2: Aarav\n",
        "# Player 3: Priya\n",
        "\n"
      ],
      "metadata": {
        "colab": {
          "base_uri": "https://localhost:8080/"
        },
        "id": "r-9RRwrHucLL",
        "outputId": "13d56f49-5a18-43ac-e4c5-a135318a6844"
      },
      "execution_count": null,
      "outputs": [
        {
          "output_type": "stream",
          "name": "stdout",
          "text": [
            "Player 1: Riya\n",
            "Player 2: Aarav\n",
            "Player 3: Priya\n"
          ]
        }
      ]
    },
    {
      "cell_type": "code",
      "source": [
        "# --- Example 4: Looping through a tuple (works exactly the same) ---\n",
        "print(\"\\n--- RGB Color ---\")\n",
        "rgb = (255, 128, 0)\n",
        "for value in rgb:\n",
        "    print(f\"Color value: {value}\")\n",
        "# Output:\n",
        "# Color value: 255\n",
        "# Color value: 128\n",
        "# Color value: 0"
      ],
      "metadata": {
        "colab": {
          "base_uri": "https://localhost:8080/"
        },
        "id": "Y5QU_TBKudTG",
        "outputId": "d32a0243-0632-44ca-8ec3-49e5faa45444"
      },
      "execution_count": null,
      "outputs": [
        {
          "output_type": "stream",
          "name": "stdout",
          "text": [
            "\n",
            "--- RGB Color ---\n",
            "Color value: 255\n",
            "Color value: 128\n",
            "Color value: 0\n"
          ]
        }
      ]
    },
    {
      "cell_type": "markdown",
      "source": [
        "# ***Looping through Sets***"
      ],
      "metadata": {
        "id": "5xN3vNsPugF3"
      }
    },
    {
      "cell_type": "code",
      "source": [
        "# --- Example 1: Simple printing of a set ---\n",
        "print(\"\\n--- Unique Tags ---\")\n",
        "unique_tags = {\"programming\", \"python\", \"data\", \"ai\"}\n",
        "for tag in unique_tags:\n",
        "    print(f\"Tag: {tag}\")\n",
        "# Output: (order may vary)\n",
        "# Tag: programming\n",
        "# Tag: python\n",
        "# Tag: ai\n",
        "# Tag: data\n",
        "\n"
      ],
      "metadata": {
        "colab": {
          "base_uri": "https://localhost:8080/"
        },
        "id": "MM9d2OSaud4b",
        "outputId": "44bde439-5a29-4544-ecef-550e2b646871"
      },
      "execution_count": null,
      "outputs": [
        {
          "output_type": "stream",
          "name": "stdout",
          "text": [
            "\n",
            "--- Unique Tags ---\n",
            "Tag: programming\n",
            "Tag: data\n",
            "Tag: ai\n",
            "Tag: python\n"
          ]
        }
      ]
    },
    {
      "cell_type": "code",
      "source": [
        "# --- Example 2: Filtering elements in a set ---\n",
        "even_numbers = set()\n",
        "numbers_to_check = {1, 2, 3, 4, 5, 6}\n",
        "for num in numbers_to_check:\n",
        "    if num % 2 == 0:\n",
        "        even_numbers.add(num)\n",
        "print(f\"Even numbers found: {even_numbers}\") # Output: {2, 4, 6}\n",
        "\n"
      ],
      "metadata": {
        "colab": {
          "base_uri": "https://localhost:8080/"
        },
        "id": "11lOc2Frujl1",
        "outputId": "6ab34c7a-d6c0-4d50-8626-43fd86c97004"
      },
      "execution_count": null,
      "outputs": [
        {
          "output_type": "stream",
          "name": "stdout",
          "text": [
            "Even numbers found: {2, 4, 6}\n"
          ]
        }
      ]
    },
    {
      "cell_type": "code",
      "source": [
        "# --- Example 3: Transforming elements in a set ---\n",
        "fruits_set = {\"apple\", \"banana\", \"cherry\"}\n",
        "capitalized_fruits = set()\n",
        "for fruit in fruits_set:\n",
        "    capitalized_fruits.add(fruit.capitalize())\n",
        "print(f\"Capitalized fruits: {capitalized_fruits}\") # Output: {'Apple', 'Cherry', 'Banana'} (order may vary)\n",
        "\n"
      ],
      "metadata": {
        "colab": {
          "base_uri": "https://localhost:8080/"
        },
        "id": "Qt4HkRjtuk1_",
        "outputId": "96eb9a2c-cbbb-4765-b19d-72e3a989d7ab"
      },
      "execution_count": null,
      "outputs": [
        {
          "output_type": "stream",
          "name": "stdout",
          "text": [
            "Capitalized fruits: {'Banana', 'Cherry', 'Apple'}\n"
          ]
        }
      ]
    },
    {
      "cell_type": "code",
      "source": [
        "# --- Example 4: Checking for membership while iterating (less common, but possible) ---\n",
        "target_element = \"python\"\n",
        "if target_element in unique_tags:\n",
        "    print(f\"{target_element} is in the set.\") # Output: python is in the set."
      ],
      "metadata": {
        "colab": {
          "base_uri": "https://localhost:8080/"
        },
        "id": "wAlfDgLUul2I",
        "outputId": "90d3dbe3-d131-42d4-febe-32e426e0c4ff"
      },
      "execution_count": null,
      "outputs": [
        {
          "output_type": "stream",
          "name": "stdout",
          "text": [
            "python is in the set.\n"
          ]
        }
      ]
    },
    {
      "cell_type": "markdown",
      "source": [
        "# ***Looping through Dictionaries***"
      ],
      "metadata": {
        "id": "BD6dE1DZuri-"
      }
    },
    {
      "cell_type": "code",
      "source": [
        "student = {\n",
        "    \"name\": \"Rohan\",\n",
        "    \"college\": \"D. J. Sanghvi\",\n",
        "    \"id\": 12345\n",
        "}\n",
        "\n",
        "# --- Example 1: The BEST way - using .items() ---\n",
        "# This gives you both the key and the value in each step.\n",
        "print(\"\\n--- Student Profile ---\")\n",
        "for key, value in student.items():\n",
        "    print(f\"  {key.replace('_', ' ').title()}: {value}\") # Nicer formatting\n",
        "# Output:\n",
        "#   Name: Rohan\n",
        "#   College: D. J. Sanghvi\n",
        "#   Id: 12345\n",
        "\n"
      ],
      "metadata": {
        "colab": {
          "base_uri": "https://localhost:8080/"
        },
        "id": "gYK_9XDqumRx",
        "outputId": "dca857b9-5790-40f1-891e-e3fc142ae8a8"
      },
      "execution_count": null,
      "outputs": [
        {
          "output_type": "stream",
          "name": "stdout",
          "text": [
            "\n",
            "--- Student Profile ---\n",
            "  Name: Rohan\n",
            "  College: D. J. Sanghvi\n",
            "  Id: 12345\n"
          ]
        }
      ]
    },
    {
      "cell_type": "code",
      "source": [
        "# --- Example 2: Looping over keys only (default behavior) ---\n",
        "print(\"\\n--- Profile Fields ---\")\n",
        "for key in student: # This is equivalent to for key in student.keys():\n",
        "    print(f\"Field: {key}\")\n",
        "# Output:\n",
        "# Field: name\n",
        "# Field: college\n",
        "# Field: id\n",
        "\n"
      ],
      "metadata": {
        "colab": {
          "base_uri": "https://localhost:8080/"
        },
        "id": "_W0G4g7GuvGe",
        "outputId": "f8dd835f-9a59-49fc-8cf0-9f802a55142a"
      },
      "execution_count": null,
      "outputs": [
        {
          "output_type": "stream",
          "name": "stdout",
          "text": [
            "\n",
            "--- Profile Fields ---\n",
            "Field: name\n",
            "Field: college\n",
            "Field: id\n"
          ]
        }
      ]
    },
    {
      "cell_type": "code",
      "source": [
        "# --- Example 3: Looping over values only ---\n",
        "print(\"\\n--- Profile Data ---\")\n",
        "for value in student.values():\n",
        "    print(f\"Data: {value}\")\n",
        "# Output:\n",
        "# Data: Rohan\n",
        "# Data: D. J. Sanghvi\n",
        "# Data: 12345\n",
        "\n"
      ],
      "metadata": {
        "colab": {
          "base_uri": "https://localhost:8080/"
        },
        "id": "PccBB1CGuwjR",
        "outputId": "bda8cd3d-3bd8-49e5-9185-09d9ab82781d"
      },
      "execution_count": null,
      "outputs": [
        {
          "output_type": "stream",
          "name": "stdout",
          "text": [
            "\n",
            "--- Profile Data ---\n",
            "Data: Rohan\n",
            "Data: D. J. Sanghvi\n",
            "Data: 12345\n"
          ]
        }
      ]
    },
    {
      "cell_type": "code",
      "source": [
        "# --- Example 4: Accessing value inside a key loop ---\n",
        "# This works, but .items() is more direct and \"Pythonic\".\n",
        "print(\"\\n--- Profile (Alternative Loop) ---\")\n",
        "for key in student:\n",
        "    print(f\"  {key.replace('_', ' ').title()}: {student[key]}\")\n",
        "# Output:\n",
        "#   Name: Rohan\n",
        "#   College: D. J. Sanghvi\n",
        "#   Id: 12345"
      ],
      "metadata": {
        "colab": {
          "base_uri": "https://localhost:8080/"
        },
        "id": "IbYnuuAvuxiR",
        "outputId": "c3a8a10c-6af8-4137-dc2c-714b73240d0e"
      },
      "execution_count": null,
      "outputs": [
        {
          "output_type": "stream",
          "name": "stdout",
          "text": [
            "\n",
            "--- Profile (Alternative Loop) ---\n",
            "  Name: Rohan\n",
            "  College: D. J. Sanghvi\n",
            "  Id: 12345\n"
          ]
        }
      ]
    },
    {
      "cell_type": "markdown",
      "source": [
        "# ***Spot the Bug! 🕵️‍♀️***\n",
        "\n",
        "Find the error(s) in the following code snippets and explain why they are bugs. Then, fix them."
      ],
      "metadata": {
        "id": "a87ma9GZu01n"
      }
    },
    {
      "cell_type": "code",
      "source": [
        "#Bug 1 (List)\n",
        "my_numbers = [10, 20, 30, 40, 50]\n",
        "print(my_numbers[5])"
      ],
      "metadata": {
        "id": "Fk2Ju066uyDC"
      },
      "execution_count": null,
      "outputs": []
    },
    {
      "cell_type": "markdown",
      "source": [
        "**Bug Explanation:**\n",
        "A list in Python is zero-indexed, meaning the first element is at index 0, the second at index 1, and so on. For a list of 5 elements, the valid indices range from 0 to 4. Attempting to access my_numbers[5] is an IndexError because index 5 is out of bounds."
      ],
      "metadata": {
        "id": "EHo0vyYQu7yW"
      }
    },
    {
      "cell_type": "code",
      "source": [
        "my_numbers = [10, 20, 30, 40, 50]\n",
        "print(my_numbers[4]) # To access the last element\n",
        "# OR\n",
        "# print(my_numbers[len(my_numbers) - 1]) # More general way to access the last element"
      ],
      "metadata": {
        "colab": {
          "base_uri": "https://localhost:8080/"
        },
        "id": "7ICBalF7u92-",
        "outputId": "2e304cc0-40dc-4550-8823-328cf5006bb5"
      },
      "execution_count": null,
      "outputs": [
        {
          "output_type": "stream",
          "name": "stdout",
          "text": [
            "50\n"
          ]
        }
      ]
    },
    {
      "cell_type": "code",
      "source": [
        "#Bug 2 (Tuple)\n",
        "coordinates = (10, 20)\n",
        "coordinates.append(30)"
      ],
      "metadata": {
        "id": "4yZ80wY9vBC1"
      },
      "execution_count": null,
      "outputs": []
    },
    {
      "cell_type": "markdown",
      "source": [
        "**Bug Explanation:**\n",
        "Tuples are immutable. This means that once a tuple is created, its elements cannot be changed, added, or removed. The append() method is a list method and does not exist for tuples, leading to an AttributeError.\n",
        "\n",
        "**Fix:**\n",
        "If you need to \"add\" an element, you must create a new tuple."
      ],
      "metadata": {
        "id": "wcXD5UQhvLgW"
      }
    },
    {
      "cell_type": "code",
      "source": [
        "coordinates = (10, 20)\n",
        "new_coordinates = coordinates + (30,) # Create a new tuple by concatenating\n",
        "print(new_coordinates)\n",
        "# If coordinates really needs to be mutable, it should be a list:\n",
        "# coordinates = [10, 20]\n",
        "# coordinates.append(30)"
      ],
      "metadata": {
        "colab": {
          "base_uri": "https://localhost:8080/"
        },
        "id": "WyVakMtXvUKP",
        "outputId": "6d041c64-ace4-4a72-837f-68f7ec902bb3"
      },
      "execution_count": null,
      "outputs": [
        {
          "output_type": "stream",
          "name": "stdout",
          "text": [
            "(10, 20, 30)\n"
          ]
        }
      ]
    },
    {
      "cell_type": "code",
      "source": [
        "#Bug 3 (Set)\n",
        "my_set = {1, 2, 3}\n",
        "my_set[0] = 5"
      ],
      "metadata": {
        "id": "JmEEyxDSvV_u"
      },
      "execution_count": null,
      "outputs": []
    },
    {
      "cell_type": "markdown",
      "source": [
        "**Bug Explanation:**\n",
        "Sets are unordered and unindexed. You cannot access or modify elements in a set using an index like you can with lists or tuples. This will result in a TypeError.\n",
        "\n",
        "**Fix:**\n",
        "To modify a set, you add or remove elements by their value. If you want to change '1' to '5', you must remove '1' and add '5'."
      ],
      "metadata": {
        "id": "QX7e8tlnvd7F"
      }
    },
    {
      "cell_type": "code",
      "source": [
        "my_set = {1, 2, 3}\n",
        "if 1 in my_set:\n",
        "    my_set.remove(1)\n",
        "    my_set.add(5)\n",
        "print(my_set)"
      ],
      "metadata": {
        "colab": {
          "base_uri": "https://localhost:8080/"
        },
        "id": "_IwzdzejviRm",
        "outputId": "f01b4d46-3d2a-4dd9-c66d-f87d1f97a03d"
      },
      "execution_count": null,
      "outputs": [
        {
          "output_type": "stream",
          "name": "stdout",
          "text": [
            "{2, 3, 5}\n"
          ]
        }
      ]
    },
    {
      "cell_type": "code",
      "source": [
        "#Bug 4 (Dictionary)\n",
        "user = {\"name\": \"Alice\", \"age\": 30}\n",
        "print(user[\"city\"])"
      ],
      "metadata": {
        "id": "0MMTO9MOvkEs"
      },
      "execution_count": null,
      "outputs": []
    },
    {
      "cell_type": "markdown",
      "source": [
        "***Bug Explanation:***\n",
        "When accessing a dictionary value using square bracket notation (my_dict[key]), Python will raise a KeyError if the specified key does not exist in the dictionary.\n",
        "\n",
        "***Fix:***\n",
        "You should either check if the key exists before accessing, or use the .get() method which handles non-existent keys gracefully."
      ],
      "metadata": {
        "id": "CLiY4P2Pvq6W"
      }
    },
    {
      "cell_type": "code",
      "source": [
        "user = {\"name\": \"Alice\", \"age\": 30}\n",
        "\n",
        "# Fix 1: Check for key existence\n",
        "if \"city\" in user:\n",
        "    print(user[\"city\"])\n",
        "else:\n",
        "    print(\"City key not found.\")\n",
        "\n",
        "# Fix 2: Use .get() method\n",
        "city = user.get(\"city\")\n",
        "print(f\"User city: {city}\") # This will print 'User city: None'\n",
        "\n",
        "# Fix 3: Use .get() with a default value\n",
        "city_with_default = user.get(\"city\", \"Unknown\")\n",
        "print(f\"User city (with default): {city_with_default}\") # This will print 'User city (with default): Unknown'"
      ],
      "metadata": {
        "colab": {
          "base_uri": "https://localhost:8080/"
        },
        "id": "CqOfS5J2vqmG",
        "outputId": "430898a1-c8b6-4dcd-c2d9-bf2c298fd826"
      },
      "execution_count": null,
      "outputs": [
        {
          "output_type": "stream",
          "name": "stdout",
          "text": [
            "City key not found.\n",
            "User city: None\n",
            "User city (with default): Unknown\n"
          ]
        }
      ]
    },
    {
      "cell_type": "markdown",
      "source": [
        "# ***Guess the Output! 🤔***\n",
        "\n",
        "Predict the output of the following code snippets."
      ],
      "metadata": {
        "id": "956tY5glvzRd"
      }
    },
    {
      "cell_type": "code",
      "source": [
        "data = [10, 20, 30]\n",
        "data.append(40)\n",
        "data.insert(0, 5)\n",
        "data.pop(2)\n",
        "print(data)"
      ],
      "metadata": {
        "colab": {
          "base_uri": "https://localhost:8080/"
        },
        "id": "5qzRUI9jvwMa",
        "outputId": "0d97d2c0-70f6-4075-e945-434e8fe0f1d2"
      },
      "execution_count": null,
      "outputs": [
        {
          "output_type": "stream",
          "name": "stdout",
          "text": [
            "[5, 10, 30, 40]\n"
          ]
        }
      ]
    },
    {
      "cell_type": "markdown",
      "source": [
        "**Prediction:**\n",
        "\n",
        "data starts as [10, 20, 30]\n",
        "\n",
        "data.append(40) makes it [10, 20, 30, 40]\n",
        "\n",
        "data.insert(0, 5) makes it [5, 10, 20, 30, 40]\n",
        "\n",
        "data.pop(2) removes the element at index 2 (which is 20). So data becomes [5, 10, 30, 40]\n",
        "\n",
        "***Final Output:***\n",
        "\n",
        "[5, 10, 30, 40]"
      ],
      "metadata": {
        "id": "0B29AT7gv6nF"
      }
    },
    {
      "cell_type": "code",
      "source": [
        "info = (\"Python\", 3, 10, \"Bootcamp\")\n",
        "part1 = info[0]\n",
        "part2 = info[2:]\n",
        "print(part1, part2)"
      ],
      "metadata": {
        "colab": {
          "base_uri": "https://localhost:8080/"
        },
        "id": "pwrn5minv3m2",
        "outputId": "726b8a19-ce19-44a9-97b2-49147ce50ac3"
      },
      "execution_count": null,
      "outputs": [
        {
          "output_type": "stream",
          "name": "stdout",
          "text": [
            "Python (10, 'Bootcamp')\n"
          ]
        }
      ]
    },
    {
      "cell_type": "markdown",
      "source": [
        "**Prediction:**\n",
        "\n",
        "info is (\"Python\", 3, 10, \"Bootcamp\")\n",
        "\n",
        "part1 = info[0] assigns \"Python\" to part1.\n",
        "\n",
        "part2 = info[2:] slices the tuple from index 2 to the end, resulting in (10, \"Bootcamp\").\n",
        "\n",
        "**Final Output:**\n",
        "\n",
        "Python (10, 'Bootcamp')"
      ],
      "metadata": {
        "id": "40ZN-aZIwAeW"
      }
    },
    {
      "cell_type": "code",
      "source": [
        "s1 = {1, 2, 3, 4}\n",
        "s2 = {3, 4, 5, 6}\n",
        "s3 = s1.union(s2)\n",
        "s4 = s1.intersection(s2)\n",
        "print(s3)\n",
        "print(s4)"
      ],
      "metadata": {
        "colab": {
          "base_uri": "https://localhost:8080/"
        },
        "id": "bIGpPGBZwACz",
        "outputId": "87516aa2-687c-46cb-e3b3-d43a0f4cb673"
      },
      "execution_count": null,
      "outputs": [
        {
          "output_type": "stream",
          "name": "stdout",
          "text": [
            "{1, 2, 3, 4, 5, 6}\n",
            "{3, 4}\n"
          ]
        }
      ]
    },
    {
      "cell_type": "markdown",
      "source": [
        "**Prediction:**\n",
        "\n",
        "s3 = s1.union(s2) combines all unique elements from both sets. {1, 2, 3, 4} union {3, 4, 5, 6} results in {1, 2, 3, 4, 5, 6}.\n",
        "\n",
        "s4 = s1.intersection(s2) finds common elements in both sets. {1, 2, 3, 4} intersection {3, 4, 5, 6} results in {3, 4}.\n",
        "\n",
        "**Final Output:**\n",
        "\n",
        "{1, 2, 3, 4, 5, 6} (order may vary)\n",
        "\n",
        "{3, 4} (order may vary)"
      ],
      "metadata": {
        "id": "K9yQG9WdwJh-"
      }
    },
    {
      "cell_type": "code",
      "source": [
        "student_data = {\"name\": \"Arjun\", \"age\": 20, \"major\": \"CSE\"}\n",
        "student_data[\"age\"] = 21\n",
        "student_data[\"university\"] = \"DJSCE\"\n",
        "print(student_data.get(\"major\", \"N/A\"))\n",
        "print(\"city\" in student_data)"
      ],
      "metadata": {
        "colab": {
          "base_uri": "https://localhost:8080/"
        },
        "id": "NhaVvwi6wG7H",
        "outputId": "c88f6927-4e40-44c4-bf6a-ea1fad8cb907"
      },
      "execution_count": null,
      "outputs": [
        {
          "output_type": "stream",
          "name": "stdout",
          "text": [
            "CSE\n",
            "False\n"
          ]
        }
      ]
    },
    {
      "cell_type": "markdown",
      "source": [
        "***Prediction:***\n",
        "\n",
        "student_data starts as {\"name\": \"Arjun\", \"age\": 20, \"major\": \"CSE\"}.\n",
        "\n",
        "student_data[\"age\"] = 21 updates the value for \"age\" to 21. student_data is now {\"name\": \"Arjun\", \"age\": 21, \"major\": \"CSE\"}.\n",
        "\n",
        "student_data[\"university\"] = \"DJSCE\" adds a new key-value pair. student_data is now {\"name\": \"Arjun\", \"age\": 21, \"major\": \"CSE\", \"university\": \"DJSCE\"}.\n",
        "\n",
        "print(student_data.get(\"major\", \"N/A\")) retrieves the value for \"major\", which is \"CSE\".\n",
        "\n",
        "print(\"city\" in student_data) checks if the key \"city\" exists in student_data. It does not, so it will print False.\n",
        "\n",
        "**Final Output**:\n",
        "\n",
        "CSE\n",
        "\n",
        "False"
      ],
      "metadata": {
        "id": "uxl7jPCxwSUW"
      }
    },
    {
      "cell_type": "markdown",
      "source": [
        "# ***🏋️ Day 3: Real-Life Exercise Questions***\n",
        "\n",
        "(These are the same excellent questions as before, now that you have a much deeper understanding of the theory behind them!)\n",
        "\n",
        "\n",
        "**1. The Ultimate To-Do List Manager (List)**\n",
        "\n",
        "Create a program that simulates a to-do list.\n",
        "\n",
        "Start with an empty list called tasks.\n",
        "\n",
        "Add three tasks (strings) to the list using append().\n",
        "\n",
        "Print the entire list.\n",
        "\n",
        "Mark the second task as complete by removing it using pop().\n",
        "\n",
        "Print a message saying which task you completed and what the remaining tasks are.\n",
        "\n",
        "Finally, add a new high-priority task to the very beginning of the list using insert().\n",
        "\n",
        "Print the final list.\n",
        "\n"
      ],
      "metadata": {
        "id": "Cpxr8pzbwcxt"
      }
    },
    {
      "cell_type": "markdown",
      "source": [
        "**2. The Restaurant Menu (Dictionary)**\n",
        "You are managing a restaurant's menu.\n",
        "\n",
        "Create a dictionary called menu where keys are item names (e.g., \"Pizza\", \"Pasta\", \"Salad\") and values are their prices (e.g., 450.00, 350.50, 200.00).\n",
        "\n",
        "Print the price of \"Pasta\" by accessing it with its key.\n",
        "\n",
        "Add a new item, \"Garlic Bread\", with its price to the menu.\n",
        "\n",
        "The price of \"Pizza\" has increased by 50. Update its value.\n",
        "\n",
        "Use a for loop with .items() to print the entire menu in a clean format, like Pizza: ₹450.00.\n",
        "\n"
      ],
      "metadata": {
        "id": "hdZfbJwRwpm2"
      }
    },
    {
      "cell_type": "markdown",
      "source": [
        "**3. Event Attendee Tracker (Set)**\n",
        "\n",
        "You're organizing two tech workshops, one for \"Python\" and one for \"Web Development.\"\n",
        "\n",
        "Create two sets of attendee names (strings), python_attendees and web_attendees. Have at least one name that is in both sets.\n",
        "\n",
        "A new student, \"Priya\", has joined the Python workshop. Add her to the correct set.\n",
        "\n",
        "Find and print the names of students who are attending both workshops using a set operation (intersection).\n",
        "\n",
        "Find and print the names of all unique students attending either workshop using a set operation (union).\n",
        "\n"
      ],
      "metadata": {
        "id": "PewAjYXSwwuP"
      }
    },
    {
      "cell_type": "markdown",
      "source": [
        "**4. GPS Waypoints (List of Tuples)**\n",
        "\n",
        "You are programming a drone's flight path.\n",
        "\n",
        "Create a list called flight_path.\n",
        "\n",
        "Each item in the list should be a tuple representing a waypoint: (latitude, longitude, altitude_in_meters). Add at least three waypoints. For example: (19.07, 72.87, 100).\n",
        "\n",
        "Use a for loop to iterate through the flight_path.\n",
        "\n",
        "Inside the loop, print each waypoint's details in a user-friendly format like: Waypoint: Lat=19.07, Lon=72.87, Alt=100m.\n",
        "\n"
      ],
      "metadata": {
        "id": "Nd_saeoyw7QT"
      }
    },
    {
      "cell_type": "markdown",
      "source": [
        "**5. Movie Library (Dictionary with Lists)**\n",
        "\n",
        "Create a mini movie library.\n",
        "\n",
        "Create a dictionary called movie_library. The keys should be movie titles.\n",
        "The value for each movie should be another dictionary with keys like \"year\", \"director\", and \"genres\" (the value of \"genres\" should be a list of strings).\n",
        "\n",
        "Create entries for at least two movies.\n",
        "\n",
        "Print the director of one of your movies.\n",
        "\n",
        "Print the list of genres for another movie.\n",
        "\n",
        "Add a new genre to one of your movies' genre list.\n",
        "\n"
      ],
      "metadata": {
        "id": "HfY7e0EXxDD6"
      }
    },
    {
      "cell_type": "markdown",
      "source": [
        "**6. Simple E-Commerce Cart (The Grand Finale!)**\n",
        "\n",
        "Simulate a user adding items to a shopping cart.\n",
        "\n",
        "Create a list called cart which will store dictionaries.\n",
        "\n",
        "Each item in the cart will be a dictionary with keys: \"item_name\", \"price\", and \"quantity\".\n",
        "\n",
        "Add three different items to your cart list.\n",
        "\n",
        "Write a for loop that iterates through the cart. Inside the loop, calculate the total cost for each item (price * quantity).\n",
        "\n",
        "Keep a running total of the final bill.\n",
        "\n",
        "After the loop, print the total cost of the shopping cart, formatted nicely."
      ],
      "metadata": {
        "id": "jcR8c8jpxMDW"
      }
    }
  ]
}